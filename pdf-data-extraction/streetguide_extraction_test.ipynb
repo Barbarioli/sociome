{
 "cells": [
  {
   "cell_type": "code",
   "execution_count": 1,
   "metadata": {
    "collapsed": true,
    "pycharm": {
     "name": "#%%\n"
    }
   },
   "outputs": [],
   "source": [
    "import PyPDF2"
   ]
  },
  {
   "cell_type": "code",
   "execution_count": 2,
   "outputs": [],
   "source": [
    "pdfFileObject = open('streetguide.pdf','rb')"
   ],
   "metadata": {
    "collapsed": false,
    "pycharm": {
     "name": "#%%\n"
    }
   }
  },
  {
   "cell_type": "code",
   "execution_count": 3,
   "outputs": [],
   "source": [
    "pdfReader = PyPDF2.PdfFileReader(pdfFileObject)"
   ],
   "metadata": {
    "collapsed": false,
    "pycharm": {
     "name": "#%%\n"
    }
   }
  },
  {
   "cell_type": "code",
   "execution_count": 4,
   "outputs": [
    {
     "name": "stdout",
     "output_type": "stream",
     "text": [
      "21\n"
     ]
    }
   ],
   "source": [
    "print(pdfReader.numPages)"
   ],
   "metadata": {
    "collapsed": false,
    "pycharm": {
     "name": "#%%\n"
    }
   }
  },
  {
   "cell_type": "code",
   "execution_count": 21,
   "outputs": [
    {
     "name": "stdout",
     "output_type": "stream",
     "text": [
      "CITY CLERK SUSANA MENDOZA'S CHICAGO STREET GUIDE\n",
      "CHICAGO STREET GUIDE\n",
      "ALPHABETICAL STREETS\n",
      "A\n",
      "Abbott Ave (S) 21 oW ...................... 9041 S to 9099 S\n",
      "Aberdeen St\n",
      "(N&S) 11 oo W........... 799 N to 12299 s\n",
      "Academy PI (N&S) 81 2 W ......................•• 99 N to 99 5\n",
      "Achsah Bond Dr (E) 1250 5 ................ 500 E to 800 E\n",
      "Ada\n",
      "St (N&S) 1324 W .................. 1699 N to 12299 S\n",
      "Adams\n",
      "St (E&W 200 S......................... 99 E to 5599 W\n",
      "Adams Blvd (W) 144 5 ................ 5600W to5999W\n",
      "Addi son St (W) 3600 N ................. 500 W to 8399 W\n",
      "Administration Dr\n",
      "(E) 5620 S ............ 720 Eto 799 E\n",
      "Agatite\n",
      "Ave (W) 4432 N ................ 800 W to 8699 W\n",
      "Ainslie\n",
      "St (W) 4900 N •.................... 804 W to 5899 W\n",
      "Albany Dr\n",
      "(N) 3100 W .................... 1542 N to 1599 N\n",
      "Albany Ave\n",
      "(N&S) 31 00 W .......... 7 599 N to 11299 S\n",
      "Albion Ave(W) 6600 N\n",
      ".............. ..1000W to 7299W\n",
      "Aldine Ave (W) 3300 N\n",
      "................... . 400 W to 899 W\n",
      "Alexander\n",
      "St (W) 2246 S................. 200 W to 299 W\n",
      "Algonquin\n",
      "Ave (N) 5600W .......... 6416 N to 6999 N\n",
      "All\n",
      "en Ave (N) 3500 W ......................... 2900 N 3099 N\n",
      "Allport\n",
      "St (S) 1234 W ........................ 1600 S to 2199 S\n",
      "Alta\n",
      "Vista Terrace (N) 1054 W ..... 3800 N to 3899 N\n",
      "Altgeld\n",
      "St (W) 2500 N ................... 800 W to 7199 W\n",
      "Anchor Dr\n",
      "(N) 2728 W.................. 3200 N to 3261 N\n",
      "Ancona\n",
      "St (W) 654 N ...................... 800 W to 1399 W\n",
      "Ann Lurie\n",
      "PI (W) 4220 5 .............. 4000 W to 4557 W\n",
      "Anson\n",
      "PI (W) 418 N .................... 2200Wto2299W\n",
      "Anthon Ave (N) 8534 W ............... 4500 N to 4799 N\n",
      "Anthony\n",
      "Ave. 400 E ......... 6800 5 to 3000 E at 9400 S\n",
      "Arcade\n",
      "PI (W) 20 $ ........................... 100Wto 1799W\n",
      "Arch\n",
      "St (5) 1316 W ............................ 2900 S to 3099 S\n",
      "Archer Ave ............................ .................. 1 W to 7160 W\n",
      "Ardmore\n",
      "Ave (W) 5800 N ............. 900 W to 7899 W\n",
      "Argyle\n",
      "St (W) 5000 N __ ............. 820 W to 8613 W\n",
      "Arlington\n",
      "PI (W) 2444 N .................. 400 W to 699 W\n",
      "Armitage\n",
      "Ave (W) 2000 N............. 300 W to 7199 W\n",
      "Armour\n",
      "St (N) 1500 W....................... 400 N to 799 N\n",
      "Armstrong\n",
      "Ave (W) 5660 N ....... 5200Wto 5551 W\n",
      "Artesian\n",
      "Ave (N&Sl 2432 W...... 7499 N to 11899 S\n",
      "Arthington\n",
      "St (W) 900 5 ............. 1056 W to 5999 W\n",
      "Arthur Ave (W) 6500 N\n",
      "................ 1200Wto 7199W\n",
      "Asher\n",
      "St (W) 12244 5................... 1534 W to 1599 W\n",
      "Ashland Blvd (N) 1600W .............. 6800 N to 7438 N\n",
      "Ashland\n",
      "Ave (N&Sl 1600 W . ....... 7799 N to 12299 S\n",
      "Astor\n",
      "St (N) 50 [ ............................... 1200 N to 1599 N\n",
      "Attrill\n",
      "St (W) 2200 ,N ..................... 2600 W to 2699 W\n",
      "Augusta\n",
      "Blvd (W) 1 000 N............ 1200 W to 5999 W\n",
      "Austin\n",
      "Blvd (N&S) 6000 W ............. 1599 N to 1 1 99 S\n",
      "Austin\n",
      "Ave (N&S) 6000 W .............. 6199 N to 6499 S\n",
      "Avalon\n",
      "Ave (S) 1232 E..................... .7600 S to 9899 S\n",
      "Avenue B\n",
      "(5) 4032 E .................... 10500 Sto 11210 S\n",
      "Avenue C\n",
      "(S) 4000 E .................... 10600 Sto 11199 S\n",
      "Avenue D\n",
      "(S) 3932 E .................... 1 0600 S to 11199 s\n",
      "Avenue E (S} 3900 E ................... 10400 S to 11199 S\n",
      "Avenue F\n",
      "(5) 3832 E.................... 10142 S to 13259 S\n",
      "Avenue G Dr\n",
      "(S) 3800 E ................ 9722 Sto 10199 S\n",
      "Avenue G\n",
      "(S) 3800 E .................... 9800 S to 11 699 S\n",
      "Avenue H\n",
      "(5) 3732 E ...................... 9700 5 to 11 699 5\n",
      "Avenue\n",
      "J (S) 3700 E ...................... 9600 5 to 11 799 s\n",
      "Avenue K (S) 3624 E................... 13300 S to 1 3599 S\n",
      "Avenue\n",
      "l (S) 3600 E .................... 9500 S to 13599 S\n",
      "Avenue M\n",
      "(S) 3532 E.................... 9500 S to 13599 S\n",
      "Avenue N\n",
      "(S) 3500 E .................... 9500 S to 13541 S\n",
      "Avenue\n",
      "0 (5) 3432 E .................... 8700 S to 13799 s\n",
      "Avers Ave (N&S) 3832 W ............ 6399 N to 1 0838 s\n",
      "Avondale Ave 1800 W..................................... ................. ..\n",
      "........................................... 2026 N to 7800 W at 6 794 N\n",
      "B\n",
      "Baker Ave 3014 E .................................... .......................... .\n",
      ".............................................. 8300 S to 3158 Eat 8436 S\n",
      "Balbo\n",
      "Ave (E) 700 S ........................... .......... 1 E to 99 E\n",
      "Balbo\n",
      "Dr (E) 700 S .......................... ........ 1 00 E to 399 E\n",
      "Baldwin\n",
      "Ave (Sl 1 900 E .................. 7 400 S to 7 499 S\n",
      "Balmoral Ave (W) 5400 N ........... 1 000 W to 8399 W\n",
      "Baltimore\n",
      "St. 2808 E ............... ........... .................... .......... ..\n",
      "............................... .......... 8300 S to 3124 Eat 13515 S*\n",
      "Banks St (E) 1334 N ..................................... 1 E to 81 E\n",
      "Barry\n",
      "Ave (W) 31 00 N..................... 314 Wto 7599W\n",
      "BayCourt (N)2708W\n",
      "................... 3200Nto3261 N\n",
      "Beac h Ave (W) 1422 N................ 1600 W to 3599 W\n",
      "Beacon St (N) 1338 W.................... 4400 N to 4799 N\n",
      "Beaubien\n",
      "Cou rt (N) 120 E................ 140 N to 199 N\n",
      "Belden\n",
      "Ave (W) 2300 N ................ 300W to 7199W\n",
      "Bell Ave (N&S) 2232 W .............. 7599 N to 1 1899 S\n",
      "20\n"
     ]
    }
   ],
   "source": [
    "l = []\n",
    "for i in range(pdfReader.numPages):\n",
    "    pageObj = pdfReader.getPage(i)\n",
    "    l.append(pageObj.extract_text().strip())\n",
    "\n",
    "l = list(map(lambda x: x.split('\\n'), l))\n",
    "l = l[0]\n",
    "\n",
    "for i in range(len(l)):\n",
    "    l[i] = l[i].strip()\n",
    "\n",
    "for line in l:\n",
    "    print(line)"
   ],
   "metadata": {
    "collapsed": false,
    "pycharm": {
     "name": "#%%\n"
    }
   }
  },
  {
   "cell_type": "code",
   "execution_count": null,
   "outputs": [],
   "source": [],
   "metadata": {
    "collapsed": false,
    "pycharm": {
     "name": "#%%\n"
    }
   }
  }
 ],
 "metadata": {
  "kernelspec": {
   "display_name": "Python 3",
   "language": "python",
   "name": "python3"
  },
  "language_info": {
   "codemirror_mode": {
    "name": "ipython",
    "version": 2
   },
   "file_extension": ".py",
   "mimetype": "text/x-python",
   "name": "python",
   "nbconvert_exporter": "python",
   "pygments_lexer": "ipython2",
   "version": "2.7.6"
  }
 },
 "nbformat": 4,
 "nbformat_minor": 0
}