{
  "nbformat": 4,
  "nbformat_minor": 0,
  "metadata": {
    "colab": {
      "name": "energy_use.ipynb",
      "provenance": []
    },
    "kernelspec": {
      "name": "python3",
      "display_name": "Python 3"
    },
    "language_info": {
      "name": "python"
    }
  },
  "cells": [
    {
      "cell_type": "markdown",
      "source": [
        "# Energy Use"
      ],
      "metadata": {
        "id": "z2g4z3EpBxps"
      }
    },
    {
      "cell_type": "markdown",
      "source": [
        "## Description"
      ],
      "metadata": {
        "id": "wy3UsKMIqS86"
      }
    },
    {
      "cell_type": "markdown",
      "source": [
        "Origin: Chicago data portal (https://data.cityofchicago.org/)\n",
        "\n",
        "Last updated: xx/xx/xxxx"
      ],
      "metadata": {
        "id": "6EYMPc_fqVVe"
      }
    },
    {
      "cell_type": "markdown",
      "source": [
        "## Packages (Python)"
      ],
      "metadata": {
        "id": "pUhSmjINiL-E"
      }
    },
    {
      "cell_type": "code",
      "execution_count": null,
      "metadata": {
        "id": "muLa3XYLfgdw",
        "colab": {
          "base_uri": "https://localhost:8080/"
        },
        "outputId": "2fb005cc-af79-4412-99bc-84bdecf5643b"
      },
      "outputs": [
        {
          "output_type": "stream",
          "name": "stdout",
          "text": [
            "Looking in indexes: https://pypi.org/simple, https://us-python.pkg.dev/colab-wheels/public/simple/\n",
            "Requirement already satisfied: geopandas in /usr/local/lib/python3.7/dist-packages (0.10.2)\n",
            "Requirement already satisfied: pandas>=0.25.0 in /usr/local/lib/python3.7/dist-packages (from geopandas) (1.3.5)\n",
            "Requirement already satisfied: fiona>=1.8 in /usr/local/lib/python3.7/dist-packages (from geopandas) (1.8.21)\n",
            "Requirement already satisfied: pyproj>=2.2.0 in /usr/local/lib/python3.7/dist-packages (from geopandas) (3.2.1)\n",
            "Requirement already satisfied: shapely>=1.6 in /usr/local/lib/python3.7/dist-packages (from geopandas) (1.8.2)\n",
            "Requirement already satisfied: certifi in /usr/local/lib/python3.7/dist-packages (from fiona>=1.8->geopandas) (2022.6.15)\n",
            "Requirement already satisfied: setuptools in /usr/local/lib/python3.7/dist-packages (from fiona>=1.8->geopandas) (57.4.0)\n",
            "Requirement already satisfied: munch in /usr/local/lib/python3.7/dist-packages (from fiona>=1.8->geopandas) (2.5.0)\n",
            "Requirement already satisfied: attrs>=17 in /usr/local/lib/python3.7/dist-packages (from fiona>=1.8->geopandas) (21.4.0)\n",
            "Requirement already satisfied: click-plugins>=1.0 in /usr/local/lib/python3.7/dist-packages (from fiona>=1.8->geopandas) (1.1.1)\n",
            "Requirement already satisfied: cligj>=0.5 in /usr/local/lib/python3.7/dist-packages (from fiona>=1.8->geopandas) (0.7.2)\n",
            "Requirement already satisfied: six>=1.7 in /usr/local/lib/python3.7/dist-packages (from fiona>=1.8->geopandas) (1.15.0)\n",
            "Requirement already satisfied: click>=4.0 in /usr/local/lib/python3.7/dist-packages (from fiona>=1.8->geopandas) (7.1.2)\n",
            "Requirement already satisfied: pytz>=2017.3 in /usr/local/lib/python3.7/dist-packages (from pandas>=0.25.0->geopandas) (2022.1)\n",
            "Requirement already satisfied: python-dateutil>=2.7.3 in /usr/local/lib/python3.7/dist-packages (from pandas>=0.25.0->geopandas) (2.8.2)\n",
            "Requirement already satisfied: numpy>=1.17.3 in /usr/local/lib/python3.7/dist-packages (from pandas>=0.25.0->geopandas) (1.21.6)\n"
          ]
        }
      ],
      "source": [
        "!pip install geopandas"
      ]
    },
    {
      "cell_type": "code",
      "source": [
        "!pip install geojson"
      ],
      "metadata": {
        "id": "dNr5LDSugeY-",
        "colab": {
          "base_uri": "https://localhost:8080/"
        },
        "outputId": "071ea353-a6d1-405e-840d-4f8f7217787e"
      },
      "execution_count": null,
      "outputs": [
        {
          "output_type": "stream",
          "name": "stdout",
          "text": [
            "Looking in indexes: https://pypi.org/simple, https://us-python.pkg.dev/colab-wheels/public/simple/\n",
            "Requirement already satisfied: geojson in /usr/local/lib/python3.7/dist-packages (2.5.0)\n"
          ]
        }
      ]
    },
    {
      "cell_type": "code",
      "source": [
        "#standard libraries\n",
        "import pandas as pd\n",
        "import numpy as np\n",
        "import matplotlib.pyplot as plt\n",
        "import cufflinks as cf\n",
        "import plotly\n",
        "import plotly.offline as py\n",
        "import plotly.graph_objs as go\n",
        "\n",
        "import geopandas as gpd\n",
        "import geopy as gp\n",
        "import shapely\n",
        "import geojson\n",
        "#import rtree\n",
        "#import pygeos\n",
        "#import fiona"
      ],
      "metadata": {
        "id": "VB5WIQyViieZ"
      },
      "execution_count": null,
      "outputs": []
    },
    {
      "cell_type": "code",
      "source": [
        "# Preprocessing files\n",
        "from preprocessing import *"
      ],
      "metadata": {
        "id": "ULNwYDr2i7Z-"
      },
      "execution_count": null,
      "outputs": []
    },
    {
      "cell_type": "markdown",
      "source": [
        "## Chicago Polygon "
      ],
      "metadata": {
        "id": "yqFBJXRfjrVs"
      }
    },
    {
      "cell_type": "code",
      "source": [
        "# Reading file that must be uploaded\n",
        "\n",
        "chicago = gpd.read_file('chicago.shp')\n",
        "chicago.plot()"
      ],
      "metadata": {
        "colab": {
          "base_uri": "https://localhost:8080/",
          "height": 283
        },
        "id": "DMS9I2V7kw8F",
        "outputId": "2979e334-2083-41fa-eae5-8bca6d49c9f7"
      },
      "execution_count": null,
      "outputs": [
        {
          "output_type": "execute_result",
          "data": {
            "text/plain": [
              "<matplotlib.axes._subplots.AxesSubplot at 0x7fe43a748090>"
            ]
          },
          "metadata": {},
          "execution_count": 10
        },
        {
          "output_type": "display_data",
          "data": {
            "text/plain": [
              "<Figure size 432x288 with 1 Axes>"
            ],
            "image/png": "[encoded data removed]"
          },
          "metadata": {
            "needs_background": "light"
          }
        }
      ]
    },
    {
      "cell_type": "markdown",
      "source": [
        "## Data processing"
      ],
      "metadata": {
        "id": "VB_mxejqlT32"
      }
    },
    {
      "cell_type": "code",
      "metadata": {
        "id": "XQ23rLudcCq3"
      },
      "source": [
        "url = \"https://data.cityofchicago.org/resource/jn94-it7m.json\"\n",
        "energy_use = pd.read_json(url)"
      ],
      "execution_count": null,
      "outputs": []
    },
    {
      "cell_type": "code",
      "metadata": {
        "colab": {
          "base_uri": "https://localhost:8080/",
          "height": 486
        },
        "id": "MtiuEVfecJXe",
        "outputId": "04e72da3-0604-44ea-930a-fe714f260d37"
      },
      "source": [
        "energy_use.head()"
      ],
      "execution_count": null,
      "outputs": [
        {
          "output_type": "execute_result",
          "data": {
            "text/html": [
              "<div>\n",
              "<style scoped>\n",
              "    .dataframe tbody tr th:only-of-type {\n",
              "        vertical-align: middle;\n",
              "    }\n",
              "\n",
              "    .dataframe tbody tr th {\n",
              "        vertical-align: top;\n",
              "    }\n",
              "\n",
              "    .dataframe thead th {\n",
              "        text-align: right;\n",
              "    }\n",
              "</style>\n",
              "<table border=\"1\" class=\"dataframe\">\n",
              "  <thead>\n",
              "    <tr style=\"text-align: right;\">\n",
              "      <th></th>\n",
              "      <th>location</th>\n",
              "      <th>benchmarking_id</th>\n",
              "      <th>address</th>\n",
              "      <th>chicago_energy_rating</th>\n",
              "      <th>latitude</th>\n",
              "      <th>exempt_from_chicago_energy_rating</th>\n",
              "      <th>community_area</th>\n",
              "      <th>longitude</th>\n",
              "      <th>property_name</th>\n",
              "      <th>data_year</th>\n",
              "      <th>reporting_status</th>\n",
              "      <th>zip_code</th>\n",
              "      <th>number_of_buildings</th>\n",
              "      <th>primary_property_type_epa_calculated</th>\n",
              "      <th>site_eui_kbtu_sq_ft</th>\n",
              "      <th>property_gross_floor_area_epa_calculated_buildings_sq_ft</th>\n",
              "      <th>natural_gas_use_kbtu</th>\n",
              "      <th>year_built</th>\n",
              "      <th>electricity_use_grid_purchase_and_generated_from_onsite_renewable_systems_kbtu</th>\n",
              "      <th>energy_star_score</th>\n",
              "      <th>weather_normalized_site_eui_kbtu_sq_ft</th>\n",
              "      <th>source_eui_kbtu_sq_ft</th>\n",
              "      <th>water_use_kgal</th>\n",
              "      <th>total_ghg_emissions_metric_tons_co2e</th>\n",
              "      <th>ghg_intensity_metric_tons_co2e_sq_ft</th>\n",
              "      <th>district_chilled_water_use_kbtu</th>\n",
              "      <th>district_steam_use_kbtu</th>\n",
              "    </tr>\n",
              "  </thead>\n",
              "  <tbody>\n",
              "    <tr>\n",
              "      <th>0</th>\n",
              "      <td>{'latitude': '41.70649646', 'needs_recoding': ...</td>\n",
              "      <td>159005</td>\n",
              "      <td>821 E 103rd St</td>\n",
              "      <td>0.0</td>\n",
              "      <td>41.706496</td>\n",
              "      <td>False</td>\n",
              "      <td>PULLMAN</td>\n",
              "      <td>-87.602690</td>\n",
              "      <td>Corliss HS -CPS</td>\n",
              "      <td>2019</td>\n",
              "      <td>Not Submitted</td>\n",
              "      <td>NaN</td>\n",
              "      <td>NaN</td>\n",
              "      <td>NaN</td>\n",
              "      <td>NaN</td>\n",
              "      <td>NaN</td>\n",
              "      <td>NaN</td>\n",
              "      <td>NaN</td>\n",
              "      <td>NaN</td>\n",
              "      <td>NaN</td>\n",
              "      <td>NaN</td>\n",
              "      <td>NaN</td>\n",
              "      <td>NaN</td>\n",
              "      <td>NaN</td>\n",
              "      <td>NaN</td>\n",
              "      <td>NaN</td>\n",
              "      <td>NaN</td>\n",
              "    </tr>\n",
              "    <tr>\n",
              "      <th>1</th>\n",
              "      <td>{'latitude': '41.886495', 'needs_recoding': Fa...</td>\n",
              "      <td>256568</td>\n",
              "      <td>363 E Wacker Dr</td>\n",
              "      <td>0.0</td>\n",
              "      <td>41.886495</td>\n",
              "      <td>False</td>\n",
              "      <td>Loop</td>\n",
              "      <td>-87.618105</td>\n",
              "      <td>Vista Tower</td>\n",
              "      <td>2019</td>\n",
              "      <td>Not Submitted</td>\n",
              "      <td>NaN</td>\n",
              "      <td>NaN</td>\n",
              "      <td>NaN</td>\n",
              "      <td>NaN</td>\n",
              "      <td>NaN</td>\n",
              "      <td>NaN</td>\n",
              "      <td>NaN</td>\n",
              "      <td>NaN</td>\n",
              "      <td>NaN</td>\n",
              "      <td>NaN</td>\n",
              "      <td>NaN</td>\n",
              "      <td>NaN</td>\n",
              "      <td>NaN</td>\n",
              "      <td>NaN</td>\n",
              "      <td>NaN</td>\n",
              "      <td>NaN</td>\n",
              "    </tr>\n",
              "    <tr>\n",
              "      <th>2</th>\n",
              "      <td>{'latitude': '41.75582921', 'needs_recoding': ...</td>\n",
              "      <td>100393</td>\n",
              "      <td>7601 S Cicero Ave</td>\n",
              "      <td>NaN</td>\n",
              "      <td>41.755829</td>\n",
              "      <td>True</td>\n",
              "      <td>WEST LAWN</td>\n",
              "      <td>-87.736993</td>\n",
              "      <td>Ford City Mall</td>\n",
              "      <td>2019</td>\n",
              "      <td>Submitted</td>\n",
              "      <td>60652</td>\n",
              "      <td>1.0</td>\n",
              "      <td>Enclosed Mall</td>\n",
              "      <td>144.1</td>\n",
              "      <td>864923.0</td>\n",
              "      <td>11780942.4</td>\n",
              "      <td>1950.0</td>\n",
              "      <td>112895334.8</td>\n",
              "      <td>NaN</td>\n",
              "      <td>NaN</td>\n",
              "      <td>NaN</td>\n",
              "      <td>NaN</td>\n",
              "      <td>NaN</td>\n",
              "      <td>NaN</td>\n",
              "      <td>NaN</td>\n",
              "      <td>NaN</td>\n",
              "    </tr>\n",
              "    <tr>\n",
              "      <th>3</th>\n",
              "      <td>{'latitude': '41.75629268', 'needs_recoding': ...</td>\n",
              "      <td>100395</td>\n",
              "      <td>7500 S Pulaski Ave</td>\n",
              "      <td>0.0</td>\n",
              "      <td>41.756293</td>\n",
              "      <td>False</td>\n",
              "      <td>WEST LAWN</td>\n",
              "      <td>-87.722240</td>\n",
              "      <td>Daley</td>\n",
              "      <td>2019</td>\n",
              "      <td>Not Submitted</td>\n",
              "      <td>NaN</td>\n",
              "      <td>NaN</td>\n",
              "      <td>NaN</td>\n",
              "      <td>NaN</td>\n",
              "      <td>NaN</td>\n",
              "      <td>NaN</td>\n",
              "      <td>NaN</td>\n",
              "      <td>NaN</td>\n",
              "      <td>NaN</td>\n",
              "      <td>NaN</td>\n",
              "      <td>NaN</td>\n",
              "      <td>NaN</td>\n",
              "      <td>NaN</td>\n",
              "      <td>NaN</td>\n",
              "      <td>NaN</td>\n",
              "      <td>NaN</td>\n",
              "    </tr>\n",
              "    <tr>\n",
              "      <th>4</th>\n",
              "      <td>{'latitude': '42.01036185', 'needs_recoding': ...</td>\n",
              "      <td>100984</td>\n",
              "      <td>1604 1610 W SHERWIN AVE</td>\n",
              "      <td>0.0</td>\n",
              "      <td>42.010362</td>\n",
              "      <td>False</td>\n",
              "      <td>ROGERS PARK</td>\n",
              "      <td>-87.668298</td>\n",
              "      <td>1604 1610 W SHERWIN AVE</td>\n",
              "      <td>2019</td>\n",
              "      <td>Not Submitted</td>\n",
              "      <td>NaN</td>\n",
              "      <td>NaN</td>\n",
              "      <td>NaN</td>\n",
              "      <td>NaN</td>\n",
              "      <td>NaN</td>\n",
              "      <td>NaN</td>\n",
              "      <td>NaN</td>\n",
              "      <td>NaN</td>\n",
              "      <td>NaN</td>\n",
              "      <td>NaN</td>\n",
              "      <td>NaN</td>\n",
              "      <td>NaN</td>\n",
              "      <td>NaN</td>\n",
              "      <td>NaN</td>\n",
              "      <td>NaN</td>\n",
              "      <td>NaN</td>\n",
              "    </tr>\n",
              "  </tbody>\n",
              "</table>\n",
              "</div>"
            ],
            "text/plain": [
              "                                            location  ...  district_steam_use_kbtu\n",
              "0  {'latitude': '41.70649646', 'needs_recoding': ...  ...                      NaN\n",
              "1  {'latitude': '41.886495', 'needs_recoding': Fa...  ...                      NaN\n",
              "2  {'latitude': '41.75582921', 'needs_recoding': ...  ...                      NaN\n",
              "3  {'latitude': '41.75629268', 'needs_recoding': ...  ...                      NaN\n",
              "4  {'latitude': '42.01036185', 'needs_recoding': ...  ...                      NaN\n",
              "\n",
              "[5 rows x 27 columns]"
            ]
          },
          "metadata": {},
          "execution_count": 62
        }
      ]
    },
    {
      "cell_type": "code",
      "metadata": {
        "colab": {
          "base_uri": "https://localhost:8080/",
          "height": 320
        },
        "id": "ucOSlOrJvD93",
        "outputId": "659eff49-19d8-4f2b-be51-e3e191dd03df"
      },
      "source": [
        "energy_use.describe()"
      ],
      "execution_count": null,
      "outputs": [
        {
          "output_type": "execute_result",
          "data": {
            "text/html": [
              "<div>\n",
              "<style scoped>\n",
              "    .dataframe tbody tr th:only-of-type {\n",
              "        vertical-align: middle;\n",
              "    }\n",
              "\n",
              "    .dataframe tbody tr th {\n",
              "        vertical-align: top;\n",
              "    }\n",
              "\n",
              "    .dataframe thead th {\n",
              "        text-align: right;\n",
              "    }\n",
              "</style>\n",
              "<table border=\"1\" class=\"dataframe\">\n",
              "  <thead>\n",
              "    <tr style=\"text-align: right;\">\n",
              "      <th></th>\n",
              "      <th>benchmarking_id</th>\n",
              "      <th>chicago_energy_rating</th>\n",
              "      <th>latitude</th>\n",
              "      <th>longitude</th>\n",
              "      <th>data_year</th>\n",
              "      <th>number_of_buildings</th>\n",
              "      <th>site_eui_kbtu_sq_ft</th>\n",
              "      <th>property_gross_floor_area_epa_calculated_buildings_sq_ft</th>\n",
              "      <th>natural_gas_use_kbtu</th>\n",
              "      <th>year_built</th>\n",
              "      <th>electricity_use_grid_purchase_and_generated_from_onsite_renewable_systems_kbtu</th>\n",
              "      <th>energy_star_score</th>\n",
              "      <th>weather_normalized_site_eui_kbtu_sq_ft</th>\n",
              "      <th>source_eui_kbtu_sq_ft</th>\n",
              "      <th>water_use_kgal</th>\n",
              "      <th>total_ghg_emissions_metric_tons_co2e</th>\n",
              "      <th>ghg_intensity_metric_tons_co2e_sq_ft</th>\n",
              "      <th>district_chilled_water_use_kbtu</th>\n",
              "      <th>district_steam_use_kbtu</th>\n",
              "    </tr>\n",
              "  </thead>\n",
              "  <tbody>\n",
              "    <tr>\n",
              "      <th>count</th>\n",
              "      <td>1000.000000</td>\n",
              "      <td>920.000000</td>\n",
              "      <td>998.000000</td>\n",
              "      <td>998.000000</td>\n",
              "      <td>1000.0</td>\n",
              "      <td>677.000000</td>\n",
              "      <td>720.000000</td>\n",
              "      <td>6.830000e+02</td>\n",
              "      <td>6.490000e+02</td>\n",
              "      <td>683.000000</td>\n",
              "      <td>7.200000e+02</td>\n",
              "      <td>614.00000</td>\n",
              "      <td>434.000000</td>\n",
              "      <td>440.000000</td>\n",
              "      <td>1.040000e+02</td>\n",
              "      <td>395.000000</td>\n",
              "      <td>395.000000</td>\n",
              "      <td>2.200000e+01</td>\n",
              "      <td>9.000000e+00</td>\n",
              "    </tr>\n",
              "    <tr>\n",
              "      <th>mean</th>\n",
              "      <td>114422.582000</td>\n",
              "      <td>2.130435</td>\n",
              "      <td>41.887645</td>\n",
              "      <td>-87.651950</td>\n",
              "      <td>2019.0</td>\n",
              "      <td>1.290990</td>\n",
              "      <td>101.764583</td>\n",
              "      <td>3.610282e+05</td>\n",
              "      <td>1.601003e+07</td>\n",
              "      <td>1962.579795</td>\n",
              "      <td>1.972475e+07</td>\n",
              "      <td>60.90228</td>\n",
              "      <td>102.481106</td>\n",
              "      <td>186.392045</td>\n",
              "      <td>4.991416e+05</td>\n",
              "      <td>4416.759494</td>\n",
              "      <td>10.820506</td>\n",
              "      <td>3.301482e+07</td>\n",
              "      <td>2.759796e+07</td>\n",
              "    </tr>\n",
              "    <tr>\n",
              "      <th>std</th>\n",
              "      <td>22403.749921</td>\n",
              "      <td>1.559431</td>\n",
              "      <td>0.067753</td>\n",
              "      <td>0.044804</td>\n",
              "      <td>0.0</td>\n",
              "      <td>2.700996</td>\n",
              "      <td>76.035867</td>\n",
              "      <td>6.578861e+05</td>\n",
              "      <td>4.015014e+07</td>\n",
              "      <td>34.498553</td>\n",
              "      <td>5.513759e+07</td>\n",
              "      <td>26.02791</td>\n",
              "      <td>82.153483</td>\n",
              "      <td>166.535880</td>\n",
              "      <td>3.887669e+06</td>\n",
              "      <td>12958.839127</td>\n",
              "      <td>10.133400</td>\n",
              "      <td>7.758904e+07</td>\n",
              "      <td>4.134044e+07</td>\n",
              "    </tr>\n",
              "    <tr>\n",
              "      <th>min</th>\n",
              "      <td>100001.000000</td>\n",
              "      <td>0.000000</td>\n",
              "      <td>41.651404</td>\n",
              "      <td>-87.844645</td>\n",
              "      <td>2019.0</td>\n",
              "      <td>1.000000</td>\n",
              "      <td>13.700000</td>\n",
              "      <td>3.845600e+04</td>\n",
              "      <td>5.300000e+03</td>\n",
              "      <td>1884.000000</td>\n",
              "      <td>5.379790e+04</td>\n",
              "      <td>1.00000</td>\n",
              "      <td>14.600000</td>\n",
              "      <td>19.300000</td>\n",
              "      <td>9.000000e-01</td>\n",
              "      <td>66.000000</td>\n",
              "      <td>1.000000</td>\n",
              "      <td>1.558674e+06</td>\n",
              "      <td>8.347135e+05</td>\n",
              "    </tr>\n",
              "    <tr>\n",
              "      <th>25%</th>\n",
              "      <td>102279.750000</td>\n",
              "      <td>0.000000</td>\n",
              "      <td>41.868632</td>\n",
              "      <td>-87.666568</td>\n",
              "      <td>2019.0</td>\n",
              "      <td>1.000000</td>\n",
              "      <td>63.075000</td>\n",
              "      <td>6.954300e+04</td>\n",
              "      <td>3.434230e+06</td>\n",
              "      <td>1928.000000</td>\n",
              "      <td>1.592464e+06</td>\n",
              "      <td>43.25000</td>\n",
              "      <td>63.200000</td>\n",
              "      <td>110.600000</td>\n",
              "      <td>1.929650e+03</td>\n",
              "      <td>540.650000</td>\n",
              "      <td>6.200000</td>\n",
              "      <td>7.742332e+06</td>\n",
              "      <td>4.959146e+06</td>\n",
              "    </tr>\n",
              "    <tr>\n",
              "      <th>50%</th>\n",
              "      <td>105988.000000</td>\n",
              "      <td>2.500000</td>\n",
              "      <td>41.887967</td>\n",
              "      <td>-87.638730</td>\n",
              "      <td>2019.0</td>\n",
              "      <td>1.000000</td>\n",
              "      <td>86.500000</td>\n",
              "      <td>1.188900e+05</td>\n",
              "      <td>5.877200e+06</td>\n",
              "      <td>1970.000000</td>\n",
              "      <td>3.965548e+06</td>\n",
              "      <td>66.00000</td>\n",
              "      <td>85.150000</td>\n",
              "      <td>146.900000</td>\n",
              "      <td>4.402050e+03</td>\n",
              "      <td>1155.800000</td>\n",
              "      <td>8.400000</td>\n",
              "      <td>1.331004e+07</td>\n",
              "      <td>1.005348e+07</td>\n",
              "    </tr>\n",
              "    <tr>\n",
              "      <th>75%</th>\n",
              "      <td>118746.750000</td>\n",
              "      <td>3.500000</td>\n",
              "      <td>41.934738</td>\n",
              "      <td>-87.627286</td>\n",
              "      <td>2019.0</td>\n",
              "      <td>1.000000</td>\n",
              "      <td>111.825000</td>\n",
              "      <td>3.758525e+05</td>\n",
              "      <td>1.221976e+07</td>\n",
              "      <td>1991.500000</td>\n",
              "      <td>1.514584e+07</td>\n",
              "      <td>81.75000</td>\n",
              "      <td>110.100000</td>\n",
              "      <td>205.225000</td>\n",
              "      <td>1.259015e+04</td>\n",
              "      <td>3400.550000</td>\n",
              "      <td>11.950000</td>\n",
              "      <td>2.619136e+07</td>\n",
              "      <td>2.322449e+07</td>\n",
              "    </tr>\n",
              "    <tr>\n",
              "      <th>max</th>\n",
              "      <td>256571.000000</td>\n",
              "      <td>4.000000</td>\n",
              "      <td>42.017989</td>\n",
              "      <td>-87.545829</td>\n",
              "      <td>2019.0</td>\n",
              "      <td>57.000000</td>\n",
              "      <td>1122.600000</td>\n",
              "      <td>9.245333e+06</td>\n",
              "      <td>4.730932e+08</td>\n",
              "      <td>2018.000000</td>\n",
              "      <td>9.923283e+08</td>\n",
              "      <td>100.00000</td>\n",
              "      <td>1122.900000</td>\n",
              "      <td>2556.600000</td>\n",
              "      <td>3.787893e+07</td>\n",
              "      <td>185162.100000</td>\n",
              "      <td>151.500000</td>\n",
              "      <td>3.762233e+08</td>\n",
              "      <td>1.306069e+08</td>\n",
              "    </tr>\n",
              "  </tbody>\n",
              "</table>\n",
              "</div>"
            ],
            "text/plain": [
              "       benchmarking_id  ...  district_steam_use_kbtu\n",
              "count      1000.000000  ...             9.000000e+00\n",
              "mean     114422.582000  ...             2.759796e+07\n",
              "std       22403.749921  ...             4.134044e+07\n",
              "min      100001.000000  ...             8.347135e+05\n",
              "25%      102279.750000  ...             4.959146e+06\n",
              "50%      105988.000000  ...             1.005348e+07\n",
              "75%      118746.750000  ...             2.322449e+07\n",
              "max      256571.000000  ...             1.306069e+08\n",
              "\n",
              "[8 rows x 19 columns]"
            ]
          },
          "metadata": {},
          "execution_count": 63
        }
      ]
    },
    {
      "cell_type": "code",
      "metadata": {
        "colab": {
          "base_uri": "https://localhost:8080/"
        },
        "id": "k0YvHWKzhZpa",
        "outputId": "9e37892a-e63c-4d82-f026-2871b1996a07"
      },
      "source": [
        "energy_use.info()"
      ],
      "execution_count": null,
      "outputs": [
        {
          "output_type": "stream",
          "name": "stdout",
          "text": [
            "<class 'pandas.core.frame.DataFrame'>\n",
            "RangeIndex: 1000 entries, 0 to 999\n",
            "Data columns (total 28 columns):\n",
            " #   Column                                                                          Non-Null Count  Dtype   \n",
            "---  ------                                                                          --------------  -----   \n",
            " 0   location                                                                        998 non-null    object  \n",
            " 1   benchmarking_id                                                                 1000 non-null   int64   \n",
            " 2   address                                                                         1000 non-null   object  \n",
            " 3   chicago_energy_rating                                                           920 non-null    float64 \n",
            " 4   latitude                                                                        998 non-null    float64 \n",
            " 5   exempt_from_chicago_energy_rating                                               1000 non-null   bool    \n",
            " 6   community_area                                                                  998 non-null    object  \n",
            " 7   longitude                                                                       998 non-null    float64 \n",
            " 8   property_name                                                                   986 non-null    object  \n",
            " 9   data_year                                                                       1000 non-null   int64   \n",
            " 10  reporting_status                                                                1000 non-null   object  \n",
            " 11  zip_code                                                                        725 non-null    object  \n",
            " 12  number_of_buildings                                                             677 non-null    float64 \n",
            " 13  primary_property_type_epa_calculated                                            683 non-null    object  \n",
            " 14  site_eui_kbtu_sq_ft                                                             720 non-null    float64 \n",
            " 15  property_gross_floor_area_epa_calculated_buildings_sq_ft                        683 non-null    float64 \n",
            " 16  natural_gas_use_kbtu                                                            649 non-null    float64 \n",
            " 17  year_built                                                                      683 non-null    float64 \n",
            " 18  electricity_use_grid_purchase_and_generated_from_onsite_renewable_systems_kbtu  720 non-null    float64 \n",
            " 19  energy_star_score                                                               614 non-null    float64 \n",
            " 20  weather_normalized_site_eui_kbtu_sq_ft                                          434 non-null    float64 \n",
            " 21  source_eui_kbtu_sq_ft                                                           440 non-null    float64 \n",
            " 22  water_use_kgal                                                                  104 non-null    float64 \n",
            " 23  total_ghg_emissions_metric_tons_co2e                                            395 non-null    float64 \n",
            " 24  ghg_intensity_metric_tons_co2e_sq_ft                                            395 non-null    float64 \n",
            " 25  district_chilled_water_use_kbtu                                                 22 non-null     float64 \n",
            " 26  district_steam_use_kbtu                                                         9 non-null      float64 \n",
            " 27  geometry                                                                        1000 non-null   geometry\n",
            "dtypes: bool(1), float64(17), geometry(1), int64(2), object(7)\n",
            "memory usage: 212.0+ KB\n"
          ]
        }
      ]
    },
    {
      "cell_type": "code",
      "metadata": {
        "colab": {
          "base_uri": "https://localhost:8080/"
        },
        "id": "AFq_EvWFMBK4",
        "outputId": "426fef35-ca62-482c-9c39-0a386e16237b"
      },
      "source": [
        "location_null = energy_use['latitude'].isnull().sum()\n",
        "print(location_null)\n",
        "location_null_array.append(location_null)"
      ],
      "execution_count": null,
      "outputs": [
        {
          "output_type": "stream",
          "name": "stdout",
          "text": [
            "2\n"
          ]
        }
      ]
    },
    {
      "cell_type": "code",
      "metadata": {
        "colab": {
          "base_uri": "https://localhost:8080/"
        },
        "id": "tAza9UusvG9i",
        "outputId": "7d699bd8-c0c9-4e3f-bc07-1361071f1647"
      },
      "source": [
        "energy_use.isnull().sum()"
      ],
      "execution_count": null,
      "outputs": [
        {
          "output_type": "execute_result",
          "data": {
            "text/plain": [
              "location                                                                            2\n",
              "benchmarking_id                                                                     0\n",
              "address                                                                             0\n",
              "chicago_energy_rating                                                              80\n",
              "latitude                                                                            2\n",
              "exempt_from_chicago_energy_rating                                                   0\n",
              "community_area                                                                      2\n",
              "longitude                                                                           2\n",
              "property_name                                                                      14\n",
              "data_year                                                                           0\n",
              "reporting_status                                                                    0\n",
              "zip_code                                                                          275\n",
              "number_of_buildings                                                               323\n",
              "primary_property_type_epa_calculated                                              317\n",
              "site_eui_kbtu_sq_ft                                                               280\n",
              "property_gross_floor_area_epa_calculated_buildings_sq_ft                          317\n",
              "natural_gas_use_kbtu                                                              351\n",
              "year_built                                                                        317\n",
              "electricity_use_grid_purchase_and_generated_from_onsite_renewable_systems_kbtu    280\n",
              "energy_star_score                                                                 386\n",
              "weather_normalized_site_eui_kbtu_sq_ft                                            566\n",
              "source_eui_kbtu_sq_ft                                                             560\n",
              "water_use_kgal                                                                    896\n",
              "total_ghg_emissions_metric_tons_co2e                                              605\n",
              "ghg_intensity_metric_tons_co2e_sq_ft                                              605\n",
              "district_chilled_water_use_kbtu                                                   978\n",
              "district_steam_use_kbtu                                                           991\n",
              "dtype: int64"
            ]
          },
          "metadata": {},
          "execution_count": 65
        }
      ]
    },
    {
      "cell_type": "code",
      "metadata": {
        "id": "zzXXANvhpNUO"
      },
      "source": [
        "energy_geo = gpd.GeoDataFrame(energy_use, geometry = gpd.points_from_xy(energy_use.longitude, energy_use.latitude))"
      ],
      "execution_count": null,
      "outputs": []
    },
    {
      "cell_type": "code",
      "metadata": {
        "colab": {
          "base_uri": "https://localhost:8080/",
          "height": 610
        },
        "id": "ubyCg9YupGhl",
        "outputId": "0f7facb4-6597-471a-d184-fea4553acc77"
      },
      "source": [
        "fig, ax = plt.subplots(figsize = (15, 15))\n",
        "chicago.plot(ax = ax, color ='lightgrey')\n",
        "energy_geo.plot(ax = ax)\n",
        "ax.set_title('Energy consumption points in Chicago')"
      ],
      "execution_count": null,
      "outputs": [
        {
          "output_type": "execute_result",
          "data": {
            "text/plain": [
              "Text(0.5, 1.0, 'Energy consumption points in Chicago')"
            ]
          },
          "metadata": {},
          "execution_count": 67
        },
        {
          "output_type": "display_data",
          "data": {
            "image/png": "[encoded data removed]",
            "text/plain": [
              "<Figure size 1080x1080 with 1 Axes>"
            ]
          },
          "metadata": {
            "needs_background": "light"
          }
        }
      ]
    }
  ]
}