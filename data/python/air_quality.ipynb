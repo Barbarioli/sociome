{
  "nbformat": 4,
  "nbformat_minor": 0,
  "metadata": {
    "colab": {
      "name": "air_quality.ipynb",
      "provenance": []
    },
    "kernelspec": {
      "name": "python3",
      "display_name": "Python 3"
    },
    "language_info": {
      "name": "python"
    }
  },
  "cells": [
    {
      "cell_type": "markdown",
      "source": [
        "# Air Quality"
      ],
      "metadata": {
        "id": "BOEzi6jhJy3S"
      }
    },
    {
      "cell_type": "markdown",
      "source": [
        "## Description"
      ],
      "metadata": {
        "id": "wy3UsKMIqS86"
      }
    },
    {
      "cell_type": "markdown",
      "source": [
        "Origin: Chicago data portal (https://data.cityofchicago.org/)\n",
        "\n",
        "Last updated: xx/xx/xxxx"
      ],
      "metadata": {
        "id": "6EYMPc_fqVVe"
      }
    },
    {
      "cell_type": "markdown",
      "source": [
        "## Packages (Python)"
      ],
      "metadata": {
        "id": "pUhSmjINiL-E"
      }
    },
    {
      "cell_type": "code",
      "execution_count": 2,
      "metadata": {
        "id": "muLa3XYLfgdw",
        "colab": {
          "base_uri": "https://localhost:8080/"
        },
        "outputId": "dcd91919-20b6-4fad-dfe0-95b22d6f2e30"
      },
      "outputs": [
        {
          "output_type": "stream",
          "name": "stdout",
          "text": [
            "Looking in indexes: https://pypi.org/simple, https://us-python.pkg.dev/colab-wheels/public/simple/\n",
            "Collecting geopandas\n",
            "  Downloading geopandas-0.10.2-py2.py3-none-any.whl (1.0 MB)\n",
            "\u001b[K     |████████████████████████████████| 1.0 MB 5.1 MB/s \n",
            "\u001b[?25hRequirement already satisfied: pandas>=0.25.0 in /usr/local/lib/python3.7/dist-packages (from geopandas) (1.3.5)\n",
            "Collecting pyproj>=2.2.0\n",
            "  Downloading pyproj-3.2.1-cp37-cp37m-manylinux2010_x86_64.whl (6.3 MB)\n",
            "\u001b[K     |████████████████████████████████| 6.3 MB 43.9 MB/s \n",
            "\u001b[?25hCollecting fiona>=1.8\n",
            "  Downloading Fiona-1.8.21-cp37-cp37m-manylinux2014_x86_64.whl (16.7 MB)\n",
            "\u001b[K     |████████████████████████████████| 16.7 MB 43.6 MB/s \n",
            "\u001b[?25hRequirement already satisfied: shapely>=1.6 in /usr/local/lib/python3.7/dist-packages (from geopandas) (1.8.2)\n",
            "Requirement already satisfied: setuptools in /usr/local/lib/python3.7/dist-packages (from fiona>=1.8->geopandas) (57.4.0)\n",
            "Collecting cligj>=0.5\n",
            "  Downloading cligj-0.7.2-py3-none-any.whl (7.1 kB)\n",
            "Requirement already satisfied: attrs>=17 in /usr/local/lib/python3.7/dist-packages (from fiona>=1.8->geopandas) (21.4.0)\n",
            "Requirement already satisfied: click>=4.0 in /usr/local/lib/python3.7/dist-packages (from fiona>=1.8->geopandas) (7.1.2)\n",
            "Collecting munch\n",
            "  Downloading munch-2.5.0-py2.py3-none-any.whl (10 kB)\n",
            "Requirement already satisfied: certifi in /usr/local/lib/python3.7/dist-packages (from fiona>=1.8->geopandas) (2022.6.15)\n",
            "Collecting click-plugins>=1.0\n",
            "  Downloading click_plugins-1.1.1-py2.py3-none-any.whl (7.5 kB)\n",
            "Requirement already satisfied: six>=1.7 in /usr/local/lib/python3.7/dist-packages (from fiona>=1.8->geopandas) (1.15.0)\n",
            "Requirement already satisfied: python-dateutil>=2.7.3 in /usr/local/lib/python3.7/dist-packages (from pandas>=0.25.0->geopandas) (2.8.2)\n",
            "Requirement already satisfied: pytz>=2017.3 in /usr/local/lib/python3.7/dist-packages (from pandas>=0.25.0->geopandas) (2022.1)\n",
            "Requirement already satisfied: numpy>=1.17.3 in /usr/local/lib/python3.7/dist-packages (from pandas>=0.25.0->geopandas) (1.21.6)\n",
            "Installing collected packages: munch, cligj, click-plugins, pyproj, fiona, geopandas\n",
            "Successfully installed click-plugins-1.1.1 cligj-0.7.2 fiona-1.8.21 geopandas-0.10.2 munch-2.5.0 pyproj-3.2.1\n"
          ]
        }
      ],
      "source": [
        "!pip install geopandas"
      ]
    },
    {
      "cell_type": "code",
      "source": [
        "!pip install geojson"
      ],
      "metadata": {
        "id": "dNr5LDSugeY-",
        "colab": {
          "base_uri": "https://localhost:8080/"
        },
        "outputId": "a13b167a-7a1b-4030-d12b-5d8474f7644a"
      },
      "execution_count": 3,
      "outputs": [
        {
          "output_type": "stream",
          "name": "stdout",
          "text": [
            "Looking in indexes: https://pypi.org/simple, https://us-python.pkg.dev/colab-wheels/public/simple/\n",
            "Collecting geojson\n",
            "  Downloading geojson-2.5.0-py2.py3-none-any.whl (14 kB)\n",
            "Installing collected packages: geojson\n",
            "Successfully installed geojson-2.5.0\n"
          ]
        }
      ]
    },
    {
      "cell_type": "code",
      "source": [
        "#standard libraries\n",
        "import pandas as pd\n",
        "import numpy as np\n",
        "import matplotlib.pyplot as plt\n",
        "import cufflinks as cf\n",
        "import plotly\n",
        "import plotly.offline as py\n",
        "import plotly.graph_objs as go\n",
        "\n",
        "import geopandas as gpd\n",
        "import geopy as gp\n",
        "import shapely\n",
        "import geojson\n",
        "#import rtree\n",
        "#import pygeos\n",
        "#import fiona"
      ],
      "metadata": {
        "id": "VB5WIQyViieZ"
      },
      "execution_count": 4,
      "outputs": []
    },
    {
      "cell_type": "code",
      "source": [
        "# Preprocessing files\n",
        "from preprocessing import *"
      ],
      "metadata": {
        "id": "ULNwYDr2i7Z-"
      },
      "execution_count": null,
      "outputs": []
    },
    {
      "cell_type": "markdown",
      "source": [
        "## Chicago Polygon "
      ],
      "metadata": {
        "id": "yqFBJXRfjrVs"
      }
    },
    {
      "cell_type": "code",
      "source": [
        "# Reading file that must be uploaded\n",
        "\n",
        "chicago = gpd.read_file('chicago.shp')\n",
        "chicago.plot()"
      ],
      "metadata": {
        "colab": {
          "base_uri": "https://localhost:8080/",
          "height": 283
        },
        "id": "DMS9I2V7kw8F",
        "outputId": "f523c775-7fd5-4ebe-aa6f-16d8d5e94a32"
      },
      "execution_count": 8,
      "outputs": [
        {
          "output_type": "execute_result",
          "data": {
            "text/plain": [
              "<matplotlib.axes._subplots.AxesSubplot at 0x7fce6193fed0>"
            ]
          },
          "metadata": {},
          "execution_count": 8
        },
        {
          "output_type": "display_data",
          "data": {
            "text/plain": [
              "<Figure size 432x288 with 1 Axes>"
            ],
            "image/png": "[encoded data removed]"
          },
          "metadata": {
            "needs_background": "light"
          }
        }
      ]
    },
    {
      "cell_type": "markdown",
      "source": [
        "## Data processing"
      ],
      "metadata": {
        "id": "VB_mxejqlT32"
      }
    },
    {
      "cell_type": "code",
      "metadata": {
        "id": "Qc_eFSS7Ztev"
      },
      "source": [
        "url_air_quality = 'https://data.cityofchicago.org/resource/i9rk-duva.json'\n",
        "air_quality = pd.read_json(url_air_quality)"
      ],
      "execution_count": 9,
      "outputs": []
    },
    {
      "cell_type": "code",
      "metadata": {
        "id": "-sBn8PxPQYAk",
        "colab": {
          "base_uri": "https://localhost:8080/",
          "height": 647
        },
        "outputId": "81f64d97-8d1f-4aa8-ae5e-d34f25e67991"
      },
      "source": [
        "air_quality.head()"
      ],
      "execution_count": 10,
      "outputs": [
        {
          "output_type": "execute_result",
          "data": {
            "text/plain": [
              "   inspection_number            modified_date                   site_name  \\\n",
              "0            1735075  2022-07-19T00:00:00.000  RELIABLE ASPHALT/MATERIALS   \n",
              "1             500629  2022-07-19T00:00:00.000  RELIABLE ASPHALT/MATERIALS   \n",
              "2            1825975  2022-07-19T00:00:00.000               1930 W. BARRY   \n",
              "3            1635023  2022-07-19T00:00:00.000        RELIABLE - GRAND AVE   \n",
              "4            1802005  2022-07-19T00:00:00.000                         NaN   \n",
              "\n",
              "         map_address  street_number direction street_name street_type  \\\n",
              "0  3741 S PULASKI RD           3741         S     PULASKI          RD   \n",
              "1  3741 S PULASKI RD           3741         S     PULASKI          RD   \n",
              "2   1930 W BARRY AVE           1930         W       BARRY         AVE   \n",
              "3   4613 W GRAND AVE           4613         W       GRAND         AVE   \n",
              "4  8600 S HOLLAND RD           8600         S     HOLLAND          RD   \n",
              "\n",
              "      inspection_type  inspection_sub_category  ...  \\\n",
              "0  DOE WASTE HANDLING  SOLID WASTE INSPECTIONS  ...   \n",
              "1  DOE WASTE HANDLING  SOLID WASTE INSPECTIONS  ...   \n",
              "2    DOE GENERAL FLOW      DEMOLITION/ASBESTOS  ...   \n",
              "3  DOE WASTE HANDLING  SOLID WASTE INSPECTIONS  ...   \n",
              "4    DOE GENERAL FLOW         MISC INSPECTIONS  ...   \n",
              "\n",
              "                                           narrative             data_source  \\\n",
              "0  OnOctober 29, 2021, Senior Environmental Inspe...  DEPT. OF PUBLIC HEALTH   \n",
              "1  I observed normal operations while conducting ...  DEPT. OF PUBLIC HEALTH   \n",
              "2  On July 14, 2022 CDPH Inspector # 140 conducte...  DEPT. OF PUBLIC HEALTH   \n",
              "3  On January 14, 2021, Senior Environmental Insp...  DEPT. OF PUBLIC HEALTH   \n",
              "4  On March 16, 2022 City of Chicago Department o...  DEPT. OF PUBLIC HEALTH   \n",
              "\n",
              "    latitude  longitude                                           location  \\\n",
              "0  41.825320 -87.723960  {'type': 'Point', 'coordinates': [-87.72395999...   \n",
              "1  41.825320 -87.723960  {'type': 'Point', 'coordinates': [-87.72395999...   \n",
              "2  41.937875 -87.677124  {'type': 'Point', 'coordinates': [-87.67712374...   \n",
              "3  41.912146 -87.741835  {'type': 'Point', 'coordinates': [-87.74183483...   \n",
              "4  41.737987 -87.632317  {'type': 'Point', 'coordinates': [-87.63231708...   \n",
              "\n",
              "   :@computed_region_rpca_8um6 :@computed_region_vrxf_vc4k  \\\n",
              "0                         56.0                        32.0   \n",
              "1                         56.0                        32.0   \n",
              "2                         22.0                        46.0   \n",
              "3                          2.0                        26.0   \n",
              "4                         59.0                        40.0   \n",
              "\n",
              "   :@computed_region_6mkv_f3dw  :@computed_region_bdys_3d7i  \\\n",
              "0                      21569.0                        200.0   \n",
              "1                      21569.0                        200.0   \n",
              "2                       4449.0                        649.0   \n",
              "3                      22615.0                         62.0   \n",
              "4                      21554.0                          1.0   \n",
              "\n",
              "   :@computed_region_43wa_7qmu  \n",
              "0                         28.0  \n",
              "1                         28.0  \n",
              "2                         40.0  \n",
              "3                         45.0  \n",
              "4                         13.0  \n",
              "\n",
              "[5 rows x 22 columns]"
            ],
            "text/html": [
              "\n",
              "  <div id=\"df-c5a7ce36-7cd6-4d18-b559-070e6ef7e3f5\">\n",
              "    <div class=\"colab-df-container\">\n",
              "      <div>\n",
              "<style scoped>\n",
              "    .dataframe tbody tr th:only-of-type {\n",
              "        vertical-align: middle;\n",
              "    }\n",
              "\n",
              "    .dataframe tbody tr th {\n",
              "        vertical-align: top;\n",
              "    }\n",
              "\n",
              "    .dataframe thead th {\n",
              "        text-align: right;\n",
              "    }\n",
              "</style>\n",
              "<table border=\"1\" class=\"dataframe\">\n",
              "  <thead>\n",
              "    <tr style=\"text-align: right;\">\n",
              "      <th></th>\n",
              "      <th>inspection_number</th>\n",
              "      <th>modified_date</th>\n",
              "      <th>site_name</th>\n",
              "      <th>map_address</th>\n",
              "      <th>street_number</th>\n",
              "      <th>direction</th>\n",
              "      <th>street_name</th>\n",
              "      <th>street_type</th>\n",
              "      <th>inspection_type</th>\n",
              "      <th>inspection_sub_category</th>\n",
              "      <th>...</th>\n",
              "      <th>narrative</th>\n",
              "      <th>data_source</th>\n",
              "      <th>latitude</th>\n",
              "      <th>longitude</th>\n",
              "      <th>location</th>\n",
              "      <th>:@computed_region_rpca_8um6</th>\n",
              "      <th>:@computed_region_vrxf_vc4k</th>\n",
              "      <th>:@computed_region_6mkv_f3dw</th>\n",
              "      <th>:@computed_region_bdys_3d7i</th>\n",
              "      <th>:@computed_region_43wa_7qmu</th>\n",
              "    </tr>\n",
              "  </thead>\n",
              "  <tbody>\n",
              "    <tr>\n",
              "      <th>0</th>\n",
              "      <td>1735075</td>\n",
              "      <td>2022-07-19T00:00:00.000</td>\n",
              "      <td>RELIABLE ASPHALT/MATERIALS</td>\n",
              "      <td>3741 S PULASKI RD</td>\n",
              "      <td>3741</td>\n",
              "      <td>S</td>\n",
              "      <td>PULASKI</td>\n",
              "      <td>RD</td>\n",
              "      <td>DOE WASTE HANDLING</td>\n",
              "      <td>SOLID WASTE INSPECTIONS</td>\n",
              "      <td>...</td>\n",
              "      <td>OnOctober 29, 2021, Senior Environmental Inspe...</td>\n",
              "      <td>DEPT. OF PUBLIC HEALTH</td>\n",
              "      <td>41.825320</td>\n",
              "      <td>-87.723960</td>\n",
              "      <td>{'type': 'Point', 'coordinates': [-87.72395999...</td>\n",
              "      <td>56.0</td>\n",
              "      <td>32.0</td>\n",
              "      <td>21569.0</td>\n",
              "      <td>200.0</td>\n",
              "      <td>28.0</td>\n",
              "    </tr>\n",
              "    <tr>\n",
              "      <th>1</th>\n",
              "      <td>500629</td>\n",
              "      <td>2022-07-19T00:00:00.000</td>\n",
              "      <td>RELIABLE ASPHALT/MATERIALS</td>\n",
              "      <td>3741 S PULASKI RD</td>\n",
              "      <td>3741</td>\n",
              "      <td>S</td>\n",
              "      <td>PULASKI</td>\n",
              "      <td>RD</td>\n",
              "      <td>DOE WASTE HANDLING</td>\n",
              "      <td>SOLID WASTE INSPECTIONS</td>\n",
              "      <td>...</td>\n",
              "      <td>I observed normal operations while conducting ...</td>\n",
              "      <td>DEPT. OF PUBLIC HEALTH</td>\n",
              "      <td>41.825320</td>\n",
              "      <td>-87.723960</td>\n",
              "      <td>{'type': 'Point', 'coordinates': [-87.72395999...</td>\n",
              "      <td>56.0</td>\n",
              "      <td>32.0</td>\n",
              "      <td>21569.0</td>\n",
              "      <td>200.0</td>\n",
              "      <td>28.0</td>\n",
              "    </tr>\n",
              "    <tr>\n",
              "      <th>2</th>\n",
              "      <td>1825975</td>\n",
              "      <td>2022-07-19T00:00:00.000</td>\n",
              "      <td>1930 W. BARRY</td>\n",
              "      <td>1930 W BARRY AVE</td>\n",
              "      <td>1930</td>\n",
              "      <td>W</td>\n",
              "      <td>BARRY</td>\n",
              "      <td>AVE</td>\n",
              "      <td>DOE GENERAL FLOW</td>\n",
              "      <td>DEMOLITION/ASBESTOS</td>\n",
              "      <td>...</td>\n",
              "      <td>On July 14, 2022 CDPH Inspector # 140 conducte...</td>\n",
              "      <td>DEPT. OF PUBLIC HEALTH</td>\n",
              "      <td>41.937875</td>\n",
              "      <td>-87.677124</td>\n",
              "      <td>{'type': 'Point', 'coordinates': [-87.67712374...</td>\n",
              "      <td>22.0</td>\n",
              "      <td>46.0</td>\n",
              "      <td>4449.0</td>\n",
              "      <td>649.0</td>\n",
              "      <td>40.0</td>\n",
              "    </tr>\n",
              "    <tr>\n",
              "      <th>3</th>\n",
              "      <td>1635023</td>\n",
              "      <td>2022-07-19T00:00:00.000</td>\n",
              "      <td>RELIABLE - GRAND AVE</td>\n",
              "      <td>4613 W GRAND AVE</td>\n",
              "      <td>4613</td>\n",
              "      <td>W</td>\n",
              "      <td>GRAND</td>\n",
              "      <td>AVE</td>\n",
              "      <td>DOE WASTE HANDLING</td>\n",
              "      <td>SOLID WASTE INSPECTIONS</td>\n",
              "      <td>...</td>\n",
              "      <td>On January 14, 2021, Senior Environmental Insp...</td>\n",
              "      <td>DEPT. OF PUBLIC HEALTH</td>\n",
              "      <td>41.912146</td>\n",
              "      <td>-87.741835</td>\n",
              "      <td>{'type': 'Point', 'coordinates': [-87.74183483...</td>\n",
              "      <td>2.0</td>\n",
              "      <td>26.0</td>\n",
              "      <td>22615.0</td>\n",
              "      <td>62.0</td>\n",
              "      <td>45.0</td>\n",
              "    </tr>\n",
              "    <tr>\n",
              "      <th>4</th>\n",
              "      <td>1802005</td>\n",
              "      <td>2022-07-19T00:00:00.000</td>\n",
              "      <td>NaN</td>\n",
              "      <td>8600 S HOLLAND RD</td>\n",
              "      <td>8600</td>\n",
              "      <td>S</td>\n",
              "      <td>HOLLAND</td>\n",
              "      <td>RD</td>\n",
              "      <td>DOE GENERAL FLOW</td>\n",
              "      <td>MISC INSPECTIONS</td>\n",
              "      <td>...</td>\n",
              "      <td>On March 16, 2022 City of Chicago Department o...</td>\n",
              "      <td>DEPT. OF PUBLIC HEALTH</td>\n",
              "      <td>41.737987</td>\n",
              "      <td>-87.632317</td>\n",
              "      <td>{'type': 'Point', 'coordinates': [-87.63231708...</td>\n",
              "      <td>59.0</td>\n",
              "      <td>40.0</td>\n",
              "      <td>21554.0</td>\n",
              "      <td>1.0</td>\n",
              "      <td>13.0</td>\n",
              "    </tr>\n",
              "  </tbody>\n",
              "</table>\n",
              "<p>5 rows × 22 columns</p>\n",
              "</div>\n",
              "      <button class=\"colab-df-convert\" onclick=\"convertToInteractive('df-c5a7ce36-7cd6-4d18-b559-070e6ef7e3f5')\"\n",
              "              title=\"Convert this dataframe to an interactive table.\"\n",
              "              style=\"display:none;\">\n",
              "        \n",
              "  <svg xmlns=\"http://www.w3.org/2000/svg\" height=\"24px\"viewBox=\"0 0 24 24\"\n",
              "       width=\"24px\">\n",
              "    <path d=\"M0 0h24v24H0V0z\" fill=\"none\"/>\n",
              "    <path d=\"M18.56 5.44l.94 2.06.94-2.06 2.06-.94-2.06-.94-.94-2.06-.94 2.06-2.06.94zm-11 1L8.5 8.5l.94-2.06 2.06-.94-2.06-.94L8.5 2.5l-.94 2.06-2.06.94zm10 10l.94 2.06.94-2.06 2.06-.94-2.06-.94-.94-2.06-.94 2.06-2.06.94z\"/><path d=\"M17.41 7.96l-1.37-1.37c-.4-.4-.92-.59-1.43-.59-.52 0-1.04.2-1.43.59L10.3 9.45l-7.72 7.72c-.78.78-.78 2.05 0 2.83L4 21.41c.39.39.9.59 1.41.59.51 0 1.02-.2 1.41-.59l7.78-7.78 2.81-2.81c.8-.78.8-2.07 0-2.86zM5.41 20L4 18.59l7.72-7.72 1.47 1.35L5.41 20z\"/>\n",
              "  </svg>\n",
              "      </button>\n",
              "      \n",
              "  <style>\n",
              "    .colab-df-container {\n",
              "      display:flex;\n",
              "      flex-wrap:wrap;\n",
              "      gap: 12px;\n",
              "    }\n",
              "\n",
              "    .colab-df-convert {\n",
              "      background-color: #E8F0FE;\n",
              "      border: none;\n",
              "      border-radius: 50%;\n",
              "      cursor: pointer;\n",
              "      display: none;\n",
              "      fill: #1967D2;\n",
              "      height: 32px;\n",
              "      padding: 0 0 0 0;\n",
              "      width: 32px;\n",
              "    }\n",
              "\n",
              "    .colab-df-convert:hover {\n",
              "      background-color: #E2EBFA;\n",
              "      box-shadow: 0px 1px 2px rgba(60, 64, 67, 0.3), 0px 1px 3px 1px rgba(60, 64, 67, 0.15);\n",
              "      fill: #174EA6;\n",
              "    }\n",
              "\n",
              "    [theme=dark] .colab-df-convert {\n",
              "      background-color: #3B4455;\n",
              "      fill: #D2E3FC;\n",
              "    }\n",
              "\n",
              "    [theme=dark] .colab-df-convert:hover {\n",
              "      background-color: #434B5C;\n",
              "      box-shadow: 0px 1px 3px 1px rgba(0, 0, 0, 0.15);\n",
              "      filter: drop-shadow(0px 1px 2px rgba(0, 0, 0, 0.3));\n",
              "      fill: #FFFFFF;\n",
              "    }\n",
              "  </style>\n",
              "\n",
              "      <script>\n",
              "        const buttonEl =\n",
              "          document.querySelector('#df-c5a7ce36-7cd6-4d18-b559-070e6ef7e3f5 button.colab-df-convert');\n",
              "        buttonEl.style.display =\n",
              "          google.colab.kernel.accessAllowed ? 'block' : 'none';\n",
              "\n",
              "        async function convertToInteractive(key) {\n",
              "          const element = document.querySelector('#df-c5a7ce36-7cd6-4d18-b559-070e6ef7e3f5');\n",
              "          const dataTable =\n",
              "            await google.colab.kernel.invokeFunction('convertToInteractive',\n",
              "                                                     [key], {});\n",
              "          if (!dataTable) return;\n",
              "\n",
              "          const docLinkHtml = 'Like what you see? Visit the ' +\n",
              "            '<a target=\"_blank\" href=https://colab.research.google.com/notebooks/data_table.ipynb>data table notebook</a>'\n",
              "            + ' to learn more about interactive tables.';\n",
              "          element.innerHTML = '';\n",
              "          dataTable['output_type'] = 'display_data';\n",
              "          await google.colab.output.renderOutput(dataTable, element);\n",
              "          const docLink = document.createElement('div');\n",
              "          docLink.innerHTML = docLinkHtml;\n",
              "          element.appendChild(docLink);\n",
              "        }\n",
              "      </script>\n",
              "    </div>\n",
              "  </div>\n",
              "  "
            ]
          },
          "metadata": {},
          "execution_count": 10
        }
      ]
    },
    {
      "cell_type": "code",
      "metadata": {
        "colab": {
          "base_uri": "https://localhost:8080/",
          "height": 364
        },
        "id": "QUuj239jqOej",
        "outputId": "ebc7d9a1-5ad9-4ee6-939d-a6056f6c4641"
      },
      "source": [
        "air_quality.describe()"
      ],
      "execution_count": 11,
      "outputs": [
        {
          "output_type": "execute_result",
          "data": {
            "text/plain": [
              "       inspection_number  street_number    latitude   longitude  \\\n",
              "count       1.000000e+03    1000.000000  785.000000  785.000000   \n",
              "mean        1.140389e+06    2891.238000   41.867061  -87.688763   \n",
              "std         4.725423e+05    1794.061017    0.055235    0.035880   \n",
              "min         4.172630e+05     513.000000   41.692725  -87.806908   \n",
              "25%         6.931030e+05    1800.000000   41.833675  -87.723960   \n",
              "50%         1.191516e+06    1941.000000   41.887862  -87.672053   \n",
              "75%         1.586273e+06    3741.000000   41.887862  -87.672053   \n",
              "max         1.834731e+06   11101.000000   42.012704  -87.577522   \n",
              "\n",
              "       :@computed_region_rpca_8um6  :@computed_region_vrxf_vc4k  \\\n",
              "count                   785.000000                   785.000000   \n",
              "mean                     33.448408                    33.924841   \n",
              "std                      17.008557                    12.954717   \n",
              "min                       2.000000                     4.000000   \n",
              "25%                      28.000000                    29.000000   \n",
              "50%                      28.000000                    30.000000   \n",
              "75%                      43.000000                    33.000000   \n",
              "max                      61.000000                    77.000000   \n",
              "\n",
              "       :@computed_region_6mkv_f3dw  :@computed_region_bdys_3d7i  \\\n",
              "count                   785.000000                   785.000000   \n",
              "mean                  19239.174522                   375.566879   \n",
              "std                    4274.298046                   239.438807   \n",
              "min                    4299.000000                     1.000000   \n",
              "25%                   14920.000000                   126.000000   \n",
              "50%                   21184.000000                   432.000000   \n",
              "75%                   21569.000000                   579.000000   \n",
              "max                   22618.000000                   767.000000   \n",
              "\n",
              "       :@computed_region_43wa_7qmu  \n",
              "count                   785.000000  \n",
              "mean                     31.322293  \n",
              "std                      16.076803  \n",
              "min                       1.000000  \n",
              "25%                      24.000000  \n",
              "50%                      32.000000  \n",
              "75%                      46.000000  \n",
              "max                      50.000000  "
            ],
            "text/html": [
              "\n",
              "  <div id=\"df-e6fe5a83-e26d-4eba-8d9c-606e1e0686e4\">\n",
              "    <div class=\"colab-df-container\">\n",
              "      <div>\n",
              "<style scoped>\n",
              "    .dataframe tbody tr th:only-of-type {\n",
              "        vertical-align: middle;\n",
              "    }\n",
              "\n",
              "    .dataframe tbody tr th {\n",
              "        vertical-align: top;\n",
              "    }\n",
              "\n",
              "    .dataframe thead th {\n",
              "        text-align: right;\n",
              "    }\n",
              "</style>\n",
              "<table border=\"1\" class=\"dataframe\">\n",
              "  <thead>\n",
              "    <tr style=\"text-align: right;\">\n",
              "      <th></th>\n",
              "      <th>inspection_number</th>\n",
              "      <th>street_number</th>\n",
              "      <th>latitude</th>\n",
              "      <th>longitude</th>\n",
              "      <th>:@computed_region_rpca_8um6</th>\n",
              "      <th>:@computed_region_vrxf_vc4k</th>\n",
              "      <th>:@computed_region_6mkv_f3dw</th>\n",
              "      <th>:@computed_region_bdys_3d7i</th>\n",
              "      <th>:@computed_region_43wa_7qmu</th>\n",
              "    </tr>\n",
              "  </thead>\n",
              "  <tbody>\n",
              "    <tr>\n",
              "      <th>count</th>\n",
              "      <td>1.000000e+03</td>\n",
              "      <td>1000.000000</td>\n",
              "      <td>785.000000</td>\n",
              "      <td>785.000000</td>\n",
              "      <td>785.000000</td>\n",
              "      <td>785.000000</td>\n",
              "      <td>785.000000</td>\n",
              "      <td>785.000000</td>\n",
              "      <td>785.000000</td>\n",
              "    </tr>\n",
              "    <tr>\n",
              "      <th>mean</th>\n",
              "      <td>1.140389e+06</td>\n",
              "      <td>2891.238000</td>\n",
              "      <td>41.867061</td>\n",
              "      <td>-87.688763</td>\n",
              "      <td>33.448408</td>\n",
              "      <td>33.924841</td>\n",
              "      <td>19239.174522</td>\n",
              "      <td>375.566879</td>\n",
              "      <td>31.322293</td>\n",
              "    </tr>\n",
              "    <tr>\n",
              "      <th>std</th>\n",
              "      <td>4.725423e+05</td>\n",
              "      <td>1794.061017</td>\n",
              "      <td>0.055235</td>\n",
              "      <td>0.035880</td>\n",
              "      <td>17.008557</td>\n",
              "      <td>12.954717</td>\n",
              "      <td>4274.298046</td>\n",
              "      <td>239.438807</td>\n",
              "      <td>16.076803</td>\n",
              "    </tr>\n",
              "    <tr>\n",
              "      <th>min</th>\n",
              "      <td>4.172630e+05</td>\n",
              "      <td>513.000000</td>\n",
              "      <td>41.692725</td>\n",
              "      <td>-87.806908</td>\n",
              "      <td>2.000000</td>\n",
              "      <td>4.000000</td>\n",
              "      <td>4299.000000</td>\n",
              "      <td>1.000000</td>\n",
              "      <td>1.000000</td>\n",
              "    </tr>\n",
              "    <tr>\n",
              "      <th>25%</th>\n",
              "      <td>6.931030e+05</td>\n",
              "      <td>1800.000000</td>\n",
              "      <td>41.833675</td>\n",
              "      <td>-87.723960</td>\n",
              "      <td>28.000000</td>\n",
              "      <td>29.000000</td>\n",
              "      <td>14920.000000</td>\n",
              "      <td>126.000000</td>\n",
              "      <td>24.000000</td>\n",
              "    </tr>\n",
              "    <tr>\n",
              "      <th>50%</th>\n",
              "      <td>1.191516e+06</td>\n",
              "      <td>1941.000000</td>\n",
              "      <td>41.887862</td>\n",
              "      <td>-87.672053</td>\n",
              "      <td>28.000000</td>\n",
              "      <td>30.000000</td>\n",
              "      <td>21184.000000</td>\n",
              "      <td>432.000000</td>\n",
              "      <td>32.000000</td>\n",
              "    </tr>\n",
              "    <tr>\n",
              "      <th>75%</th>\n",
              "      <td>1.586273e+06</td>\n",
              "      <td>3741.000000</td>\n",
              "      <td>41.887862</td>\n",
              "      <td>-87.672053</td>\n",
              "      <td>43.000000</td>\n",
              "      <td>33.000000</td>\n",
              "      <td>21569.000000</td>\n",
              "      <td>579.000000</td>\n",
              "      <td>46.000000</td>\n",
              "    </tr>\n",
              "    <tr>\n",
              "      <th>max</th>\n",
              "      <td>1.834731e+06</td>\n",
              "      <td>11101.000000</td>\n",
              "      <td>42.012704</td>\n",
              "      <td>-87.577522</td>\n",
              "      <td>61.000000</td>\n",
              "      <td>77.000000</td>\n",
              "      <td>22618.000000</td>\n",
              "      <td>767.000000</td>\n",
              "      <td>50.000000</td>\n",
              "    </tr>\n",
              "  </tbody>\n",
              "</table>\n",
              "</div>\n",
              "      <button class=\"colab-df-convert\" onclick=\"convertToInteractive('df-e6fe5a83-e26d-4eba-8d9c-606e1e0686e4')\"\n",
              "              title=\"Convert this dataframe to an interactive table.\"\n",
              "              style=\"display:none;\">\n",
              "        \n",
              "  <svg xmlns=\"http://www.w3.org/2000/svg\" height=\"24px\"viewBox=\"0 0 24 24\"\n",
              "       width=\"24px\">\n",
              "    <path d=\"M0 0h24v24H0V0z\" fill=\"none\"/>\n",
              "    <path d=\"M18.56 5.44l.94 2.06.94-2.06 2.06-.94-2.06-.94-.94-2.06-.94 2.06-2.06.94zm-11 1L8.5 8.5l.94-2.06 2.06-.94-2.06-.94L8.5 2.5l-.94 2.06-2.06.94zm10 10l.94 2.06.94-2.06 2.06-.94-2.06-.94-.94-2.06-.94 2.06-2.06.94z\"/><path d=\"M17.41 7.96l-1.37-1.37c-.4-.4-.92-.59-1.43-.59-.52 0-1.04.2-1.43.59L10.3 9.45l-7.72 7.72c-.78.78-.78 2.05 0 2.83L4 21.41c.39.39.9.59 1.41.59.51 0 1.02-.2 1.41-.59l7.78-7.78 2.81-2.81c.8-.78.8-2.07 0-2.86zM5.41 20L4 18.59l7.72-7.72 1.47 1.35L5.41 20z\"/>\n",
              "  </svg>\n",
              "      </button>\n",
              "      \n",
              "  <style>\n",
              "    .colab-df-container {\n",
              "      display:flex;\n",
              "      flex-wrap:wrap;\n",
              "      gap: 12px;\n",
              "    }\n",
              "\n",
              "    .colab-df-convert {\n",
              "      background-color: #E8F0FE;\n",
              "      border: none;\n",
              "      border-radius: 50%;\n",
              "      cursor: pointer;\n",
              "      display: none;\n",
              "      fill: #1967D2;\n",
              "      height: 32px;\n",
              "      padding: 0 0 0 0;\n",
              "      width: 32px;\n",
              "    }\n",
              "\n",
              "    .colab-df-convert:hover {\n",
              "      background-color: #E2EBFA;\n",
              "      box-shadow: 0px 1px 2px rgba(60, 64, 67, 0.3), 0px 1px 3px 1px rgba(60, 64, 67, 0.15);\n",
              "      fill: #174EA6;\n",
              "    }\n",
              "\n",
              "    [theme=dark] .colab-df-convert {\n",
              "      background-color: #3B4455;\n",
              "      fill: #D2E3FC;\n",
              "    }\n",
              "\n",
              "    [theme=dark] .colab-df-convert:hover {\n",
              "      background-color: #434B5C;\n",
              "      box-shadow: 0px 1px 3px 1px rgba(0, 0, 0, 0.15);\n",
              "      filter: drop-shadow(0px 1px 2px rgba(0, 0, 0, 0.3));\n",
              "      fill: #FFFFFF;\n",
              "    }\n",
              "  </style>\n",
              "\n",
              "      <script>\n",
              "        const buttonEl =\n",
              "          document.querySelector('#df-e6fe5a83-e26d-4eba-8d9c-606e1e0686e4 button.colab-df-convert');\n",
              "        buttonEl.style.display =\n",
              "          google.colab.kernel.accessAllowed ? 'block' : 'none';\n",
              "\n",
              "        async function convertToInteractive(key) {\n",
              "          const element = document.querySelector('#df-e6fe5a83-e26d-4eba-8d9c-606e1e0686e4');\n",
              "          const dataTable =\n",
              "            await google.colab.kernel.invokeFunction('convertToInteractive',\n",
              "                                                     [key], {});\n",
              "          if (!dataTable) return;\n",
              "\n",
              "          const docLinkHtml = 'Like what you see? Visit the ' +\n",
              "            '<a target=\"_blank\" href=https://colab.research.google.com/notebooks/data_table.ipynb>data table notebook</a>'\n",
              "            + ' to learn more about interactive tables.';\n",
              "          element.innerHTML = '';\n",
              "          dataTable['output_type'] = 'display_data';\n",
              "          await google.colab.output.renderOutput(dataTable, element);\n",
              "          const docLink = document.createElement('div');\n",
              "          docLink.innerHTML = docLinkHtml;\n",
              "          element.appendChild(docLink);\n",
              "        }\n",
              "      </script>\n",
              "    </div>\n",
              "  </div>\n",
              "  "
            ]
          },
          "metadata": {},
          "execution_count": 11
        }
      ]
    },
    {
      "cell_type": "code",
      "metadata": {
        "colab": {
          "base_uri": "https://localhost:8080/"
        },
        "id": "9T99vQQfqQKt",
        "outputId": "2dda9525-b113-4be2-b8f1-c6277726b318"
      },
      "source": [
        "air_quality.info()"
      ],
      "execution_count": 12,
      "outputs": [
        {
          "output_type": "stream",
          "name": "stdout",
          "text": [
            "<class 'pandas.core.frame.DataFrame'>\n",
            "RangeIndex: 1000 entries, 0 to 999\n",
            "Data columns (total 22 columns):\n",
            " #   Column                       Non-Null Count  Dtype  \n",
            "---  ------                       --------------  -----  \n",
            " 0   inspection_number            1000 non-null   int64  \n",
            " 1   modified_date                1000 non-null   object \n",
            " 2   site_name                    989 non-null    object \n",
            " 3   map_address                  1000 non-null   object \n",
            " 4   street_number                1000 non-null   int64  \n",
            " 5   direction                    1000 non-null   object \n",
            " 6   street_name                  1000 non-null   object \n",
            " 7   street_type                  991 non-null    object \n",
            " 8   inspection_type              1000 non-null   object \n",
            " 9   inspection_sub_category      1000 non-null   object \n",
            " 10  inspector                    995 non-null    object \n",
            " 11  inspection_date              995 non-null    object \n",
            " 12  narrative                    1000 non-null   object \n",
            " 13  data_source                  1000 non-null   object \n",
            " 14  latitude                     785 non-null    float64\n",
            " 15  longitude                    785 non-null    float64\n",
            " 16  location                     785 non-null    object \n",
            " 17  :@computed_region_rpca_8um6  785 non-null    float64\n",
            " 18  :@computed_region_vrxf_vc4k  785 non-null    float64\n",
            " 19  :@computed_region_6mkv_f3dw  785 non-null    float64\n",
            " 20  :@computed_region_bdys_3d7i  785 non-null    float64\n",
            " 21  :@computed_region_43wa_7qmu  785 non-null    float64\n",
            "dtypes: float64(7), int64(2), object(13)\n",
            "memory usage: 172.0+ KB\n"
          ]
        }
      ]
    },
    {
      "cell_type": "code",
      "metadata": {
        "colab": {
          "base_uri": "https://localhost:8080/"
        },
        "id": "cH2akbtRMVvQ",
        "outputId": "9af7ad0a-ada5-4d81-f2da-072c402fdf90"
      },
      "source": [
        "location_null = air_quality['location'].isnull().sum()\n",
        "print(location_null)"
      ],
      "execution_count": 15,
      "outputs": [
        {
          "output_type": "stream",
          "name": "stdout",
          "text": [
            "215\n"
          ]
        }
      ]
    },
    {
      "cell_type": "code",
      "metadata": {
        "colab": {
          "base_uri": "https://localhost:8080/"
        },
        "id": "Hg7h3gY4qzfv",
        "outputId": "118d4bcd-54ba-41f1-af4c-229a993d1de5"
      },
      "source": [
        "air_quality.isnull().sum()"
      ],
      "execution_count": 14,
      "outputs": [
        {
          "output_type": "execute_result",
          "data": {
            "text/plain": [
              "inspection_number                0\n",
              "modified_date                    0\n",
              "site_name                       11\n",
              "map_address                      0\n",
              "street_number                    0\n",
              "direction                        0\n",
              "street_name                      0\n",
              "street_type                      9\n",
              "inspection_type                  0\n",
              "inspection_sub_category          0\n",
              "inspector                        5\n",
              "inspection_date                  5\n",
              "narrative                        0\n",
              "data_source                      0\n",
              "latitude                       215\n",
              "longitude                      215\n",
              "location                       215\n",
              ":@computed_region_rpca_8um6    215\n",
              ":@computed_region_vrxf_vc4k    215\n",
              ":@computed_region_6mkv_f3dw    215\n",
              ":@computed_region_bdys_3d7i    215\n",
              ":@computed_region_43wa_7qmu    215\n",
              "dtype: int64"
            ]
          },
          "metadata": {},
          "execution_count": 14
        }
      ]
    },
    {
      "cell_type": "code",
      "metadata": {
        "id": "vSUe4ILnrAiz"
      },
      "source": [
        "air_quality_geo = gpd.GeoDataFrame(air_quality, geometry = gpd.points_from_xy(air_quality.longitude, air_quality.latitude))"
      ],
      "execution_count": 16,
      "outputs": []
    },
    {
      "cell_type": "code",
      "metadata": {
        "colab": {
          "base_uri": "https://localhost:8080/",
          "height": 845
        },
        "id": "Pzlpci_Lq8sE",
        "outputId": "67d1ef24-ce9a-4604-b47f-1bfb74097ecd"
      },
      "source": [
        "fig, ax = plt.subplots(figsize = (15, 15))\n",
        "chicago.plot(ax = ax, color ='lightgrey')\n",
        "air_quality_geo.plot(ax = ax, color='g')\n",
        "ax.set_title('Air Quality in Chicago')"
      ],
      "execution_count": 17,
      "outputs": [
        {
          "output_type": "execute_result",
          "data": {
            "text/plain": [
              "Text(0.5, 1.0, 'Air Quality in Chicago')"
            ]
          },
          "metadata": {},
          "execution_count": 17
        },
        {
          "output_type": "display_data",
          "data": {
            "text/plain": [
              "<Figure size 1080x1080 with 1 Axes>"
            ],
            "image/png": "[encoded data removed]"
          },
          "metadata": {
            "needs_background": "light"
          }
        }
      ]
    },
    {
      "cell_type": "code",
      "source": [
        ""
      ],
      "metadata": {
        "id": "yt8ab0exKQci"
      },
      "execution_count": null,
      "outputs": []
    }
  ]
}