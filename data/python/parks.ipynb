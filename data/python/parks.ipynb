{
  "nbformat": 4,
  "nbformat_minor": 0,
  "metadata": {
    "colab": {
      "name": "parks.ipynb",
      "provenance": [],
      "collapsed_sections": []
    },
    "kernelspec": {
      "name": "python3",
      "display_name": "Python 3"
    },
    "language_info": {
      "name": "python"
    }
  },
  "cells": [
    {
      "cell_type": "markdown",
      "source": [
        "# Chicago Parks"
      ],
      "metadata": {
        "id": "1omc0Mnhgc0V"
      }
    },
    {
      "cell_type": "markdown",
      "source": [
        "## Description"
      ],
      "metadata": {
        "id": "wy3UsKMIqS86"
      }
    },
    {
      "cell_type": "markdown",
      "source": [
        "Origin: Chicago data portal (https://data.cityofchicago.org/)\n",
        "\n",
        "Last updated: xx/xx/xxxx"
      ],
      "metadata": {
        "id": "6EYMPc_fqVVe"
      }
    },
    {
      "cell_type": "markdown",
      "source": [
        "## Packages (Python)"
      ],
      "metadata": {
        "id": "pUhSmjINiL-E"
      }
    },
    {
      "cell_type": "code",
      "execution_count": null,
      "metadata": {
        "id": "muLa3XYLfgdw",
        "colab": {
          "base_uri": "https://localhost:8080/"
        },
        "outputId": "12ae7f21-f881-4bc4-8048-001e01ef2d9b"
      },
      "outputs": [
        {
          "output_type": "stream",
          "name": "stdout",
          "text": [
            "Collecting geopandas\n",
            "  Downloading geopandas-0.10.2-py2.py3-none-any.whl (1.0 MB)\n",
            "\u001b[K     |████████████████████████████████| 1.0 MB 25.9 MB/s \n",
            "\u001b[?25hCollecting fiona>=1.8\n",
            "  Downloading Fiona-1.8.21-cp37-cp37m-manylinux2014_x86_64.whl (16.7 MB)\n",
            "\u001b[K     |████████████████████████████████| 16.7 MB 53.2 MB/s \n",
            "\u001b[?25hRequirement already satisfied: pandas>=0.25.0 in /usr/local/lib/python3.7/dist-packages (from geopandas) (1.3.5)\n",
            "Requirement already satisfied: shapely>=1.6 in /usr/local/lib/python3.7/dist-packages (from geopandas) (1.8.1.post1)\n",
            "Collecting pyproj>=2.2.0\n",
            "  Downloading pyproj-3.2.1-cp37-cp37m-manylinux2010_x86_64.whl (6.3 MB)\n",
            "\u001b[K     |████████████████████████████████| 6.3 MB 59.8 MB/s \n",
            "\u001b[?25hRequirement already satisfied: certifi in /usr/local/lib/python3.7/dist-packages (from fiona>=1.8->geopandas) (2021.10.8)\n",
            "Collecting cligj>=0.5\n",
            "  Downloading cligj-0.7.2-py3-none-any.whl (7.1 kB)\n",
            "Requirement already satisfied: click>=4.0 in /usr/local/lib/python3.7/dist-packages (from fiona>=1.8->geopandas) (7.1.2)\n",
            "Requirement already satisfied: attrs>=17 in /usr/local/lib/python3.7/dist-packages (from fiona>=1.8->geopandas) (21.4.0)\n",
            "Collecting munch\n",
            "  Downloading munch-2.5.0-py2.py3-none-any.whl (10 kB)\n",
            "Requirement already satisfied: six>=1.7 in /usr/local/lib/python3.7/dist-packages (from fiona>=1.8->geopandas) (1.15.0)\n",
            "Collecting click-plugins>=1.0\n",
            "  Downloading click_plugins-1.1.1-py2.py3-none-any.whl (7.5 kB)\n",
            "Requirement already satisfied: setuptools in /usr/local/lib/python3.7/dist-packages (from fiona>=1.8->geopandas) (57.4.0)\n",
            "Requirement already satisfied: python-dateutil>=2.7.3 in /usr/local/lib/python3.7/dist-packages (from pandas>=0.25.0->geopandas) (2.8.2)\n",
            "Requirement already satisfied: pytz>=2017.3 in /usr/local/lib/python3.7/dist-packages (from pandas>=0.25.0->geopandas) (2022.1)\n",
            "Requirement already satisfied: numpy>=1.17.3 in /usr/local/lib/python3.7/dist-packages (from pandas>=0.25.0->geopandas) (1.21.6)\n",
            "Installing collected packages: munch, cligj, click-plugins, pyproj, fiona, geopandas\n",
            "Successfully installed click-plugins-1.1.1 cligj-0.7.2 fiona-1.8.21 geopandas-0.10.2 munch-2.5.0 pyproj-3.2.1\n"
          ]
        }
      ],
      "source": [
        "!pip install geopandas"
      ]
    },
    {
      "cell_type": "code",
      "source": [
        "!pip install geojson"
      ],
      "metadata": {
        "id": "dNr5LDSugeY-",
        "colab": {
          "base_uri": "https://localhost:8080/"
        },
        "outputId": "f5240083-d873-4982-a9ca-d253cfe446be"
      },
      "execution_count": null,
      "outputs": [
        {
          "output_type": "stream",
          "name": "stdout",
          "text": [
            "Collecting geojson\n",
            "  Downloading geojson-2.5.0-py2.py3-none-any.whl (14 kB)\n",
            "Installing collected packages: geojson\n",
            "Successfully installed geojson-2.5.0\n"
          ]
        }
      ]
    },
    {
      "cell_type": "code",
      "source": [
        "#standard libraries\n",
        "import pandas as pd\n",
        "import numpy as np\n",
        "import matplotlib.pyplot as plt\n",
        "import cufflinks as cf\n",
        "import plotly\n",
        "import plotly.offline as py\n",
        "import plotly.graph_objs as go\n",
        "\n",
        "import geopandas as gpd\n",
        "import geopy as gp\n",
        "import shapely\n",
        "import geojson\n",
        "#import rtree\n",
        "#import pygeos\n",
        "#import fiona"
      ],
      "metadata": {
        "id": "VB5WIQyViieZ"
      },
      "execution_count": null,
      "outputs": []
    },
    {
      "cell_type": "code",
      "source": [
        "# Preprocessing files\n",
        "from preprocessing import *"
      ],
      "metadata": {
        "id": "ULNwYDr2i7Z-"
      },
      "execution_count": null,
      "outputs": []
    },
    {
      "cell_type": "markdown",
      "source": [
        "## Chicago Polygon "
      ],
      "metadata": {
        "id": "yqFBJXRfjrVs"
      }
    },
    {
      "cell_type": "code",
      "source": [
        "# Reading file that must be uploaded\n",
        "\n",
        "chicago = gpd.read_file('chicago.shp')\n",
        "chicago.plot()"
      ],
      "metadata": {
        "colab": {
          "base_uri": "https://localhost:8080/",
          "height": 283
        },
        "id": "DMS9I2V7kw8F",
        "outputId": "42d26320-bbba-46fc-d57d-f2b417df4410"
      },
      "execution_count": null,
      "outputs": [
        {
          "output_type": "execute_result",
          "data": {
            "text/plain": [
              "<matplotlib.axes._subplots.AxesSubplot at 0x7faf452216d0>"
            ]
          },
          "metadata": {},
          "execution_count": 10
        },
        {
          "output_type": "display_data",
          "data": {
            "text/plain": [
              "<Figure size 432x288 with 1 Axes>"
            ],
            "image/png": "[encoded data removed]"
          },
          "metadata": {
            "needs_background": "light"
          }
        }
      ]
    },
    {
      "cell_type": "markdown",
      "source": [
        "## Data processing"
      ],
      "metadata": {
        "id": "VB_mxejqlT32"
      }
    },
    {
      "cell_type": "code",
      "source": [
        "url = 'https://data.cityofchicago.org/resource/2eaw-bdhe.json'\n",
        "parks_raw = pd.read_json(url)"
      ],
      "metadata": {
        "id": "cS1u0y5alayE"
      },
      "execution_count": null,
      "outputs": []
    },
    {
      "cell_type": "code",
      "source": [
        "parks_raw.head()"
      ],
      "metadata": {
        "colab": {
          "base_uri": "https://localhost:8080/",
          "height": 369
        },
        "id": "W4JZrYZnlcST",
        "outputId": "34d9e5d8-e067-4823-da8a-3747e3fb6669"
      },
      "execution_count": null,
      "outputs": [
        {
          "output_type": "execute_result",
          "data": {
            "text/plain": [
              "         park_name  bowling_green  gymnastic_centers  \\\n",
              "0  MCKEON (JOSEPH)              0                  0   \n",
              "1             OHIO              0                  0   \n",
              "2   ALTGELD (JOHN)              0                  0   \n",
              "3     PARK NO. 468              0                  0   \n",
              "4  RAINEY (EDWARD)              0                  0   \n",
              "\n",
              "   :@computed_region_43wa_7qmu  band_shell  wheelchair_accessible_ball_fields  \\\n",
              "0                         48.0           0                                  0   \n",
              "1                         23.0           0                                  0   \n",
              "2                         23.0           0                                  0   \n",
              "3                         15.0           0                                  0   \n",
              "4                         30.0           0                                  0   \n",
              "\n",
              "   boat_slips  volleyball_sand       park_class  alfred_caldwell_lily_pond  \\\n",
              "0           0                0        MINI-PARK                          0   \n",
              "1           0                0        MINI-PARK                          0   \n",
              "2           0                0   COMMUNITY PARK                          0   \n",
              "3           0                0  UNIMPROVED PARK                          0   \n",
              "4           0                0    REGIONAL PARK                          0   \n",
              "\n",
              "   ... playground         label  fitness_courses  track  garden  \\\n",
              "0  ...          0        McKeon                0      0       0   \n",
              "1  ...          1          Ohio                0      0       0   \n",
              "2  ...          1       Altgeld                0      0       0   \n",
              "3  ...          0  Park No. 468                0      0       0   \n",
              "4  ...          1        Rainey                0      0       0   \n",
              "\n",
              "   golf_driving_range  archery_range  :@computed_region_vrxf_vc4k  volleyball  \\\n",
              "0                   0              0                         58.0           0   \n",
              "1                   0              0                         26.0           0   \n",
              "2                   0              0                         28.0           0   \n",
              "3                   0              0                         60.0           0   \n",
              "4                   0              0                         69.0           1   \n",
              "\n",
              "   croquet  \n",
              "0        0  \n",
              "1        0  \n",
              "2        0  \n",
              "3        0  \n",
              "4        0  \n",
              "\n",
              "[5 rows x 81 columns]"
            ],
            "text/html": [
              "\n",
              "  <div id=\"df-1b36c2cf-8238-4d40-bfa1-2587048d6f7f\">\n",
              "    <div class=\"colab-df-container\">\n",
              "      <div>\n",
              "<style scoped>\n",
              "    .dataframe tbody tr th:only-of-type {\n",
              "        vertical-align: middle;\n",
              "    }\n",
              "\n",
              "    .dataframe tbody tr th {\n",
              "        vertical-align: top;\n",
              "    }\n",
              "\n",
              "    .dataframe thead th {\n",
              "        text-align: right;\n",
              "    }\n",
              "</style>\n",
              "<table border=\"1\" class=\"dataframe\">\n",
              "  <thead>\n",
              "    <tr style=\"text-align: right;\">\n",
              "      <th></th>\n",
              "      <th>park_name</th>\n",
              "      <th>bowling_green</th>\n",
              "      <th>gymnastic_centers</th>\n",
              "      <th>:@computed_region_43wa_7qmu</th>\n",
              "      <th>band_shell</th>\n",
              "      <th>wheelchair_accessible_ball_fields</th>\n",
              "      <th>boat_slips</th>\n",
              "      <th>volleyball_sand</th>\n",
              "      <th>park_class</th>\n",
              "      <th>alfred_caldwell_lily_pond</th>\n",
              "      <th>...</th>\n",
              "      <th>playground</th>\n",
              "      <th>label</th>\n",
              "      <th>fitness_courses</th>\n",
              "      <th>track</th>\n",
              "      <th>garden</th>\n",
              "      <th>golf_driving_range</th>\n",
              "      <th>archery_range</th>\n",
              "      <th>:@computed_region_vrxf_vc4k</th>\n",
              "      <th>volleyball</th>\n",
              "      <th>croquet</th>\n",
              "    </tr>\n",
              "  </thead>\n",
              "  <tbody>\n",
              "    <tr>\n",
              "      <th>0</th>\n",
              "      <td>MCKEON (JOSEPH)</td>\n",
              "      <td>0</td>\n",
              "      <td>0</td>\n",
              "      <td>48.0</td>\n",
              "      <td>0</td>\n",
              "      <td>0</td>\n",
              "      <td>0</td>\n",
              "      <td>0</td>\n",
              "      <td>MINI-PARK</td>\n",
              "      <td>0</td>\n",
              "      <td>...</td>\n",
              "      <td>0</td>\n",
              "      <td>McKeon</td>\n",
              "      <td>0</td>\n",
              "      <td>0</td>\n",
              "      <td>0</td>\n",
              "      <td>0</td>\n",
              "      <td>0</td>\n",
              "      <td>58.0</td>\n",
              "      <td>0</td>\n",
              "      <td>0</td>\n",
              "    </tr>\n",
              "    <tr>\n",
              "      <th>1</th>\n",
              "      <td>OHIO</td>\n",
              "      <td>0</td>\n",
              "      <td>0</td>\n",
              "      <td>23.0</td>\n",
              "      <td>0</td>\n",
              "      <td>0</td>\n",
              "      <td>0</td>\n",
              "      <td>0</td>\n",
              "      <td>MINI-PARK</td>\n",
              "      <td>0</td>\n",
              "      <td>...</td>\n",
              "      <td>1</td>\n",
              "      <td>Ohio</td>\n",
              "      <td>0</td>\n",
              "      <td>0</td>\n",
              "      <td>0</td>\n",
              "      <td>0</td>\n",
              "      <td>0</td>\n",
              "      <td>26.0</td>\n",
              "      <td>0</td>\n",
              "      <td>0</td>\n",
              "    </tr>\n",
              "    <tr>\n",
              "      <th>2</th>\n",
              "      <td>ALTGELD (JOHN)</td>\n",
              "      <td>0</td>\n",
              "      <td>0</td>\n",
              "      <td>23.0</td>\n",
              "      <td>0</td>\n",
              "      <td>0</td>\n",
              "      <td>0</td>\n",
              "      <td>0</td>\n",
              "      <td>COMMUNITY PARK</td>\n",
              "      <td>0</td>\n",
              "      <td>...</td>\n",
              "      <td>1</td>\n",
              "      <td>Altgeld</td>\n",
              "      <td>0</td>\n",
              "      <td>0</td>\n",
              "      <td>0</td>\n",
              "      <td>0</td>\n",
              "      <td>0</td>\n",
              "      <td>28.0</td>\n",
              "      <td>0</td>\n",
              "      <td>0</td>\n",
              "    </tr>\n",
              "    <tr>\n",
              "      <th>3</th>\n",
              "      <td>PARK NO. 468</td>\n",
              "      <td>0</td>\n",
              "      <td>0</td>\n",
              "      <td>15.0</td>\n",
              "      <td>0</td>\n",
              "      <td>0</td>\n",
              "      <td>0</td>\n",
              "      <td>0</td>\n",
              "      <td>UNIMPROVED PARK</td>\n",
              "      <td>0</td>\n",
              "      <td>...</td>\n",
              "      <td>0</td>\n",
              "      <td>Park No. 468</td>\n",
              "      <td>0</td>\n",
              "      <td>0</td>\n",
              "      <td>0</td>\n",
              "      <td>0</td>\n",
              "      <td>0</td>\n",
              "      <td>60.0</td>\n",
              "      <td>0</td>\n",
              "      <td>0</td>\n",
              "    </tr>\n",
              "    <tr>\n",
              "      <th>4</th>\n",
              "      <td>RAINEY (EDWARD)</td>\n",
              "      <td>0</td>\n",
              "      <td>0</td>\n",
              "      <td>30.0</td>\n",
              "      <td>0</td>\n",
              "      <td>0</td>\n",
              "      <td>0</td>\n",
              "      <td>0</td>\n",
              "      <td>REGIONAL PARK</td>\n",
              "      <td>0</td>\n",
              "      <td>...</td>\n",
              "      <td>1</td>\n",
              "      <td>Rainey</td>\n",
              "      <td>0</td>\n",
              "      <td>0</td>\n",
              "      <td>0</td>\n",
              "      <td>0</td>\n",
              "      <td>0</td>\n",
              "      <td>69.0</td>\n",
              "      <td>1</td>\n",
              "      <td>0</td>\n",
              "    </tr>\n",
              "  </tbody>\n",
              "</table>\n",
              "<p>5 rows × 81 columns</p>\n",
              "</div>\n",
              "      <button class=\"colab-df-convert\" onclick=\"convertToInteractive('df-1b36c2cf-8238-4d40-bfa1-2587048d6f7f')\"\n",
              "              title=\"Convert this dataframe to an interactive table.\"\n",
              "              style=\"display:none;\">\n",
              "        \n",
              "  <svg xmlns=\"http://www.w3.org/2000/svg\" height=\"24px\"viewBox=\"0 0 24 24\"\n",
              "       width=\"24px\">\n",
              "    <path d=\"M0 0h24v24H0V0z\" fill=\"none\"/>\n",
              "    <path d=\"M18.56 5.44l.94 2.06.94-2.06 2.06-.94-2.06-.94-.94-2.06-.94 2.06-2.06.94zm-11 1L8.5 8.5l.94-2.06 2.06-.94-2.06-.94L8.5 2.5l-.94 2.06-2.06.94zm10 10l.94 2.06.94-2.06 2.06-.94-2.06-.94-.94-2.06-.94 2.06-2.06.94z\"/><path d=\"M17.41 7.96l-1.37-1.37c-.4-.4-.92-.59-1.43-.59-.52 0-1.04.2-1.43.59L10.3 9.45l-7.72 7.72c-.78.78-.78 2.05 0 2.83L4 21.41c.39.39.9.59 1.41.59.51 0 1.02-.2 1.41-.59l7.78-7.78 2.81-2.81c.8-.78.8-2.07 0-2.86zM5.41 20L4 18.59l7.72-7.72 1.47 1.35L5.41 20z\"/>\n",
              "  </svg>\n",
              "      </button>\n",
              "      \n",
              "  <style>\n",
              "    .colab-df-container {\n",
              "      display:flex;\n",
              "      flex-wrap:wrap;\n",
              "      gap: 12px;\n",
              "    }\n",
              "\n",
              "    .colab-df-convert {\n",
              "      background-color: #E8F0FE;\n",
              "      border: none;\n",
              "      border-radius: 50%;\n",
              "      cursor: pointer;\n",
              "      display: none;\n",
              "      fill: #1967D2;\n",
              "      height: 32px;\n",
              "      padding: 0 0 0 0;\n",
              "      width: 32px;\n",
              "    }\n",
              "\n",
              "    .colab-df-convert:hover {\n",
              "      background-color: #E2EBFA;\n",
              "      box-shadow: 0px 1px 2px rgba(60, 64, 67, 0.3), 0px 1px 3px 1px rgba(60, 64, 67, 0.15);\n",
              "      fill: #174EA6;\n",
              "    }\n",
              "\n",
              "    [theme=dark] .colab-df-convert {\n",
              "      background-color: #3B4455;\n",
              "      fill: #D2E3FC;\n",
              "    }\n",
              "\n",
              "    [theme=dark] .colab-df-convert:hover {\n",
              "      background-color: #434B5C;\n",
              "      box-shadow: 0px 1px 3px 1px rgba(0, 0, 0, 0.15);\n",
              "      filter: drop-shadow(0px 1px 2px rgba(0, 0, 0, 0.3));\n",
              "      fill: #FFFFFF;\n",
              "    }\n",
              "  </style>\n",
              "\n",
              "      <script>\n",
              "        const buttonEl =\n",
              "          document.querySelector('#df-1b36c2cf-8238-4d40-bfa1-2587048d6f7f button.colab-df-convert');\n",
              "        buttonEl.style.display =\n",
              "          google.colab.kernel.accessAllowed ? 'block' : 'none';\n",
              "\n",
              "        async function convertToInteractive(key) {\n",
              "          const element = document.querySelector('#df-1b36c2cf-8238-4d40-bfa1-2587048d6f7f');\n",
              "          const dataTable =\n",
              "            await google.colab.kernel.invokeFunction('convertToInteractive',\n",
              "                                                     [key], {});\n",
              "          if (!dataTable) return;\n",
              "\n",
              "          const docLinkHtml = 'Like what you see? Visit the ' +\n",
              "            '<a target=\"_blank\" href=https://colab.research.google.com/notebooks/data_table.ipynb>data table notebook</a>'\n",
              "            + ' to learn more about interactive tables.';\n",
              "          element.innerHTML = '';\n",
              "          dataTable['output_type'] = 'display_data';\n",
              "          await google.colab.output.renderOutput(dataTable, element);\n",
              "          const docLink = document.createElement('div');\n",
              "          docLink.innerHTML = docLinkHtml;\n",
              "          element.appendChild(docLink);\n",
              "        }\n",
              "      </script>\n",
              "    </div>\n",
              "  </div>\n",
              "  "
            ]
          },
          "metadata": {},
          "execution_count": 12
        }
      ]
    },
    {
      "cell_type": "code",
      "source": [
        "parks_raw[\"location\"][0]"
      ],
      "metadata": {
        "colab": {
          "base_uri": "https://localhost:8080/"
        },
        "id": "1Gzq5eUaleAJ",
        "outputId": "c777d4f7-591c-4bc3-976f-a29e66dffdef"
      },
      "execution_count": null,
      "outputs": [
        {
          "output_type": "execute_result",
          "data": {
            "text/plain": [
              "{'human_address': '{\"address\": \"600 W 36TH ST\", \"city\": \"\", \"state\": \"\", \"zip\": \"60609\"}',\n",
              " 'latitude': '41.82903552510654',\n",
              " 'longitude': '-87.64121494764093',\n",
              " 'needs_recoding': False}"
            ]
          },
          "metadata": {},
          "execution_count": 13
        }
      ]
    },
    {
      "cell_type": "code",
      "source": [
        "parks_located = pd.DataFrame()\n",
        "parks_located = extract_location(parks)"
      ],
      "metadata": {
        "id": "GAQVzog-mviA"
      },
      "execution_count": null,
      "outputs": []
    },
    {
      "cell_type": "code",
      "source": [
        "parks_located.info()"
      ],
      "metadata": {
        "colab": {
          "base_uri": "https://localhost:8080/"
        },
        "id": "QzxDvI_znSUt",
        "outputId": "68aed3b9-a450-45d1-a793-998a392bf29c"
      },
      "execution_count": null,
      "outputs": [
        {
          "output_type": "stream",
          "name": "stdout",
          "text": [
            "<class 'pandas.core.frame.DataFrame'>\n",
            "RangeIndex: 581 entries, 0 to 580\n",
            "Data columns (total 83 columns):\n",
            " #   Column                             Non-Null Count  Dtype  \n",
            "---  ------                             --------------  -----  \n",
            " 0   park_name                          581 non-null    object \n",
            " 1   bowling_green                      581 non-null    int64  \n",
            " 2   gymnastic_centers                  581 non-null    int64  \n",
            " 3   :@computed_region_43wa_7qmu        577 non-null    float64\n",
            " 4   band_shell                         581 non-null    int64  \n",
            " 5   wheelchair_accessible_ball_fields  581 non-null    int64  \n",
            " 6   boat_slips                         581 non-null    int64  \n",
            " 7   volleyball_sand                    581 non-null    int64  \n",
            " 8   park_class                         581 non-null    object \n",
            " 9   alfred_caldwell_lily_pond          581 non-null    int64  \n",
            " 10  location                           580 non-null    object \n",
            " 11  lagoon                             581 non-null    int64  \n",
            " 12  casting_area                       581 non-null    int64  \n",
            " 13  nature_center                      581 non-null    int64  \n",
            " 14  sport_roller_courts                581 non-null    int64  \n",
            " 15  baseball_jr_softball_t_ball        581 non-null    int64  \n",
            " 16  baseball_sr                        581 non-null    int64  \n",
            " 17  baseball_batting_cages             581 non-null    int64  \n",
            " 18  sled_hill                          581 non-null    int64  \n",
            " 19  wetland_area                       581 non-null    int64  \n",
            " 20  fitness_center                     581 non-null    int64  \n",
            " 21  bocce_court                        581 non-null    int64  \n",
            " 22  pool_indoor                        581 non-null    int64  \n",
            " 23  cultural_center                    581 non-null    int64  \n",
            " 24  carousel                           581 non-null    int64  \n",
            " 25  water_playground                   581 non-null    int64  \n",
            " 26  community_garden                   581 non-null    int64  \n",
            " 27  gymnasium                          581 non-null    int64  \n",
            " 28  golf_putting_greens                581 non-null    int64  \n",
            " 29  skate_park                         581 non-null    int64  \n",
            " 30  acres                              581 non-null    float64\n",
            " 31  gallery                            581 non-null    int64  \n",
            " 32  cricket_field                      581 non-null    int64  \n",
            " 33  model_train_display                581 non-null    int64  \n",
            " 34  boat_launch_non_motorized          581 non-null    int64  \n",
            " 35  rowing_club                        581 non-null    int64  \n",
            " 36  pool_outdoor                       581 non-null    int64  \n",
            " 37  :@computed_region_rpca_8um6        577 non-null    float64\n",
            " 38  basketball_backboards              581 non-null    int64  \n",
            " 39  shuffleboard                       581 non-null    int64  \n",
            " 40  :@computed_region_awaf_s7ux        577 non-null    float64\n",
            " 41  pavillion                          581 non-null    int64  \n",
            " 42  conservatory                       581 non-null    int64  \n",
            " 43  handball_raquetball_court          581 non-null    int64  \n",
            " 44  horseshoe_courts                   581 non-null    int64  \n",
            " 45  boat_launch_motorized              581 non-null    int64  \n",
            " 46  ice_skating                        581 non-null    int64  \n",
            " 47  ward                               581 non-null    int64  \n",
            " 48  model_yacht_basin                  581 non-null    int64  \n",
            " 49  zip                                580 non-null    float64\n",
            " 50  tennis_courts                      581 non-null    int64  \n",
            " 51  beach                              581 non-null    int64  \n",
            " 52  street_address                     580 non-null    object \n",
            " 53  golf_course                        581 non-null    int64  \n",
            " 54  chess_pavillion                    581 non-null    int64  \n",
            " 55  spray_feature                      581 non-null    int64  \n",
            " 56  golf_course_miniature              581 non-null    int64  \n",
            " 57  basketball_courts                  581 non-null    int64  \n",
            " 58  handball                           581 non-null    int64  \n",
            " 59  zoo                                581 non-null    int64  \n",
            " 60  football_soccer_combo              581 non-null    int64  \n",
            " 61  water_slide                        581 non-null    int64  \n",
            " 62  senior_center                      581 non-null    int64  \n",
            " 63  :@computed_region_bdys_3d7i        577 non-null    float64\n",
            " 64  mountain_bike_trail                581 non-null    int64  \n",
            " 65  :@computed_region_6mkv_f3dw        577 non-null    float64\n",
            " 66  park_number                        581 non-null    int64  \n",
            " 67  dog_friendly                       581 non-null    int64  \n",
            " 68  playground_park                    581 non-null    int64  \n",
            " 69  artificial_turf_fields             581 non-null    int64  \n",
            " 70  boxing_center                      581 non-null    int64  \n",
            " 71  playground                         581 non-null    int64  \n",
            " 72  label                              581 non-null    object \n",
            " 73  fitness_courses                    581 non-null    int64  \n",
            " 74  track                              581 non-null    int64  \n",
            " 75  garden                             581 non-null    int64  \n",
            " 76  golf_driving_range                 581 non-null    int64  \n",
            " 77  archery_range                      581 non-null    int64  \n",
            " 78  :@computed_region_vrxf_vc4k        577 non-null    float64\n",
            " 79  volleyball                         581 non-null    int64  \n",
            " 80  croquet                            581 non-null    int64  \n",
            " 81  latitude                           577 non-null    object \n",
            " 82  longitude                          577 non-null    object \n",
            "dtypes: float64(8), int64(68), object(7)\n",
            "memory usage: 376.9+ KB\n"
          ]
        }
      ]
    },
    {
      "cell_type": "code",
      "source": [
        "parks_located.describe()"
      ],
      "metadata": {
        "colab": {
          "base_uri": "https://localhost:8080/",
          "height": 393
        },
        "id": "MuvSgdDqoqnw",
        "outputId": "6903634b-3468-4164-c6a5-9706bf6a7ec8"
      },
      "execution_count": null,
      "outputs": [
        {
          "output_type": "execute_result",
          "data": {
            "text/plain": [
              "       bowling_green  gymnastic_centers  :@computed_region_43wa_7qmu  \\\n",
              "count     581.000000         581.000000                   577.000000   \n",
              "mean        0.003442           0.013769                    26.131716   \n",
              "std         0.082974           0.116633                    14.537905   \n",
              "min         0.000000           0.000000                     1.000000   \n",
              "25%         0.000000           0.000000                    13.000000   \n",
              "50%         0.000000           0.000000                    26.000000   \n",
              "75%         0.000000           0.000000                    39.000000   \n",
              "max         2.000000           1.000000                    50.000000   \n",
              "\n",
              "       band_shell  wheelchair_accessible_ball_fields  boat_slips  \\\n",
              "count  581.000000                         581.000000  581.000000   \n",
              "mean     0.001721                           0.003442    0.166954   \n",
              "std      0.041487                           0.058621    3.737694   \n",
              "min      0.000000                           0.000000    0.000000   \n",
              "25%      0.000000                           0.000000    0.000000   \n",
              "50%      0.000000                           0.000000    0.000000   \n",
              "75%      0.000000                           0.000000    0.000000   \n",
              "max      1.000000                           1.000000   90.000000   \n",
              "\n",
              "       volleyball_sand  alfred_caldwell_lily_pond      lagoon  casting_area  \\\n",
              "count       581.000000                 581.000000  581.000000    581.000000   \n",
              "mean          0.058520                   0.001721    0.030981      0.020654   \n",
              "std           0.255998                   0.041487    0.209442      0.142346   \n",
              "min           0.000000                   0.000000    0.000000      0.000000   \n",
              "25%           0.000000                   0.000000    0.000000      0.000000   \n",
              "50%           0.000000                   0.000000    0.000000      0.000000   \n",
              "75%           0.000000                   0.000000    0.000000      0.000000   \n",
              "max           2.000000                   1.000000    3.000000      1.000000   \n",
              "\n",
              "       ...  boxing_center  playground  fitness_courses       track  \\\n",
              "count  ...     581.000000  581.000000       581.000000  581.000000   \n",
              "mean   ...       0.017212    0.662651         0.005164    0.046472   \n",
              "std    ...       0.130172    0.807166         0.071734    0.210686   \n",
              "min    ...       0.000000    0.000000         0.000000    0.000000   \n",
              "25%    ...       0.000000    0.000000         0.000000    0.000000   \n",
              "50%    ...       0.000000    1.000000         0.000000    0.000000   \n",
              "75%    ...       0.000000    1.000000         0.000000    0.000000   \n",
              "max    ...       1.000000   10.000000         1.000000    1.000000   \n",
              "\n",
              "           garden  golf_driving_range  archery_range  \\\n",
              "count  581.000000          581.000000     581.000000   \n",
              "mean     0.032702            0.005164       0.001721   \n",
              "std      0.205017            0.071734       0.041487   \n",
              "min      0.000000            0.000000       0.000000   \n",
              "25%      0.000000            0.000000       0.000000   \n",
              "50%      0.000000            0.000000       0.000000   \n",
              "75%      0.000000            0.000000       0.000000   \n",
              "max      2.000000            1.000000       1.000000   \n",
              "\n",
              "       :@computed_region_vrxf_vc4k  volleyball     croquet  \n",
              "count                   577.000000  581.000000  581.000000  \n",
              "mean                     37.076256    0.036145    0.003442  \n",
              "std                      22.088075    0.195823    0.058621  \n",
              "min                       1.000000    0.000000    0.000000  \n",
              "25%                      20.000000    0.000000    0.000000  \n",
              "50%                      33.000000    0.000000    0.000000  \n",
              "75%                      57.000000    0.000000    0.000000  \n",
              "max                      77.000000    2.000000    1.000000  \n",
              "\n",
              "[8 rows x 76 columns]"
            ],
            "text/html": [
              "\n",
              "  <div id=\"df-8bbac45f-cad3-451a-964c-aa0c3c1490f4\">\n",
              "    <div class=\"colab-df-container\">\n",
              "      <div>\n",
              "<style scoped>\n",
              "    .dataframe tbody tr th:only-of-type {\n",
              "        vertical-align: middle;\n",
              "    }\n",
              "\n",
              "    .dataframe tbody tr th {\n",
              "        vertical-align: top;\n",
              "    }\n",
              "\n",
              "    .dataframe thead th {\n",
              "        text-align: right;\n",
              "    }\n",
              "</style>\n",
              "<table border=\"1\" class=\"dataframe\">\n",
              "  <thead>\n",
              "    <tr style=\"text-align: right;\">\n",
              "      <th></th>\n",
              "      <th>bowling_green</th>\n",
              "      <th>gymnastic_centers</th>\n",
              "      <th>:@computed_region_43wa_7qmu</th>\n",
              "      <th>band_shell</th>\n",
              "      <th>wheelchair_accessible_ball_fields</th>\n",
              "      <th>boat_slips</th>\n",
              "      <th>volleyball_sand</th>\n",
              "      <th>alfred_caldwell_lily_pond</th>\n",
              "      <th>lagoon</th>\n",
              "      <th>casting_area</th>\n",
              "      <th>...</th>\n",
              "      <th>boxing_center</th>\n",
              "      <th>playground</th>\n",
              "      <th>fitness_courses</th>\n",
              "      <th>track</th>\n",
              "      <th>garden</th>\n",
              "      <th>golf_driving_range</th>\n",
              "      <th>archery_range</th>\n",
              "      <th>:@computed_region_vrxf_vc4k</th>\n",
              "      <th>volleyball</th>\n",
              "      <th>croquet</th>\n",
              "    </tr>\n",
              "  </thead>\n",
              "  <tbody>\n",
              "    <tr>\n",
              "      <th>count</th>\n",
              "      <td>581.000000</td>\n",
              "      <td>581.000000</td>\n",
              "      <td>577.000000</td>\n",
              "      <td>581.000000</td>\n",
              "      <td>581.000000</td>\n",
              "      <td>581.000000</td>\n",
              "      <td>581.000000</td>\n",
              "      <td>581.000000</td>\n",
              "      <td>581.000000</td>\n",
              "      <td>581.000000</td>\n",
              "      <td>...</td>\n",
              "      <td>581.000000</td>\n",
              "      <td>581.000000</td>\n",
              "      <td>581.000000</td>\n",
              "      <td>581.000000</td>\n",
              "      <td>581.000000</td>\n",
              "      <td>581.000000</td>\n",
              "      <td>581.000000</td>\n",
              "      <td>577.000000</td>\n",
              "      <td>581.000000</td>\n",
              "      <td>581.000000</td>\n",
              "    </tr>\n",
              "    <tr>\n",
              "      <th>mean</th>\n",
              "      <td>0.003442</td>\n",
              "      <td>0.013769</td>\n",
              "      <td>26.131716</td>\n",
              "      <td>0.001721</td>\n",
              "      <td>0.003442</td>\n",
              "      <td>0.166954</td>\n",
              "      <td>0.058520</td>\n",
              "      <td>0.001721</td>\n",
              "      <td>0.030981</td>\n",
              "      <td>0.020654</td>\n",
              "      <td>...</td>\n",
              "      <td>0.017212</td>\n",
              "      <td>0.662651</td>\n",
              "      <td>0.005164</td>\n",
              "      <td>0.046472</td>\n",
              "      <td>0.032702</td>\n",
              "      <td>0.005164</td>\n",
              "      <td>0.001721</td>\n",
              "      <td>37.076256</td>\n",
              "      <td>0.036145</td>\n",
              "      <td>0.003442</td>\n",
              "    </tr>\n",
              "    <tr>\n",
              "      <th>std</th>\n",
              "      <td>0.082974</td>\n",
              "      <td>0.116633</td>\n",
              "      <td>14.537905</td>\n",
              "      <td>0.041487</td>\n",
              "      <td>0.058621</td>\n",
              "      <td>3.737694</td>\n",
              "      <td>0.255998</td>\n",
              "      <td>0.041487</td>\n",
              "      <td>0.209442</td>\n",
              "      <td>0.142346</td>\n",
              "      <td>...</td>\n",
              "      <td>0.130172</td>\n",
              "      <td>0.807166</td>\n",
              "      <td>0.071734</td>\n",
              "      <td>0.210686</td>\n",
              "      <td>0.205017</td>\n",
              "      <td>0.071734</td>\n",
              "      <td>0.041487</td>\n",
              "      <td>22.088075</td>\n",
              "      <td>0.195823</td>\n",
              "      <td>0.058621</td>\n",
              "    </tr>\n",
              "    <tr>\n",
              "      <th>min</th>\n",
              "      <td>0.000000</td>\n",
              "      <td>0.000000</td>\n",
              "      <td>1.000000</td>\n",
              "      <td>0.000000</td>\n",
              "      <td>0.000000</td>\n",
              "      <td>0.000000</td>\n",
              "      <td>0.000000</td>\n",
              "      <td>0.000000</td>\n",
              "      <td>0.000000</td>\n",
              "      <td>0.000000</td>\n",
              "      <td>...</td>\n",
              "      <td>0.000000</td>\n",
              "      <td>0.000000</td>\n",
              "      <td>0.000000</td>\n",
              "      <td>0.000000</td>\n",
              "      <td>0.000000</td>\n",
              "      <td>0.000000</td>\n",
              "      <td>0.000000</td>\n",
              "      <td>1.000000</td>\n",
              "      <td>0.000000</td>\n",
              "      <td>0.000000</td>\n",
              "    </tr>\n",
              "    <tr>\n",
              "      <th>25%</th>\n",
              "      <td>0.000000</td>\n",
              "      <td>0.000000</td>\n",
              "      <td>13.000000</td>\n",
              "      <td>0.000000</td>\n",
              "      <td>0.000000</td>\n",
              "      <td>0.000000</td>\n",
              "      <td>0.000000</td>\n",
              "      <td>0.000000</td>\n",
              "      <td>0.000000</td>\n",
              "      <td>0.000000</td>\n",
              "      <td>...</td>\n",
              "      <td>0.000000</td>\n",
              "      <td>0.000000</td>\n",
              "      <td>0.000000</td>\n",
              "      <td>0.000000</td>\n",
              "      <td>0.000000</td>\n",
              "      <td>0.000000</td>\n",
              "      <td>0.000000</td>\n",
              "      <td>20.000000</td>\n",
              "      <td>0.000000</td>\n",
              "      <td>0.000000</td>\n",
              "    </tr>\n",
              "    <tr>\n",
              "      <th>50%</th>\n",
              "      <td>0.000000</td>\n",
              "      <td>0.000000</td>\n",
              "      <td>26.000000</td>\n",
              "      <td>0.000000</td>\n",
              "      <td>0.000000</td>\n",
              "      <td>0.000000</td>\n",
              "      <td>0.000000</td>\n",
              "      <td>0.000000</td>\n",
              "      <td>0.000000</td>\n",
              "      <td>0.000000</td>\n",
              "      <td>...</td>\n",
              "      <td>0.000000</td>\n",
              "      <td>1.000000</td>\n",
              "      <td>0.000000</td>\n",
              "      <td>0.000000</td>\n",
              "      <td>0.000000</td>\n",
              "      <td>0.000000</td>\n",
              "      <td>0.000000</td>\n",
              "      <td>33.000000</td>\n",
              "      <td>0.000000</td>\n",
              "      <td>0.000000</td>\n",
              "    </tr>\n",
              "    <tr>\n",
              "      <th>75%</th>\n",
              "      <td>0.000000</td>\n",
              "      <td>0.000000</td>\n",
              "      <td>39.000000</td>\n",
              "      <td>0.000000</td>\n",
              "      <td>0.000000</td>\n",
              "      <td>0.000000</td>\n",
              "      <td>0.000000</td>\n",
              "      <td>0.000000</td>\n",
              "      <td>0.000000</td>\n",
              "      <td>0.000000</td>\n",
              "      <td>...</td>\n",
              "      <td>0.000000</td>\n",
              "      <td>1.000000</td>\n",
              "      <td>0.000000</td>\n",
              "      <td>0.000000</td>\n",
              "      <td>0.000000</td>\n",
              "      <td>0.000000</td>\n",
              "      <td>0.000000</td>\n",
              "      <td>57.000000</td>\n",
              "      <td>0.000000</td>\n",
              "      <td>0.000000</td>\n",
              "    </tr>\n",
              "    <tr>\n",
              "      <th>max</th>\n",
              "      <td>2.000000</td>\n",
              "      <td>1.000000</td>\n",
              "      <td>50.000000</td>\n",
              "      <td>1.000000</td>\n",
              "      <td>1.000000</td>\n",
              "      <td>90.000000</td>\n",
              "      <td>2.000000</td>\n",
              "      <td>1.000000</td>\n",
              "      <td>3.000000</td>\n",
              "      <td>1.000000</td>\n",
              "      <td>...</td>\n",
              "      <td>1.000000</td>\n",
              "      <td>10.000000</td>\n",
              "      <td>1.000000</td>\n",
              "      <td>1.000000</td>\n",
              "      <td>2.000000</td>\n",
              "      <td>1.000000</td>\n",
              "      <td>1.000000</td>\n",
              "      <td>77.000000</td>\n",
              "      <td>2.000000</td>\n",
              "      <td>1.000000</td>\n",
              "    </tr>\n",
              "  </tbody>\n",
              "</table>\n",
              "<p>8 rows × 76 columns</p>\n",
              "</div>\n",
              "      <button class=\"colab-df-convert\" onclick=\"convertToInteractive('df-8bbac45f-cad3-451a-964c-aa0c3c1490f4')\"\n",
              "              title=\"Convert this dataframe to an interactive table.\"\n",
              "              style=\"display:none;\">\n",
              "        \n",
              "  <svg xmlns=\"http://www.w3.org/2000/svg\" height=\"24px\"viewBox=\"0 0 24 24\"\n",
              "       width=\"24px\">\n",
              "    <path d=\"M0 0h24v24H0V0z\" fill=\"none\"/>\n",
              "    <path d=\"M18.56 5.44l.94 2.06.94-2.06 2.06-.94-2.06-.94-.94-2.06-.94 2.06-2.06.94zm-11 1L8.5 8.5l.94-2.06 2.06-.94-2.06-.94L8.5 2.5l-.94 2.06-2.06.94zm10 10l.94 2.06.94-2.06 2.06-.94-2.06-.94-.94-2.06-.94 2.06-2.06.94z\"/><path d=\"M17.41 7.96l-1.37-1.37c-.4-.4-.92-.59-1.43-.59-.52 0-1.04.2-1.43.59L10.3 9.45l-7.72 7.72c-.78.78-.78 2.05 0 2.83L4 21.41c.39.39.9.59 1.41.59.51 0 1.02-.2 1.41-.59l7.78-7.78 2.81-2.81c.8-.78.8-2.07 0-2.86zM5.41 20L4 18.59l7.72-7.72 1.47 1.35L5.41 20z\"/>\n",
              "  </svg>\n",
              "      </button>\n",
              "      \n",
              "  <style>\n",
              "    .colab-df-container {\n",
              "      display:flex;\n",
              "      flex-wrap:wrap;\n",
              "      gap: 12px;\n",
              "    }\n",
              "\n",
              "    .colab-df-convert {\n",
              "      background-color: #E8F0FE;\n",
              "      border: none;\n",
              "      border-radius: 50%;\n",
              "      cursor: pointer;\n",
              "      display: none;\n",
              "      fill: #1967D2;\n",
              "      height: 32px;\n",
              "      padding: 0 0 0 0;\n",
              "      width: 32px;\n",
              "    }\n",
              "\n",
              "    .colab-df-convert:hover {\n",
              "      background-color: #E2EBFA;\n",
              "      box-shadow: 0px 1px 2px rgba(60, 64, 67, 0.3), 0px 1px 3px 1px rgba(60, 64, 67, 0.15);\n",
              "      fill: #174EA6;\n",
              "    }\n",
              "\n",
              "    [theme=dark] .colab-df-convert {\n",
              "      background-color: #3B4455;\n",
              "      fill: #D2E3FC;\n",
              "    }\n",
              "\n",
              "    [theme=dark] .colab-df-convert:hover {\n",
              "      background-color: #434B5C;\n",
              "      box-shadow: 0px 1px 3px 1px rgba(0, 0, 0, 0.15);\n",
              "      filter: drop-shadow(0px 1px 2px rgba(0, 0, 0, 0.3));\n",
              "      fill: #FFFFFF;\n",
              "    }\n",
              "  </style>\n",
              "\n",
              "      <script>\n",
              "        const buttonEl =\n",
              "          document.querySelector('#df-8bbac45f-cad3-451a-964c-aa0c3c1490f4 button.colab-df-convert');\n",
              "        buttonEl.style.display =\n",
              "          google.colab.kernel.accessAllowed ? 'block' : 'none';\n",
              "\n",
              "        async function convertToInteractive(key) {\n",
              "          const element = document.querySelector('#df-8bbac45f-cad3-451a-964c-aa0c3c1490f4');\n",
              "          const dataTable =\n",
              "            await google.colab.kernel.invokeFunction('convertToInteractive',\n",
              "                                                     [key], {});\n",
              "          if (!dataTable) return;\n",
              "\n",
              "          const docLinkHtml = 'Like what you see? Visit the ' +\n",
              "            '<a target=\"_blank\" href=https://colab.research.google.com/notebooks/data_table.ipynb>data table notebook</a>'\n",
              "            + ' to learn more about interactive tables.';\n",
              "          element.innerHTML = '';\n",
              "          dataTable['output_type'] = 'display_data';\n",
              "          await google.colab.output.renderOutput(dataTable, element);\n",
              "          const docLink = document.createElement('div');\n",
              "          docLink.innerHTML = docLinkHtml;\n",
              "          element.appendChild(docLink);\n",
              "        }\n",
              "      </script>\n",
              "    </div>\n",
              "  </div>\n",
              "  "
            ]
          },
          "metadata": {},
          "execution_count": 26
        }
      ]
    },
    {
      "cell_type": "code",
      "source": [
        "parks_located.isnull().sum()"
      ],
      "metadata": {
        "colab": {
          "base_uri": "https://localhost:8080/"
        },
        "id": "gIyQQ0Qgo8Ec",
        "outputId": "f67fae67-5175-4b79-969a-78100d61c35a"
      },
      "execution_count": null,
      "outputs": [
        {
          "output_type": "execute_result",
          "data": {
            "text/plain": [
              "park_name                      0\n",
              "bowling_green                  0\n",
              "gymnastic_centers              0\n",
              ":@computed_region_43wa_7qmu    4\n",
              "band_shell                     0\n",
              "                              ..\n",
              ":@computed_region_vrxf_vc4k    4\n",
              "volleyball                     0\n",
              "croquet                        0\n",
              "latitude                       4\n",
              "longitude                      4\n",
              "Length: 83, dtype: int64"
            ]
          },
          "metadata": {},
          "execution_count": 27
        }
      ]
    },
    {
      "cell_type": "code",
      "source": [
        "location_null = parks_located['location'].isnull().sum()\n",
        "print(location_null)"
      ],
      "metadata": {
        "colab": {
          "base_uri": "https://localhost:8080/"
        },
        "id": "dM2AnRPxo_od",
        "outputId": "0ab04549-47a3-4d55-b2ac-367bd50996c7"
      },
      "execution_count": null,
      "outputs": [
        {
          "output_type": "stream",
          "name": "stdout",
          "text": [
            "1\n"
          ]
        }
      ]
    },
    {
      "cell_type": "markdown",
      "source": [
        "Since there was a single data point without location we chose to drop it"
      ],
      "metadata": {
        "id": "PNxjEdEWtVop"
      }
    },
    {
      "cell_type": "code",
      "source": [
        "parks_located = parks_located.dropna()"
      ],
      "metadata": {
        "id": "PVaKMKZjtMkf"
      },
      "execution_count": null,
      "outputs": []
    },
    {
      "cell_type": "markdown",
      "source": [
        "## Geoencoding"
      ],
      "metadata": {
        "id": "nN5FjFqUtiBE"
      }
    },
    {
      "cell_type": "code",
      "source": [
        "parks_geo = gpd.GeoDataFrame(parks_located, geometry = gpd.points_from_xy(parks_located.longitude, parks_located.latitude))"
      ],
      "metadata": {
        "id": "zny1cYmSpE-h"
      },
      "execution_count": null,
      "outputs": []
    },
    {
      "cell_type": "markdown",
      "source": [
        "## Plots"
      ],
      "metadata": {
        "id": "ZeJ1neE_trqP"
      }
    },
    {
      "cell_type": "code",
      "source": [
        "fig, ax = plt.subplots(figsize = (15, 15))\n",
        "chicago.plot(ax = ax, color ='lightgrey')\n",
        "parks_geo.plot(ax = ax, color = 'purple')\n",
        "ax.set_title('Parks in Chicago')"
      ],
      "metadata": {
        "colab": {
          "base_uri": "https://localhost:8080/",
          "height": 845
        },
        "id": "d-IWGHPnpKsh",
        "outputId": "0654be46-cc93-44b5-cd4a-abf7bc673b94"
      },
      "execution_count": null,
      "outputs": [
        {
          "output_type": "execute_result",
          "data": {
            "text/plain": [
              "Text(0.5, 1.0, 'Parks in Chicago')"
            ]
          },
          "metadata": {},
          "execution_count": 30
        },
        {
          "output_type": "display_data",
          "data": {
            "text/plain": [
              "<Figure size 1080x1080 with 1 Axes>"
            ],
            "image/png": "[encoded data removed]"
          },
          "metadata": {
            "needs_background": "light"
          }
        }
      ]
    }
  ]
}