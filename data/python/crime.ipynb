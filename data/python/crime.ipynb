{
  "nbformat": 4,
  "nbformat_minor": 0,
  "metadata": {
    "colab": {
      "name": "crime.ipynb",
      "provenance": []
    },
    "kernelspec": {
      "name": "python3",
      "display_name": "Python 3"
    },
    "language_info": {
      "name": "python"
    }
  },
  "cells": [
    {
      "cell_type": "markdown",
      "source": [
        "# Chicago Crime"
      ],
      "metadata": {
        "id": "1omc0Mnhgc0V"
      }
    },
    {
      "cell_type": "markdown",
      "source": [
        "## Description"
      ],
      "metadata": {
        "id": "wy3UsKMIqS86"
      }
    },
    {
      "cell_type": "markdown",
      "source": [
        "Origin: Chicago data portal (https://data.cityofchicago.org/)\n",
        "\n",
        "Last updated: xx/xx/xxxx"
      ],
      "metadata": {
        "id": "6EYMPc_fqVVe"
      }
    },
    {
      "cell_type": "markdown",
      "source": [
        "## Packages (Python)"
      ],
      "metadata": {
        "id": "pUhSmjINiL-E"
      }
    },
    {
      "cell_type": "code",
      "execution_count": 6,
      "metadata": {
        "id": "muLa3XYLfgdw",
        "colab": {
          "base_uri": "https://localhost:8080/"
        },
        "outputId": "2fb005cc-af79-4412-99bc-84bdecf5643b"
      },
      "outputs": [
        {
          "output_type": "stream",
          "name": "stdout",
          "text": [
            "Looking in indexes: https://pypi.org/simple, https://us-python.pkg.dev/colab-wheels/public/simple/\n",
            "Requirement already satisfied: geopandas in /usr/local/lib/python3.7/dist-packages (0.10.2)\n",
            "Requirement already satisfied: pandas>=0.25.0 in /usr/local/lib/python3.7/dist-packages (from geopandas) (1.3.5)\n",
            "Requirement already satisfied: fiona>=1.8 in /usr/local/lib/python3.7/dist-packages (from geopandas) (1.8.21)\n",
            "Requirement already satisfied: pyproj>=2.2.0 in /usr/local/lib/python3.7/dist-packages (from geopandas) (3.2.1)\n",
            "Requirement already satisfied: shapely>=1.6 in /usr/local/lib/python3.7/dist-packages (from geopandas) (1.8.2)\n",
            "Requirement already satisfied: certifi in /usr/local/lib/python3.7/dist-packages (from fiona>=1.8->geopandas) (2022.6.15)\n",
            "Requirement already satisfied: setuptools in /usr/local/lib/python3.7/dist-packages (from fiona>=1.8->geopandas) (57.4.0)\n",
            "Requirement already satisfied: munch in /usr/local/lib/python3.7/dist-packages (from fiona>=1.8->geopandas) (2.5.0)\n",
            "Requirement already satisfied: attrs>=17 in /usr/local/lib/python3.7/dist-packages (from fiona>=1.8->geopandas) (21.4.0)\n",
            "Requirement already satisfied: click-plugins>=1.0 in /usr/local/lib/python3.7/dist-packages (from fiona>=1.8->geopandas) (1.1.1)\n",
            "Requirement already satisfied: cligj>=0.5 in /usr/local/lib/python3.7/dist-packages (from fiona>=1.8->geopandas) (0.7.2)\n",
            "Requirement already satisfied: six>=1.7 in /usr/local/lib/python3.7/dist-packages (from fiona>=1.8->geopandas) (1.15.0)\n",
            "Requirement already satisfied: click>=4.0 in /usr/local/lib/python3.7/dist-packages (from fiona>=1.8->geopandas) (7.1.2)\n",
            "Requirement already satisfied: pytz>=2017.3 in /usr/local/lib/python3.7/dist-packages (from pandas>=0.25.0->geopandas) (2022.1)\n",
            "Requirement already satisfied: python-dateutil>=2.7.3 in /usr/local/lib/python3.7/dist-packages (from pandas>=0.25.0->geopandas) (2.8.2)\n",
            "Requirement already satisfied: numpy>=1.17.3 in /usr/local/lib/python3.7/dist-packages (from pandas>=0.25.0->geopandas) (1.21.6)\n"
          ]
        }
      ],
      "source": [
        "!pip install geopandas"
      ]
    },
    {
      "cell_type": "code",
      "source": [
        "!pip install geojson"
      ],
      "metadata": {
        "id": "dNr5LDSugeY-",
        "colab": {
          "base_uri": "https://localhost:8080/"
        },
        "outputId": "071ea353-a6d1-405e-840d-4f8f7217787e"
      },
      "execution_count": 7,
      "outputs": [
        {
          "output_type": "stream",
          "name": "stdout",
          "text": [
            "Looking in indexes: https://pypi.org/simple, https://us-python.pkg.dev/colab-wheels/public/simple/\n",
            "Requirement already satisfied: geojson in /usr/local/lib/python3.7/dist-packages (2.5.0)\n"
          ]
        }
      ]
    },
    {
      "cell_type": "code",
      "source": [
        "#standard libraries\n",
        "import pandas as pd\n",
        "import numpy as np\n",
        "import matplotlib.pyplot as plt\n",
        "import cufflinks as cf\n",
        "import plotly\n",
        "import plotly.offline as py\n",
        "import plotly.graph_objs as go\n",
        "\n",
        "import geopandas as gpd\n",
        "import geopy as gp\n",
        "import shapely\n",
        "import geojson\n",
        "#import rtree\n",
        "#import pygeos\n",
        "#import fiona"
      ],
      "metadata": {
        "id": "VB5WIQyViieZ"
      },
      "execution_count": 8,
      "outputs": []
    },
    {
      "cell_type": "code",
      "source": [
        "# Preprocessing files\n",
        "from preprocessing import *"
      ],
      "metadata": {
        "id": "ULNwYDr2i7Z-"
      },
      "execution_count": 9,
      "outputs": []
    },
    {
      "cell_type": "markdown",
      "source": [
        "## Chicago Polygon "
      ],
      "metadata": {
        "id": "yqFBJXRfjrVs"
      }
    },
    {
      "cell_type": "code",
      "source": [
        "# Reading file that must be uploaded\n",
        "\n",
        "chicago = gpd.read_file('chicago.shp')\n",
        "chicago.plot()"
      ],
      "metadata": {
        "colab": {
          "base_uri": "https://localhost:8080/",
          "height": 283
        },
        "id": "DMS9I2V7kw8F",
        "outputId": "2979e334-2083-41fa-eae5-8bca6d49c9f7"
      },
      "execution_count": 10,
      "outputs": [
        {
          "output_type": "execute_result",
          "data": {
            "text/plain": [
              "<matplotlib.axes._subplots.AxesSubplot at 0x7fe43a748090>"
            ]
          },
          "metadata": {},
          "execution_count": 10
        },
        {
          "output_type": "display_data",
          "data": {
            "text/plain": [
              "<Figure size 432x288 with 1 Axes>"
            ],
            "image/png": "[encoded data removed]"
          },
          "metadata": {
            "needs_background": "light"
          }
        }
      ]
    },
    {
      "cell_type": "markdown",
      "source": [
        "## Data processing"
      ],
      "metadata": {
        "id": "VB_mxejqlT32"
      }
    },
    {
      "cell_type": "code",
      "source": [
        "url = \"https://data.cityofchicago.org/resource/dfnk-7re6.json\"\n",
        "crime_raw = pd.read_json(url)"
      ],
      "metadata": {
        "id": "cS1u0y5alayE"
      },
      "execution_count": 11,
      "outputs": []
    },
    {
      "cell_type": "code",
      "source": [
        "crime_raw.head()"
      ],
      "metadata": {
        "colab": {
          "base_uri": "https://localhost:8080/",
          "height": 543
        },
        "id": "W4JZrYZnlcST",
        "outputId": "936157dd-8c03-4530-dcc4-4e85fa3b935a"
      },
      "execution_count": 12,
      "outputs": [
        {
          "output_type": "execute_result",
          "data": {
            "text/plain": [
              "      case_       date_of_occurrence                  block  \\\n",
              "0  JF156487  2021-12-01T00:01:00.000  056XX N SPAULDING AVE   \n",
              "1  JE362576  2021-09-05T14:47:00.000     102XX S VERNON AVE   \n",
              "2  JE364188  2021-09-07T01:00:00.000    033XX W MAYPOLE AVE   \n",
              "3  JE364232  2021-09-07T02:26:00.000      062XX S UNION AVE   \n",
              "4  JE369345  2021-08-14T06:20:00.000    0000X W TERMINAL ST   \n",
              "\n",
              "  _primary_decsription fbi_cd _secondary_description  ward  \\\n",
              "0        OTHER OFFENSE    08A       TELEPHONE THREAT    39   \n",
              "1      CRIMINAL DAMAGE     14             TO VEHICLE     9   \n",
              "2              ASSAULT    08A                 SIMPLE    28   \n",
              "3      CRIMINAL DAMAGE     14            TO PROPERTY    16   \n",
              "4                THEFT     06          FROM BUILDING    41   \n",
              "\n",
              "                            _location_description domestic  beat  ...  \\\n",
              "0                                       APARTMENT        N  1711  ...   \n",
              "1                                          STREET        Y   511  ...   \n",
              "2                                        SIDEWALK        N  1123  ...   \n",
              "3                                      RESTAURANT        N   711  ...   \n",
              "4  AIRPORT TERMINAL LOWER LEVEL - NON-SECURE AREA        N  1651  ...   \n",
              "\n",
              "  :@computed_region_43wa_7qmu  \\\n",
              "0                         NaN   \n",
              "1                        43.0   \n",
              "2                        23.0   \n",
              "3                         2.0   \n",
              "4                        29.0   \n",
              "\n",
              "                                            location  y_coordinate   latitude  \\\n",
              "0                                                NaN           NaN        NaN   \n",
              "1  {'latitude': '41.708514886', 'human_address': ...     1837198.0  41.708515   \n",
              "2  {'latitude': '41.883578698', 'human_address': ...     1900783.0  41.883579   \n",
              "3  {'latitude': '41.780509717', 'human_address': ...     1863365.0  41.780510   \n",
              "4  {'latitude': '41.979006297', 'human_address': ...     1935229.0  41.979006   \n",
              "\n",
              "   :@computed_region_awaf_s7ux  x_coordinate  longitude  \\\n",
              "0                          NaN           NaN        NaN   \n",
              "1                         30.0     1181052.0 -87.612580   \n",
              "2                         11.0     1154061.0 -87.709735   \n",
              "3                         19.0     1172637.0 -87.642627   \n",
              "4                         34.0     1100317.0 -87.906463   \n",
              "\n",
              "   :@computed_region_bdys_3d7i  :@computed_region_6mkv_f3dw  \\\n",
              "0                          NaN                          NaN   \n",
              "1                        570.0                      21861.0   \n",
              "2                        176.0                      21572.0   \n",
              "3                        435.0                      21559.0   \n",
              "4                        668.0                      16197.0   \n",
              "\n",
              "   :@computed_region_vrxf_vc4k  \n",
              "0                          NaN  \n",
              "1                         45.0  \n",
              "2                         28.0  \n",
              "3                         66.0  \n",
              "4                         75.0  \n",
              "\n",
              "[5 rows x 22 columns]"
            ],
            "text/html": [
              "\n",
              "  <div id=\"df-79acff19-a157-4640-b418-f99af4373572\">\n",
              "    <div class=\"colab-df-container\">\n",
              "      <div>\n",
              "<style scoped>\n",
              "    .dataframe tbody tr th:only-of-type {\n",
              "        vertical-align: middle;\n",
              "    }\n",
              "\n",
              "    .dataframe tbody tr th {\n",
              "        vertical-align: top;\n",
              "    }\n",
              "\n",
              "    .dataframe thead th {\n",
              "        text-align: right;\n",
              "    }\n",
              "</style>\n",
              "<table border=\"1\" class=\"dataframe\">\n",
              "  <thead>\n",
              "    <tr style=\"text-align: right;\">\n",
              "      <th></th>\n",
              "      <th>case_</th>\n",
              "      <th>date_of_occurrence</th>\n",
              "      <th>block</th>\n",
              "      <th>_primary_decsription</th>\n",
              "      <th>fbi_cd</th>\n",
              "      <th>_secondary_description</th>\n",
              "      <th>ward</th>\n",
              "      <th>_location_description</th>\n",
              "      <th>domestic</th>\n",
              "      <th>beat</th>\n",
              "      <th>...</th>\n",
              "      <th>:@computed_region_43wa_7qmu</th>\n",
              "      <th>location</th>\n",
              "      <th>y_coordinate</th>\n",
              "      <th>latitude</th>\n",
              "      <th>:@computed_region_awaf_s7ux</th>\n",
              "      <th>x_coordinate</th>\n",
              "      <th>longitude</th>\n",
              "      <th>:@computed_region_bdys_3d7i</th>\n",
              "      <th>:@computed_region_6mkv_f3dw</th>\n",
              "      <th>:@computed_region_vrxf_vc4k</th>\n",
              "    </tr>\n",
              "  </thead>\n",
              "  <tbody>\n",
              "    <tr>\n",
              "      <th>0</th>\n",
              "      <td>JF156487</td>\n",
              "      <td>2021-12-01T00:01:00.000</td>\n",
              "      <td>056XX N SPAULDING AVE</td>\n",
              "      <td>OTHER OFFENSE</td>\n",
              "      <td>08A</td>\n",
              "      <td>TELEPHONE THREAT</td>\n",
              "      <td>39</td>\n",
              "      <td>APARTMENT</td>\n",
              "      <td>N</td>\n",
              "      <td>1711</td>\n",
              "      <td>...</td>\n",
              "      <td>NaN</td>\n",
              "      <td>NaN</td>\n",
              "      <td>NaN</td>\n",
              "      <td>NaN</td>\n",
              "      <td>NaN</td>\n",
              "      <td>NaN</td>\n",
              "      <td>NaN</td>\n",
              "      <td>NaN</td>\n",
              "      <td>NaN</td>\n",
              "      <td>NaN</td>\n",
              "    </tr>\n",
              "    <tr>\n",
              "      <th>1</th>\n",
              "      <td>JE362576</td>\n",
              "      <td>2021-09-05T14:47:00.000</td>\n",
              "      <td>102XX S VERNON AVE</td>\n",
              "      <td>CRIMINAL DAMAGE</td>\n",
              "      <td>14</td>\n",
              "      <td>TO VEHICLE</td>\n",
              "      <td>9</td>\n",
              "      <td>STREET</td>\n",
              "      <td>Y</td>\n",
              "      <td>511</td>\n",
              "      <td>...</td>\n",
              "      <td>43.0</td>\n",
              "      <td>{'latitude': '41.708514886', 'human_address': ...</td>\n",
              "      <td>1837198.0</td>\n",
              "      <td>41.708515</td>\n",
              "      <td>30.0</td>\n",
              "      <td>1181052.0</td>\n",
              "      <td>-87.612580</td>\n",
              "      <td>570.0</td>\n",
              "      <td>21861.0</td>\n",
              "      <td>45.0</td>\n",
              "    </tr>\n",
              "    <tr>\n",
              "      <th>2</th>\n",
              "      <td>JE364188</td>\n",
              "      <td>2021-09-07T01:00:00.000</td>\n",
              "      <td>033XX W MAYPOLE AVE</td>\n",
              "      <td>ASSAULT</td>\n",
              "      <td>08A</td>\n",
              "      <td>SIMPLE</td>\n",
              "      <td>28</td>\n",
              "      <td>SIDEWALK</td>\n",
              "      <td>N</td>\n",
              "      <td>1123</td>\n",
              "      <td>...</td>\n",
              "      <td>23.0</td>\n",
              "      <td>{'latitude': '41.883578698', 'human_address': ...</td>\n",
              "      <td>1900783.0</td>\n",
              "      <td>41.883579</td>\n",
              "      <td>11.0</td>\n",
              "      <td>1154061.0</td>\n",
              "      <td>-87.709735</td>\n",
              "      <td>176.0</td>\n",
              "      <td>21572.0</td>\n",
              "      <td>28.0</td>\n",
              "    </tr>\n",
              "    <tr>\n",
              "      <th>3</th>\n",
              "      <td>JE364232</td>\n",
              "      <td>2021-09-07T02:26:00.000</td>\n",
              "      <td>062XX S UNION AVE</td>\n",
              "      <td>CRIMINAL DAMAGE</td>\n",
              "      <td>14</td>\n",
              "      <td>TO PROPERTY</td>\n",
              "      <td>16</td>\n",
              "      <td>RESTAURANT</td>\n",
              "      <td>N</td>\n",
              "      <td>711</td>\n",
              "      <td>...</td>\n",
              "      <td>2.0</td>\n",
              "      <td>{'latitude': '41.780509717', 'human_address': ...</td>\n",
              "      <td>1863365.0</td>\n",
              "      <td>41.780510</td>\n",
              "      <td>19.0</td>\n",
              "      <td>1172637.0</td>\n",
              "      <td>-87.642627</td>\n",
              "      <td>435.0</td>\n",
              "      <td>21559.0</td>\n",
              "      <td>66.0</td>\n",
              "    </tr>\n",
              "    <tr>\n",
              "      <th>4</th>\n",
              "      <td>JE369345</td>\n",
              "      <td>2021-08-14T06:20:00.000</td>\n",
              "      <td>0000X W TERMINAL ST</td>\n",
              "      <td>THEFT</td>\n",
              "      <td>06</td>\n",
              "      <td>FROM BUILDING</td>\n",
              "      <td>41</td>\n",
              "      <td>AIRPORT TERMINAL LOWER LEVEL - NON-SECURE AREA</td>\n",
              "      <td>N</td>\n",
              "      <td>1651</td>\n",
              "      <td>...</td>\n",
              "      <td>29.0</td>\n",
              "      <td>{'latitude': '41.979006297', 'human_address': ...</td>\n",
              "      <td>1935229.0</td>\n",
              "      <td>41.979006</td>\n",
              "      <td>34.0</td>\n",
              "      <td>1100317.0</td>\n",
              "      <td>-87.906463</td>\n",
              "      <td>668.0</td>\n",
              "      <td>16197.0</td>\n",
              "      <td>75.0</td>\n",
              "    </tr>\n",
              "  </tbody>\n",
              "</table>\n",
              "<p>5 rows × 22 columns</p>\n",
              "</div>\n",
              "      <button class=\"colab-df-convert\" onclick=\"convertToInteractive('df-79acff19-a157-4640-b418-f99af4373572')\"\n",
              "              title=\"Convert this dataframe to an interactive table.\"\n",
              "              style=\"display:none;\">\n",
              "        \n",
              "  <svg xmlns=\"http://www.w3.org/2000/svg\" height=\"24px\"viewBox=\"0 0 24 24\"\n",
              "       width=\"24px\">\n",
              "    <path d=\"M0 0h24v24H0V0z\" fill=\"none\"/>\n",
              "    <path d=\"M18.56 5.44l.94 2.06.94-2.06 2.06-.94-2.06-.94-.94-2.06-.94 2.06-2.06.94zm-11 1L8.5 8.5l.94-2.06 2.06-.94-2.06-.94L8.5 2.5l-.94 2.06-2.06.94zm10 10l.94 2.06.94-2.06 2.06-.94-2.06-.94-.94-2.06-.94 2.06-2.06.94z\"/><path d=\"M17.41 7.96l-1.37-1.37c-.4-.4-.92-.59-1.43-.59-.52 0-1.04.2-1.43.59L10.3 9.45l-7.72 7.72c-.78.78-.78 2.05 0 2.83L4 21.41c.39.39.9.59 1.41.59.51 0 1.02-.2 1.41-.59l7.78-7.78 2.81-2.81c.8-.78.8-2.07 0-2.86zM5.41 20L4 18.59l7.72-7.72 1.47 1.35L5.41 20z\"/>\n",
              "  </svg>\n",
              "      </button>\n",
              "      \n",
              "  <style>\n",
              "    .colab-df-container {\n",
              "      display:flex;\n",
              "      flex-wrap:wrap;\n",
              "      gap: 12px;\n",
              "    }\n",
              "\n",
              "    .colab-df-convert {\n",
              "      background-color: #E8F0FE;\n",
              "      border: none;\n",
              "      border-radius: 50%;\n",
              "      cursor: pointer;\n",
              "      display: none;\n",
              "      fill: #1967D2;\n",
              "      height: 32px;\n",
              "      padding: 0 0 0 0;\n",
              "      width: 32px;\n",
              "    }\n",
              "\n",
              "    .colab-df-convert:hover {\n",
              "      background-color: #E2EBFA;\n",
              "      box-shadow: 0px 1px 2px rgba(60, 64, 67, 0.3), 0px 1px 3px 1px rgba(60, 64, 67, 0.15);\n",
              "      fill: #174EA6;\n",
              "    }\n",
              "\n",
              "    [theme=dark] .colab-df-convert {\n",
              "      background-color: #3B4455;\n",
              "      fill: #D2E3FC;\n",
              "    }\n",
              "\n",
              "    [theme=dark] .colab-df-convert:hover {\n",
              "      background-color: #434B5C;\n",
              "      box-shadow: 0px 1px 3px 1px rgba(0, 0, 0, 0.15);\n",
              "      filter: drop-shadow(0px 1px 2px rgba(0, 0, 0, 0.3));\n",
              "      fill: #FFFFFF;\n",
              "    }\n",
              "  </style>\n",
              "\n",
              "      <script>\n",
              "        const buttonEl =\n",
              "          document.querySelector('#df-79acff19-a157-4640-b418-f99af4373572 button.colab-df-convert');\n",
              "        buttonEl.style.display =\n",
              "          google.colab.kernel.accessAllowed ? 'block' : 'none';\n",
              "\n",
              "        async function convertToInteractive(key) {\n",
              "          const element = document.querySelector('#df-79acff19-a157-4640-b418-f99af4373572');\n",
              "          const dataTable =\n",
              "            await google.colab.kernel.invokeFunction('convertToInteractive',\n",
              "                                                     [key], {});\n",
              "          if (!dataTable) return;\n",
              "\n",
              "          const docLinkHtml = 'Like what you see? Visit the ' +\n",
              "            '<a target=\"_blank\" href=https://colab.research.google.com/notebooks/data_table.ipynb>data table notebook</a>'\n",
              "            + ' to learn more about interactive tables.';\n",
              "          element.innerHTML = '';\n",
              "          dataTable['output_type'] = 'display_data';\n",
              "          await google.colab.output.renderOutput(dataTable, element);\n",
              "          const docLink = document.createElement('div');\n",
              "          docLink.innerHTML = docLinkHtml;\n",
              "          element.appendChild(docLink);\n",
              "        }\n",
              "      </script>\n",
              "    </div>\n",
              "  </div>\n",
              "  "
            ]
          },
          "metadata": {},
          "execution_count": 12
        }
      ]
    },
    {
      "cell_type": "code",
      "source": [
        "crime_raw[\"location\"]"
      ],
      "metadata": {
        "colab": {
          "base_uri": "https://localhost:8080/"
        },
        "id": "1Gzq5eUaleAJ",
        "outputId": "6ea06c82-7eb0-47bf-d880-63dd6e8d2683"
      },
      "execution_count": 18,
      "outputs": [
        {
          "output_type": "execute_result",
          "data": {
            "text/plain": [
              "0                                                    NaN\n",
              "1      {'latitude': '41.708514886', 'human_address': ...\n",
              "2      {'latitude': '41.883578698', 'human_address': ...\n",
              "3      {'latitude': '41.780509717', 'human_address': ...\n",
              "4      {'latitude': '41.979006297', 'human_address': ...\n",
              "                             ...                        \n",
              "995    {'latitude': '41.747359051', 'human_address': ...\n",
              "996    {'latitude': '41.886373739', 'human_address': ...\n",
              "997    {'latitude': '41.892963428', 'human_address': ...\n",
              "998    {'latitude': '41.8744151', 'human_address': '{...\n",
              "999    {'latitude': '41.766450968', 'human_address': ...\n",
              "Name: location, Length: 1000, dtype: object"
            ]
          },
          "metadata": {},
          "execution_count": 18
        }
      ]
    },
    {
      "cell_type": "code",
      "source": [
        "crime_located = pd.DataFrame()\n",
        "crime_located = extract_location(crime_raw)"
      ],
      "metadata": {
        "id": "5qh2DLfE26Av"
      },
      "execution_count": 20,
      "outputs": []
    },
    {
      "cell_type": "code",
      "source": [
        "crime_located.info()"
      ],
      "metadata": {
        "colab": {
          "base_uri": "https://localhost:8080/"
        },
        "id": "QzxDvI_znSUt",
        "outputId": "49e81bf4-6d42-4ffc-d9e7-be89a1c62404"
      },
      "execution_count": 21,
      "outputs": [
        {
          "output_type": "stream",
          "name": "stdout",
          "text": [
            "<class 'pandas.core.frame.DataFrame'>\n",
            "RangeIndex: 1000 entries, 0 to 999\n",
            "Data columns (total 22 columns):\n",
            " #   Column                       Non-Null Count  Dtype  \n",
            "---  ------                       --------------  -----  \n",
            " 0   case_                        1000 non-null   object \n",
            " 1   date_of_occurrence           1000 non-null   object \n",
            " 2   block                        1000 non-null   object \n",
            " 3   _primary_decsription         1000 non-null   object \n",
            " 4   fbi_cd                       1000 non-null   object \n",
            " 5   _secondary_description       1000 non-null   object \n",
            " 6   ward                         1000 non-null   int64  \n",
            " 7   _location_description        997 non-null    object \n",
            " 8   domestic                     1000 non-null   object \n",
            " 9   beat                         1000 non-null   int64  \n",
            " 10  _iucr                        1000 non-null   object \n",
            " 11  arrest                       1000 non-null   object \n",
            " 12  :@computed_region_43wa_7qmu  975 non-null    float64\n",
            " 13  location                     977 non-null    object \n",
            " 14  y_coordinate                 977 non-null    float64\n",
            " 15  latitude                     977 non-null    object \n",
            " 16  :@computed_region_awaf_s7ux  975 non-null    float64\n",
            " 17  x_coordinate                 977 non-null    float64\n",
            " 18  longitude                    977 non-null    object \n",
            " 19  :@computed_region_bdys_3d7i  974 non-null    float64\n",
            " 20  :@computed_region_6mkv_f3dw  977 non-null    float64\n",
            " 21  :@computed_region_vrxf_vc4k  975 non-null    float64\n",
            "dtypes: float64(7), int64(2), object(13)\n",
            "memory usage: 172.0+ KB\n"
          ]
        }
      ]
    },
    {
      "cell_type": "code",
      "source": [
        "crime_located.describe()"
      ],
      "metadata": {
        "colab": {
          "base_uri": "https://localhost:8080/",
          "height": 364
        },
        "id": "MuvSgdDqoqnw",
        "outputId": "ca65e856-c1ad-4d48-e21a-e03c3a09565e"
      },
      "execution_count": 22,
      "outputs": [
        {
          "output_type": "execute_result",
          "data": {
            "text/plain": [
              "              ward         beat  :@computed_region_43wa_7qmu  y_coordinate  \\\n",
              "count  1000.000000  1000.000000                   975.000000  9.770000e+02   \n",
              "mean     24.216000  1160.508000                    26.748718  1.886658e+06   \n",
              "std      13.823112   700.058865                    14.415492  3.185891e+04   \n",
              "min       1.000000   111.000000                     1.000000  1.816442e+06   \n",
              "25%      12.000000   611.000000                    14.000000  1.858970e+06   \n",
              "50%      24.000000  1034.000000                    29.000000  1.893415e+06   \n",
              "75%      36.000000  1715.250000                    38.000000  1.908643e+06   \n",
              "max      50.000000  2535.000000                    50.000000  1.951163e+06   \n",
              "\n",
              "       :@computed_region_awaf_s7ux  x_coordinate  :@computed_region_bdys_3d7i  \\\n",
              "count                   975.000000  9.770000e+02                   974.000000   \n",
              "mean                     27.832821  1.164510e+06                   387.208419   \n",
              "std                      15.373373  1.668331e+04                   231.768301   \n",
              "min                       1.000000  1.100317e+06                     1.000000   \n",
              "25%                      14.000000  1.152346e+06                   177.500000   \n",
              "50%                      29.000000  1.166120e+06                   399.000000   \n",
              "75%                      41.000000  1.176452e+06                   580.000000   \n",
              "max                      53.000000  1.204455e+06                   799.000000   \n",
              "\n",
              "       :@computed_region_6mkv_f3dw  :@computed_region_vrxf_vc4k  \n",
              "count                   977.000000                   975.000000  \n",
              "mean                  19084.051177                    39.073846  \n",
              "std                    5737.365364                    19.520291  \n",
              "min                    2733.000000                     1.000000  \n",
              "25%                   21184.000000                    25.000000  \n",
              "50%                   21560.000000                    37.000000  \n",
              "75%                   22216.000000                    57.000000  \n",
              "max                   22620.000000                    77.000000  "
            ],
            "text/html": [
              "\n",
              "  <div id=\"df-1d1fb0d8-20bf-472a-82c0-215c8b122c1e\">\n",
              "    <div class=\"colab-df-container\">\n",
              "      <div>\n",
              "<style scoped>\n",
              "    .dataframe tbody tr th:only-of-type {\n",
              "        vertical-align: middle;\n",
              "    }\n",
              "\n",
              "    .dataframe tbody tr th {\n",
              "        vertical-align: top;\n",
              "    }\n",
              "\n",
              "    .dataframe thead th {\n",
              "        text-align: right;\n",
              "    }\n",
              "</style>\n",
              "<table border=\"1\" class=\"dataframe\">\n",
              "  <thead>\n",
              "    <tr style=\"text-align: right;\">\n",
              "      <th></th>\n",
              "      <th>ward</th>\n",
              "      <th>beat</th>\n",
              "      <th>:@computed_region_43wa_7qmu</th>\n",
              "      <th>y_coordinate</th>\n",
              "      <th>:@computed_region_awaf_s7ux</th>\n",
              "      <th>x_coordinate</th>\n",
              "      <th>:@computed_region_bdys_3d7i</th>\n",
              "      <th>:@computed_region_6mkv_f3dw</th>\n",
              "      <th>:@computed_region_vrxf_vc4k</th>\n",
              "    </tr>\n",
              "  </thead>\n",
              "  <tbody>\n",
              "    <tr>\n",
              "      <th>count</th>\n",
              "      <td>1000.000000</td>\n",
              "      <td>1000.000000</td>\n",
              "      <td>975.000000</td>\n",
              "      <td>9.770000e+02</td>\n",
              "      <td>975.000000</td>\n",
              "      <td>9.770000e+02</td>\n",
              "      <td>974.000000</td>\n",
              "      <td>977.000000</td>\n",
              "      <td>975.000000</td>\n",
              "    </tr>\n",
              "    <tr>\n",
              "      <th>mean</th>\n",
              "      <td>24.216000</td>\n",
              "      <td>1160.508000</td>\n",
              "      <td>26.748718</td>\n",
              "      <td>1.886658e+06</td>\n",
              "      <td>27.832821</td>\n",
              "      <td>1.164510e+06</td>\n",
              "      <td>387.208419</td>\n",
              "      <td>19084.051177</td>\n",
              "      <td>39.073846</td>\n",
              "    </tr>\n",
              "    <tr>\n",
              "      <th>std</th>\n",
              "      <td>13.823112</td>\n",
              "      <td>700.058865</td>\n",
              "      <td>14.415492</td>\n",
              "      <td>3.185891e+04</td>\n",
              "      <td>15.373373</td>\n",
              "      <td>1.668331e+04</td>\n",
              "      <td>231.768301</td>\n",
              "      <td>5737.365364</td>\n",
              "      <td>19.520291</td>\n",
              "    </tr>\n",
              "    <tr>\n",
              "      <th>min</th>\n",
              "      <td>1.000000</td>\n",
              "      <td>111.000000</td>\n",
              "      <td>1.000000</td>\n",
              "      <td>1.816442e+06</td>\n",
              "      <td>1.000000</td>\n",
              "      <td>1.100317e+06</td>\n",
              "      <td>1.000000</td>\n",
              "      <td>2733.000000</td>\n",
              "      <td>1.000000</td>\n",
              "    </tr>\n",
              "    <tr>\n",
              "      <th>25%</th>\n",
              "      <td>12.000000</td>\n",
              "      <td>611.000000</td>\n",
              "      <td>14.000000</td>\n",
              "      <td>1.858970e+06</td>\n",
              "      <td>14.000000</td>\n",
              "      <td>1.152346e+06</td>\n",
              "      <td>177.500000</td>\n",
              "      <td>21184.000000</td>\n",
              "      <td>25.000000</td>\n",
              "    </tr>\n",
              "    <tr>\n",
              "      <th>50%</th>\n",
              "      <td>24.000000</td>\n",
              "      <td>1034.000000</td>\n",
              "      <td>29.000000</td>\n",
              "      <td>1.893415e+06</td>\n",
              "      <td>29.000000</td>\n",
              "      <td>1.166120e+06</td>\n",
              "      <td>399.000000</td>\n",
              "      <td>21560.000000</td>\n",
              "      <td>37.000000</td>\n",
              "    </tr>\n",
              "    <tr>\n",
              "      <th>75%</th>\n",
              "      <td>36.000000</td>\n",
              "      <td>1715.250000</td>\n",
              "      <td>38.000000</td>\n",
              "      <td>1.908643e+06</td>\n",
              "      <td>41.000000</td>\n",
              "      <td>1.176452e+06</td>\n",
              "      <td>580.000000</td>\n",
              "      <td>22216.000000</td>\n",
              "      <td>57.000000</td>\n",
              "    </tr>\n",
              "    <tr>\n",
              "      <th>max</th>\n",
              "      <td>50.000000</td>\n",
              "      <td>2535.000000</td>\n",
              "      <td>50.000000</td>\n",
              "      <td>1.951163e+06</td>\n",
              "      <td>53.000000</td>\n",
              "      <td>1.204455e+06</td>\n",
              "      <td>799.000000</td>\n",
              "      <td>22620.000000</td>\n",
              "      <td>77.000000</td>\n",
              "    </tr>\n",
              "  </tbody>\n",
              "</table>\n",
              "</div>\n",
              "      <button class=\"colab-df-convert\" onclick=\"convertToInteractive('df-1d1fb0d8-20bf-472a-82c0-215c8b122c1e')\"\n",
              "              title=\"Convert this dataframe to an interactive table.\"\n",
              "              style=\"display:none;\">\n",
              "        \n",
              "  <svg xmlns=\"http://www.w3.org/2000/svg\" height=\"24px\"viewBox=\"0 0 24 24\"\n",
              "       width=\"24px\">\n",
              "    <path d=\"M0 0h24v24H0V0z\" fill=\"none\"/>\n",
              "    <path d=\"M18.56 5.44l.94 2.06.94-2.06 2.06-.94-2.06-.94-.94-2.06-.94 2.06-2.06.94zm-11 1L8.5 8.5l.94-2.06 2.06-.94-2.06-.94L8.5 2.5l-.94 2.06-2.06.94zm10 10l.94 2.06.94-2.06 2.06-.94-2.06-.94-.94-2.06-.94 2.06-2.06.94z\"/><path d=\"M17.41 7.96l-1.37-1.37c-.4-.4-.92-.59-1.43-.59-.52 0-1.04.2-1.43.59L10.3 9.45l-7.72 7.72c-.78.78-.78 2.05 0 2.83L4 21.41c.39.39.9.59 1.41.59.51 0 1.02-.2 1.41-.59l7.78-7.78 2.81-2.81c.8-.78.8-2.07 0-2.86zM5.41 20L4 18.59l7.72-7.72 1.47 1.35L5.41 20z\"/>\n",
              "  </svg>\n",
              "      </button>\n",
              "      \n",
              "  <style>\n",
              "    .colab-df-container {\n",
              "      display:flex;\n",
              "      flex-wrap:wrap;\n",
              "      gap: 12px;\n",
              "    }\n",
              "\n",
              "    .colab-df-convert {\n",
              "      background-color: #E8F0FE;\n",
              "      border: none;\n",
              "      border-radius: 50%;\n",
              "      cursor: pointer;\n",
              "      display: none;\n",
              "      fill: #1967D2;\n",
              "      height: 32px;\n",
              "      padding: 0 0 0 0;\n",
              "      width: 32px;\n",
              "    }\n",
              "\n",
              "    .colab-df-convert:hover {\n",
              "      background-color: #E2EBFA;\n",
              "      box-shadow: 0px 1px 2px rgba(60, 64, 67, 0.3), 0px 1px 3px 1px rgba(60, 64, 67, 0.15);\n",
              "      fill: #174EA6;\n",
              "    }\n",
              "\n",
              "    [theme=dark] .colab-df-convert {\n",
              "      background-color: #3B4455;\n",
              "      fill: #D2E3FC;\n",
              "    }\n",
              "\n",
              "    [theme=dark] .colab-df-convert:hover {\n",
              "      background-color: #434B5C;\n",
              "      box-shadow: 0px 1px 3px 1px rgba(0, 0, 0, 0.15);\n",
              "      filter: drop-shadow(0px 1px 2px rgba(0, 0, 0, 0.3));\n",
              "      fill: #FFFFFF;\n",
              "    }\n",
              "  </style>\n",
              "\n",
              "      <script>\n",
              "        const buttonEl =\n",
              "          document.querySelector('#df-1d1fb0d8-20bf-472a-82c0-215c8b122c1e button.colab-df-convert');\n",
              "        buttonEl.style.display =\n",
              "          google.colab.kernel.accessAllowed ? 'block' : 'none';\n",
              "\n",
              "        async function convertToInteractive(key) {\n",
              "          const element = document.querySelector('#df-1d1fb0d8-20bf-472a-82c0-215c8b122c1e');\n",
              "          const dataTable =\n",
              "            await google.colab.kernel.invokeFunction('convertToInteractive',\n",
              "                                                     [key], {});\n",
              "          if (!dataTable) return;\n",
              "\n",
              "          const docLinkHtml = 'Like what you see? Visit the ' +\n",
              "            '<a target=\"_blank\" href=https://colab.research.google.com/notebooks/data_table.ipynb>data table notebook</a>'\n",
              "            + ' to learn more about interactive tables.';\n",
              "          element.innerHTML = '';\n",
              "          dataTable['output_type'] = 'display_data';\n",
              "          await google.colab.output.renderOutput(dataTable, element);\n",
              "          const docLink = document.createElement('div');\n",
              "          docLink.innerHTML = docLinkHtml;\n",
              "          element.appendChild(docLink);\n",
              "        }\n",
              "      </script>\n",
              "    </div>\n",
              "  </div>\n",
              "  "
            ]
          },
          "metadata": {},
          "execution_count": 22
        }
      ]
    },
    {
      "cell_type": "code",
      "source": [
        "crime_located.isnull().sum()"
      ],
      "metadata": {
        "colab": {
          "base_uri": "https://localhost:8080/"
        },
        "id": "gIyQQ0Qgo8Ec",
        "outputId": "dbedb028-5872-4a38-8f1c-0e4575333459"
      },
      "execution_count": 24,
      "outputs": [
        {
          "output_type": "execute_result",
          "data": {
            "text/plain": [
              "case_                           0\n",
              "date_of_occurrence              0\n",
              "block                           0\n",
              "_primary_decsription            0\n",
              "fbi_cd                          0\n",
              "_secondary_description          0\n",
              "ward                            0\n",
              "_location_description           3\n",
              "domestic                        0\n",
              "beat                            0\n",
              "_iucr                           0\n",
              "arrest                          0\n",
              ":@computed_region_43wa_7qmu    25\n",
              "location                       23\n",
              "y_coordinate                   23\n",
              "latitude                       23\n",
              ":@computed_region_awaf_s7ux    25\n",
              "x_coordinate                   23\n",
              "longitude                      23\n",
              ":@computed_region_bdys_3d7i    26\n",
              ":@computed_region_6mkv_f3dw    23\n",
              ":@computed_region_vrxf_vc4k    25\n",
              "dtype: int64"
            ]
          },
          "metadata": {},
          "execution_count": 24
        }
      ]
    },
    {
      "cell_type": "code",
      "source": [
        "location_null = crime_located['location'].isnull().sum()\n",
        "print(location_null)"
      ],
      "metadata": {
        "colab": {
          "base_uri": "https://localhost:8080/"
        },
        "id": "dM2AnRPxo_od",
        "outputId": "0ee2cc5f-f48e-44e0-cb20-4c8b28dca4a1"
      },
      "execution_count": 25,
      "outputs": [
        {
          "output_type": "stream",
          "name": "stdout",
          "text": [
            "23\n"
          ]
        }
      ]
    },
    {
      "cell_type": "code",
      "source": [
        "crime_located = crime_located.dropna()"
      ],
      "metadata": {
        "id": "PVaKMKZjtMkf"
      },
      "execution_count": 26,
      "outputs": []
    },
    {
      "cell_type": "markdown",
      "source": [
        "## Geoencoding"
      ],
      "metadata": {
        "id": "nN5FjFqUtiBE"
      }
    },
    {
      "cell_type": "code",
      "source": [
        "crime_geo = gpd.GeoDataFrame(crime_located, geometry = gpd.points_from_xy(crime_located.longitude, crime_located.latitude))"
      ],
      "metadata": {
        "id": "zny1cYmSpE-h"
      },
      "execution_count": 27,
      "outputs": []
    },
    {
      "cell_type": "markdown",
      "source": [
        "## Plots"
      ],
      "metadata": {
        "id": "ZeJ1neE_trqP"
      }
    },
    {
      "cell_type": "code",
      "source": [
        "fig, ax = plt.subplots(figsize = (15, 15))\n",
        "chicago.plot(ax = ax, color ='lightgrey')\n",
        "crime_geo.plot(ax = ax, color = 'purple')\n",
        "ax.set_title('Crime in Chicago')"
      ],
      "metadata": {
        "colab": {
          "base_uri": "https://localhost:8080/",
          "height": 845
        },
        "id": "d-IWGHPnpKsh",
        "outputId": "ed0f3ef8-3932-4330-dd2f-60ee03f19fbe"
      },
      "execution_count": 29,
      "outputs": [
        {
          "output_type": "execute_result",
          "data": {
            "text/plain": [
              "Text(0.5, 1.0, 'Crime in Chicago')"
            ]
          },
          "metadata": {},
          "execution_count": 29
        },
        {
          "output_type": "display_data",
          "data": {
            "text/plain": [
              "<Figure size 1080x1080 with 1 Axes>"
            ],
            "image/png": "[encoded data removed]"
          },
          "metadata": {
            "needs_background": "light"
          }
        }
      ]
    },
    {
      "cell_type": "code",
      "source": [
        ""
      ],
      "metadata": {
        "id": "HiZBbt-63SwD"
      },
      "execution_count": null,
      "outputs": []
    }
  ]
}