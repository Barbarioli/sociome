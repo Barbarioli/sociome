{
 "cells": [
  {
   "cell_type": "markdown",
   "id": "6eebfd54",
   "metadata": {},
   "source": [
    "# An Initial Study of Heteroscedasticity in the Sociome Datasets\n",
    "\n",
    "## Motivation\n",
    "Many public health organizations recognize that, beyond focusing on and treating biological mechanisms of disease, advancing health also critically requires accounting for and striving to mitigate adverse consequences of social, environmental, behavioral, and psychological factors. To date, such factors (called the “Sociome” in this project) have not been comprehensively codified and quantified in a way suitable for large-scale, extensible, co-analysis/data-mining with explicitly biological or clinical data to learn new insights into factors influencing wellness or disease. Rather, one-off projects lead to expensive and time-consuming data curation that does not benefit additional studies.\n",
    "\n",
    "Practically speaking, clinical informatics researchers will have to combine and link public and private datasets with patient data to construct such a unified database of non-clinical factors. The most obvious dimensions in which to link these data are location (space) and date (time). One challenge is that these external datasets will have varying degrees of data quality, and even if the patient data areis relatively accurate, errors and biases can creep into the final analysis. Furthermore, linking data across multiple data sources and formats is always a heuristic process, introducing further errors in the process. We hypothesize that the systematic nature of such errors are under-appreciated and, to the best of our knowledge, not quantified in prior work. \n",
    "\n",
    "## Notebook Overview and Prerequisites\n",
    "This notebook presents an initial study of the datasets collected in the Sociome project for evidence of such systematic uncertainty. We will leverage American Community Survey data to identify how such uncertainty is distributed geographically and demographically in Cook County, IL.\n",
    "\n",
    "### Census Tract Geometries\n",
    "We will use the `geopandas` library to first process geometric data of the census tracts in Illinois. This will allow us to localize any city data within a given tract.\n",
    "\n",
    "This data was downloaded from:\n",
    "https://www.census.gov/cgi-bin/geo/shapefiles/index.php?year=2021&layergroup=Census+Tracts"
   ]
  },
  {
   "cell_type": "code",
   "execution_count": 38,
   "id": "74ba458c",
   "metadata": {},
   "outputs": [],
   "source": [
    "import geopandas as gpd"
   ]
  },
  {
   "cell_type": "code",
   "execution_count": 42,
   "id": "eca2805c",
   "metadata": {},
   "outputs": [
    {
     "data": {
      "text/html": [
       "<div>\n",
       "<style scoped>\n",
       "    .dataframe tbody tr th:only-of-type {\n",
       "        vertical-align: middle;\n",
       "    }\n",
       "\n",
       "    .dataframe tbody tr th {\n",
       "        vertical-align: top;\n",
       "    }\n",
       "\n",
       "    .dataframe thead th {\n",
       "        text-align: right;\n",
       "    }\n",
       "</style>\n",
       "<table border=\"1\" class=\"dataframe\">\n",
       "  <thead>\n",
       "    <tr style=\"text-align: right;\">\n",
       "      <th></th>\n",
       "      <th>STATEFP</th>\n",
       "      <th>COUNTYFP</th>\n",
       "      <th>TRACTCE</th>\n",
       "      <th>GEOID</th>\n",
       "      <th>NAME</th>\n",
       "      <th>NAMELSAD</th>\n",
       "      <th>MTFCC</th>\n",
       "      <th>FUNCSTAT</th>\n",
       "      <th>ALAND</th>\n",
       "      <th>AWATER</th>\n",
       "      <th>INTPTLAT</th>\n",
       "      <th>INTPTLON</th>\n",
       "      <th>geometry</th>\n",
       "    </tr>\n",
       "  </thead>\n",
       "  <tbody>\n",
       "    <tr>\n",
       "      <th>0</th>\n",
       "      <td>17</td>\n",
       "      <td>047</td>\n",
       "      <td>957100</td>\n",
       "      <td>17047957100</td>\n",
       "      <td>9571</td>\n",
       "      <td>Census Tract 9571</td>\n",
       "      <td>G5020</td>\n",
       "      <td>S</td>\n",
       "      <td>17502924</td>\n",
       "      <td>151254</td>\n",
       "      <td>+38.3810609</td>\n",
       "      <td>-088.0566832</td>\n",
       "      <td>POLYGON ((-88.10244 38.39351, -88.10232 38.393...</td>\n",
       "    </tr>\n",
       "    <tr>\n",
       "      <th>1</th>\n",
       "      <td>17</td>\n",
       "      <td>047</td>\n",
       "      <td>956900</td>\n",
       "      <td>17047956900</td>\n",
       "      <td>9569</td>\n",
       "      <td>Census Tract 9569</td>\n",
       "      <td>G5020</td>\n",
       "      <td>S</td>\n",
       "      <td>289722767</td>\n",
       "      <td>430838</td>\n",
       "      <td>+38.4939617</td>\n",
       "      <td>-088.0440563</td>\n",
       "      <td>POLYGON ((-88.14857 38.46782, -88.14856 38.468...</td>\n",
       "    </tr>\n",
       "    <tr>\n",
       "      <th>2</th>\n",
       "      <td>17</td>\n",
       "      <td>167</td>\n",
       "      <td>003901</td>\n",
       "      <td>17167003901</td>\n",
       "      <td>39.01</td>\n",
       "      <td>Census Tract 39.01</td>\n",
       "      <td>G5020</td>\n",
       "      <td>S</td>\n",
       "      <td>107283391</td>\n",
       "      <td>1202385</td>\n",
       "      <td>+39.6960595</td>\n",
       "      <td>-089.5296888</td>\n",
       "      <td>POLYGON ((-89.59191 39.69246, -89.59116 39.692...</td>\n",
       "    </tr>\n",
       "    <tr>\n",
       "      <th>3</th>\n",
       "      <td>17</td>\n",
       "      <td>167</td>\n",
       "      <td>003500</td>\n",
       "      <td>17167003500</td>\n",
       "      <td>35</td>\n",
       "      <td>Census Tract 35</td>\n",
       "      <td>G5020</td>\n",
       "      <td>S</td>\n",
       "      <td>548131091</td>\n",
       "      <td>280907</td>\n",
       "      <td>+39.7333761</td>\n",
       "      <td>-089.8871664</td>\n",
       "      <td>POLYGON ((-89.99450 39.89447, -89.99451 39.897...</td>\n",
       "    </tr>\n",
       "    <tr>\n",
       "      <th>4</th>\n",
       "      <td>17</td>\n",
       "      <td>167</td>\n",
       "      <td>003802</td>\n",
       "      <td>17167003802</td>\n",
       "      <td>38.02</td>\n",
       "      <td>Census Tract 38.02</td>\n",
       "      <td>G5020</td>\n",
       "      <td>S</td>\n",
       "      <td>71333933</td>\n",
       "      <td>955509</td>\n",
       "      <td>+39.8488280</td>\n",
       "      <td>-089.5115697</td>\n",
       "      <td>POLYGON ((-89.56791 39.87580, -89.56739 39.875...</td>\n",
       "    </tr>\n",
       "  </tbody>\n",
       "</table>\n",
       "</div>"
      ],
      "text/plain": [
       "  STATEFP COUNTYFP TRACTCE        GEOID   NAME            NAMELSAD  MTFCC  \\\n",
       "0      17      047  957100  17047957100   9571   Census Tract 9571  G5020   \n",
       "1      17      047  956900  17047956900   9569   Census Tract 9569  G5020   \n",
       "2      17      167  003901  17167003901  39.01  Census Tract 39.01  G5020   \n",
       "3      17      167  003500  17167003500     35     Census Tract 35  G5020   \n",
       "4      17      167  003802  17167003802  38.02  Census Tract 38.02  G5020   \n",
       "\n",
       "  FUNCSTAT      ALAND   AWATER     INTPTLAT      INTPTLON  \\\n",
       "0        S   17502924   151254  +38.3810609  -088.0566832   \n",
       "1        S  289722767   430838  +38.4939617  -088.0440563   \n",
       "2        S  107283391  1202385  +39.6960595  -089.5296888   \n",
       "3        S  548131091   280907  +39.7333761  -089.8871664   \n",
       "4        S   71333933   955509  +39.8488280  -089.5115697   \n",
       "\n",
       "                                            geometry  \n",
       "0  POLYGON ((-88.10244 38.39351, -88.10232 38.393...  \n",
       "1  POLYGON ((-88.14857 38.46782, -88.14856 38.468...  \n",
       "2  POLYGON ((-89.59191 39.69246, -89.59116 39.692...  \n",
       "3  POLYGON ((-89.99450 39.89447, -89.99451 39.897...  \n",
       "4  POLYGON ((-89.56791 39.87580, -89.56739 39.875...  "
      ]
     },
     "execution_count": 42,
     "metadata": {},
     "output_type": "execute_result"
    }
   ],
   "source": [
    "df = gpd.read_file('data/tracts.shp')\n",
    "df.head()"
   ]
  },
  {
   "cell_type": "markdown",
   "id": "48589b2f",
   "metadata": {},
   "source": [
    "The geopandas package allows us to easily plot out geospatial data. For example, running the following code plots all the census tracts for the state of Illinois."
   ]
  },
  {
   "cell_type": "code",
   "execution_count": 43,
   "id": "4a858fd1",
   "metadata": {},
   "outputs": [
    {
     "data": {
      "text/plain": [
       "<AxesSubplot:>"
      ]
     },
     "execution_count": 43,
     "metadata": {},
     "output_type": "execute_result"
    },
    {
     "data": {
      "image/png": "[encoded data removed]",
      "text/plain": [
       "<Figure size 432x288 with 1 Axes>"
      ]
     },
     "metadata": {
      "needs_background": "light"
     },
     "output_type": "display_data"
    }
   ],
   "source": [
    "df.plot()"
   ]
  },
  {
   "cell_type": "markdown",
   "id": "5c757e35",
   "metadata": {},
   "source": [
    "Cook County is designated by COUNTYFP '031' in this dataset, if we want to just get the census tracts from cook county we can do the following."
   ]
  },
  {
   "cell_type": "code",
   "execution_count": 45,
   "id": "d0882e08",
   "metadata": {},
   "outputs": [
    {
     "data": {
      "text/plain": [
       "<AxesSubplot:>"
      ]
     },
     "execution_count": 45,
     "metadata": {},
     "output_type": "execute_result"
    },
    {
     "data": {
      "image/png": "[encoded data removed]",
      "text/plain": [
       "<Figure size 432x288 with 1 Axes>"
      ]
     },
     "metadata": {
      "needs_background": "light"
     },
     "output_type": "display_data"
    }
   ],
   "source": [
    "cook_county_tracts = df[df['COUNTYFP'] == '031']\n",
    "cook_county_tracts.plot()"
   ]
  },
  {
   "cell_type": "markdown",
   "id": "cd2e1dae",
   "metadata": {},
   "source": [
    "### Census Tract Demographics\n",
    "The American Community Survey (ACS) is a demographics survey program conducted by the U.S. Census Bureau. It regularly gathers information previously contained only in the long form of the decennial census, such as ancestry, citizenship, educational attainment, income, language proficiency, migration, disability, employment, and housing characteristics. This data is organized by census tract. The next step is to load this data and link it to the geometries above."
   ]
  },
  {
   "cell_type": "code",
   "execution_count": 64,
   "id": "bbe32c70",
   "metadata": {},
   "outputs": [],
   "source": [
    "import pandas as pd"
   ]
  },
  {
   "cell_type": "code",
   "execution_count": 79,
   "id": "2bc3ba83",
   "metadata": {},
   "outputs": [],
   "source": [
    "cook_county_demographics = pd.read_csv('data/cook_county.csv')"
   ]
  },
  {
   "cell_type": "code",
   "execution_count": 86,
   "id": "fc6f2a25",
   "metadata": {},
   "outputs": [
    {
     "data": {
      "text/html": [
       "<div>\n",
       "<style scoped>\n",
       "    .dataframe tbody tr th:only-of-type {\n",
       "        vertical-align: middle;\n",
       "    }\n",
       "\n",
       "    .dataframe tbody tr th {\n",
       "        vertical-align: top;\n",
       "    }\n",
       "\n",
       "    .dataframe thead th {\n",
       "        text-align: right;\n",
       "    }\n",
       "</style>\n",
       "<table border=\"1\" class=\"dataframe\">\n",
       "  <thead>\n",
       "    <tr style=\"text-align: right;\">\n",
       "      <th></th>\n",
       "      <th>Geo_FIPS</th>\n",
       "      <th>Geo_GEOID</th>\n",
       "      <th>Geo_NAME</th>\n",
       "      <th>Geo_QName</th>\n",
       "      <th>Geo_STUSAB</th>\n",
       "      <th>Geo_SUMLEV</th>\n",
       "      <th>Geo_GEOCOMP</th>\n",
       "      <th>Geo_FILEID</th>\n",
       "      <th>Geo_LOGRECNO</th>\n",
       "      <th>Geo_US</th>\n",
       "      <th>...</th>\n",
       "      <th>SE_A14006_001</th>\n",
       "      <th>SE_A10001_001</th>\n",
       "      <th>SE_A10060_001</th>\n",
       "      <th>SE_A10060_002</th>\n",
       "      <th>SE_A10060_003</th>\n",
       "      <th>SE_B13004_001</th>\n",
       "      <th>SE_B13004_002</th>\n",
       "      <th>SE_B13004_003</th>\n",
       "      <th>SE_B13004_004</th>\n",
       "      <th>SE_B13004_005</th>\n",
       "    </tr>\n",
       "  </thead>\n",
       "  <tbody>\n",
       "    <tr>\n",
       "      <th>0</th>\n",
       "      <td>17031010100</td>\n",
       "      <td>14000US17031010100</td>\n",
       "      <td>Census Tract 101, Cook County, Illinois</td>\n",
       "      <td>Census Tract 101, Cook County, Illinois</td>\n",
       "      <td>il</td>\n",
       "      <td>140</td>\n",
       "      <td>0</td>\n",
       "      <td>ACSSF</td>\n",
       "      <td>5857</td>\n",
       "      <td>NaN</td>\n",
       "      <td>...</td>\n",
       "      <td>32188</td>\n",
       "      <td>2625</td>\n",
       "      <td>2208</td>\n",
       "      <td>367</td>\n",
       "      <td>1841</td>\n",
       "      <td>3987</td>\n",
       "      <td>1143</td>\n",
       "      <td>661</td>\n",
       "      <td>1804</td>\n",
       "      <td>2183</td>\n",
       "    </tr>\n",
       "    <tr>\n",
       "      <th>1</th>\n",
       "      <td>17031010201</td>\n",
       "      <td>14000US17031010201</td>\n",
       "      <td>Census Tract 102.01, Cook County, Illinois</td>\n",
       "      <td>Census Tract 102.01, Cook County, Illinois</td>\n",
       "      <td>il</td>\n",
       "      <td>140</td>\n",
       "      <td>0</td>\n",
       "      <td>ACSSF</td>\n",
       "      <td>5858</td>\n",
       "      <td>NaN</td>\n",
       "      <td>...</td>\n",
       "      <td>39122</td>\n",
       "      <td>3007</td>\n",
       "      <td>2619</td>\n",
       "      <td>648</td>\n",
       "      <td>1971</td>\n",
       "      <td>7216</td>\n",
       "      <td>2402</td>\n",
       "      <td>1751</td>\n",
       "      <td>4153</td>\n",
       "      <td>3063</td>\n",
       "    </tr>\n",
       "    <tr>\n",
       "      <th>2</th>\n",
       "      <td>17031010202</td>\n",
       "      <td>14000US17031010202</td>\n",
       "      <td>Census Tract 102.02, Cook County, Illinois</td>\n",
       "      <td>Census Tract 102.02, Cook County, Illinois</td>\n",
       "      <td>il</td>\n",
       "      <td>140</td>\n",
       "      <td>0</td>\n",
       "      <td>ACSSF</td>\n",
       "      <td>5859</td>\n",
       "      <td>NaN</td>\n",
       "      <td>...</td>\n",
       "      <td>27318</td>\n",
       "      <td>1227</td>\n",
       "      <td>1022</td>\n",
       "      <td>245</td>\n",
       "      <td>777</td>\n",
       "      <td>1988</td>\n",
       "      <td>588</td>\n",
       "      <td>493</td>\n",
       "      <td>1081</td>\n",
       "      <td>907</td>\n",
       "    </tr>\n",
       "    <tr>\n",
       "      <th>3</th>\n",
       "      <td>17031010300</td>\n",
       "      <td>14000US17031010300</td>\n",
       "      <td>Census Tract 103, Cook County, Illinois</td>\n",
       "      <td>Census Tract 103, Cook County, Illinois</td>\n",
       "      <td>il</td>\n",
       "      <td>140</td>\n",
       "      <td>0</td>\n",
       "      <td>ACSSF</td>\n",
       "      <td>5860</td>\n",
       "      <td>NaN</td>\n",
       "      <td>...</td>\n",
       "      <td>37111</td>\n",
       "      <td>3264</td>\n",
       "      <td>2739</td>\n",
       "      <td>765</td>\n",
       "      <td>1974</td>\n",
       "      <td>5111</td>\n",
       "      <td>1019</td>\n",
       "      <td>1360</td>\n",
       "      <td>2379</td>\n",
       "      <td>2732</td>\n",
       "    </tr>\n",
       "    <tr>\n",
       "      <th>4</th>\n",
       "      <td>17031010400</td>\n",
       "      <td>14000US17031010400</td>\n",
       "      <td>Census Tract 104, Cook County, Illinois</td>\n",
       "      <td>Census Tract 104, Cook County, Illinois</td>\n",
       "      <td>il</td>\n",
       "      <td>140</td>\n",
       "      <td>0</td>\n",
       "      <td>ACSSF</td>\n",
       "      <td>5861</td>\n",
       "      <td>NaN</td>\n",
       "      <td>...</td>\n",
       "      <td>38384</td>\n",
       "      <td>2199</td>\n",
       "      <td>1869</td>\n",
       "      <td>427</td>\n",
       "      <td>1442</td>\n",
       "      <td>3623</td>\n",
       "      <td>655</td>\n",
       "      <td>702</td>\n",
       "      <td>1357</td>\n",
       "      <td>2266</td>\n",
       "    </tr>\n",
       "  </tbody>\n",
       "</table>\n",
       "<p>5 rows × 102 columns</p>\n",
       "</div>"
      ],
      "text/plain": [
       "      Geo_FIPS           Geo_GEOID  \\\n",
       "0  17031010100  14000US17031010100   \n",
       "1  17031010201  14000US17031010201   \n",
       "2  17031010202  14000US17031010202   \n",
       "3  17031010300  14000US17031010300   \n",
       "4  17031010400  14000US17031010400   \n",
       "\n",
       "                                     Geo_NAME  \\\n",
       "0     Census Tract 101, Cook County, Illinois   \n",
       "1  Census Tract 102.01, Cook County, Illinois   \n",
       "2  Census Tract 102.02, Cook County, Illinois   \n",
       "3     Census Tract 103, Cook County, Illinois   \n",
       "4     Census Tract 104, Cook County, Illinois   \n",
       "\n",
       "                                    Geo_QName Geo_STUSAB  Geo_SUMLEV  \\\n",
       "0     Census Tract 101, Cook County, Illinois         il         140   \n",
       "1  Census Tract 102.01, Cook County, Illinois         il         140   \n",
       "2  Census Tract 102.02, Cook County, Illinois         il         140   \n",
       "3     Census Tract 103, Cook County, Illinois         il         140   \n",
       "4     Census Tract 104, Cook County, Illinois         il         140   \n",
       "\n",
       "   Geo_GEOCOMP Geo_FILEID  Geo_LOGRECNO  Geo_US  ...  SE_A14006_001  \\\n",
       "0            0      ACSSF          5857     NaN  ...          32188   \n",
       "1            0      ACSSF          5858     NaN  ...          39122   \n",
       "2            0      ACSSF          5859     NaN  ...          27318   \n",
       "3            0      ACSSF          5860     NaN  ...          37111   \n",
       "4            0      ACSSF          5861     NaN  ...          38384   \n",
       "\n",
       "   SE_A10001_001  SE_A10060_001  SE_A10060_002  SE_A10060_003  SE_B13004_001  \\\n",
       "0           2625           2208            367           1841           3987   \n",
       "1           3007           2619            648           1971           7216   \n",
       "2           1227           1022            245            777           1988   \n",
       "3           3264           2739            765           1974           5111   \n",
       "4           2199           1869            427           1442           3623   \n",
       "\n",
       "   SE_B13004_002  SE_B13004_003  SE_B13004_004  SE_B13004_005  \n",
       "0           1143            661           1804           2183  \n",
       "1           2402           1751           4153           3063  \n",
       "2            588            493           1081            907  \n",
       "3           1019           1360           2379           2732  \n",
       "4            655            702           1357           2266  \n",
       "\n",
       "[5 rows x 102 columns]"
      ]
     },
     "execution_count": 86,
     "metadata": {},
     "output_type": "execute_result"
    }
   ],
   "source": [
    "cook_county_demographics.head()"
   ]
  },
  {
   "cell_type": "markdown",
   "id": "f0db1277",
   "metadata": {},
   "source": [
    "We can link the census tract geometries with the ACS demographics."
   ]
  },
  {
   "cell_type": "code",
   "execution_count": 87,
   "id": "1c5529a2",
   "metadata": {},
   "outputs": [
    {
     "data": {
      "text/html": [
       "<div>\n",
       "<style scoped>\n",
       "    .dataframe tbody tr th:only-of-type {\n",
       "        vertical-align: middle;\n",
       "    }\n",
       "\n",
       "    .dataframe tbody tr th {\n",
       "        vertical-align: top;\n",
       "    }\n",
       "\n",
       "    .dataframe thead th {\n",
       "        text-align: right;\n",
       "    }\n",
       "</style>\n",
       "<table border=\"1\" class=\"dataframe\">\n",
       "  <thead>\n",
       "    <tr style=\"text-align: right;\">\n",
       "      <th></th>\n",
       "      <th>STATEFP</th>\n",
       "      <th>COUNTYFP</th>\n",
       "      <th>TRACTCE</th>\n",
       "      <th>GEOID</th>\n",
       "      <th>NAME</th>\n",
       "      <th>NAMELSAD</th>\n",
       "      <th>MTFCC</th>\n",
       "      <th>FUNCSTAT</th>\n",
       "      <th>ALAND</th>\n",
       "      <th>AWATER</th>\n",
       "      <th>...</th>\n",
       "      <th>SE_A14006_001</th>\n",
       "      <th>SE_A10001_001</th>\n",
       "      <th>SE_A10060_001</th>\n",
       "      <th>SE_A10060_002</th>\n",
       "      <th>SE_A10060_003</th>\n",
       "      <th>SE_B13004_001</th>\n",
       "      <th>SE_B13004_002</th>\n",
       "      <th>SE_B13004_003</th>\n",
       "      <th>SE_B13004_004</th>\n",
       "      <th>SE_B13004_005</th>\n",
       "    </tr>\n",
       "  </thead>\n",
       "  <tbody>\n",
       "    <tr>\n",
       "      <th>0</th>\n",
       "      <td>17</td>\n",
       "      <td>031</td>\n",
       "      <td>221000</td>\n",
       "      <td>17031221000</td>\n",
       "      <td>2210</td>\n",
       "      <td>Census Tract 2210</td>\n",
       "      <td>G5020</td>\n",
       "      <td>S</td>\n",
       "      <td>220053</td>\n",
       "      <td>0</td>\n",
       "      <td>...</td>\n",
       "      <td>33090</td>\n",
       "      <td>1073</td>\n",
       "      <td>911</td>\n",
       "      <td>288</td>\n",
       "      <td>623</td>\n",
       "      <td>2991</td>\n",
       "      <td>829</td>\n",
       "      <td>930</td>\n",
       "      <td>1759</td>\n",
       "      <td>1232</td>\n",
       "    </tr>\n",
       "    <tr>\n",
       "      <th>1</th>\n",
       "      <td>17</td>\n",
       "      <td>031</td>\n",
       "      <td>221100</td>\n",
       "      <td>17031221100</td>\n",
       "      <td>2211</td>\n",
       "      <td>Census Tract 2211</td>\n",
       "      <td>G5020</td>\n",
       "      <td>S</td>\n",
       "      <td>440042</td>\n",
       "      <td>0</td>\n",
       "      <td>...</td>\n",
       "      <td>40254</td>\n",
       "      <td>2086</td>\n",
       "      <td>1912</td>\n",
       "      <td>692</td>\n",
       "      <td>1220</td>\n",
       "      <td>4985</td>\n",
       "      <td>1367</td>\n",
       "      <td>1317</td>\n",
       "      <td>2684</td>\n",
       "      <td>2301</td>\n",
       "    </tr>\n",
       "    <tr>\n",
       "      <th>2</th>\n",
       "      <td>17</td>\n",
       "      <td>031</td>\n",
       "      <td>242800</td>\n",
       "      <td>17031242800</td>\n",
       "      <td>2428</td>\n",
       "      <td>Census Tract 2428</td>\n",
       "      <td>G5020</td>\n",
       "      <td>S</td>\n",
       "      <td>439630</td>\n",
       "      <td>0</td>\n",
       "      <td>...</td>\n",
       "      <td>62778</td>\n",
       "      <td>690</td>\n",
       "      <td>620</td>\n",
       "      <td>357</td>\n",
       "      <td>263</td>\n",
       "      <td>1360</td>\n",
       "      <td>186</td>\n",
       "      <td>233</td>\n",
       "      <td>419</td>\n",
       "      <td>941</td>\n",
       "    </tr>\n",
       "    <tr>\n",
       "      <th>3</th>\n",
       "      <td>17</td>\n",
       "      <td>031</td>\n",
       "      <td>242900</td>\n",
       "      <td>17031242900</td>\n",
       "      <td>2429</td>\n",
       "      <td>Census Tract 2429</td>\n",
       "      <td>G5020</td>\n",
       "      <td>S</td>\n",
       "      <td>323819</td>\n",
       "      <td>0</td>\n",
       "      <td>...</td>\n",
       "      <td>62750</td>\n",
       "      <td>912</td>\n",
       "      <td>827</td>\n",
       "      <td>307</td>\n",
       "      <td>520</td>\n",
       "      <td>1656</td>\n",
       "      <td>157</td>\n",
       "      <td>277</td>\n",
       "      <td>434</td>\n",
       "      <td>1222</td>\n",
       "    </tr>\n",
       "    <tr>\n",
       "      <th>4</th>\n",
       "      <td>17</td>\n",
       "      <td>031</td>\n",
       "      <td>243000</td>\n",
       "      <td>17031243000</td>\n",
       "      <td>2430</td>\n",
       "      <td>Census Tract 2430</td>\n",
       "      <td>G5020</td>\n",
       "      <td>S</td>\n",
       "      <td>324547</td>\n",
       "      <td>0</td>\n",
       "      <td>...</td>\n",
       "      <td>66635</td>\n",
       "      <td>1108</td>\n",
       "      <td>1053</td>\n",
       "      <td>476</td>\n",
       "      <td>577</td>\n",
       "      <td>2472</td>\n",
       "      <td>231</td>\n",
       "      <td>409</td>\n",
       "      <td>640</td>\n",
       "      <td>1832</td>\n",
       "    </tr>\n",
       "  </tbody>\n",
       "</table>\n",
       "<p>5 rows × 115 columns</p>\n",
       "</div>"
      ],
      "text/plain": [
       "  STATEFP COUNTYFP TRACTCE        GEOID  NAME           NAMELSAD  MTFCC  \\\n",
       "0      17      031  221000  17031221000  2210  Census Tract 2210  G5020   \n",
       "1      17      031  221100  17031221100  2211  Census Tract 2211  G5020   \n",
       "2      17      031  242800  17031242800  2428  Census Tract 2428  G5020   \n",
       "3      17      031  242900  17031242900  2429  Census Tract 2429  G5020   \n",
       "4      17      031  243000  17031243000  2430  Census Tract 2430  G5020   \n",
       "\n",
       "  FUNCSTAT   ALAND  AWATER  ... SE_A14006_001 SE_A10001_001 SE_A10060_001  \\\n",
       "0        S  220053       0  ...         33090          1073           911   \n",
       "1        S  440042       0  ...         40254          2086          1912   \n",
       "2        S  439630       0  ...         62778           690           620   \n",
       "3        S  323819       0  ...         62750           912           827   \n",
       "4        S  324547       0  ...         66635          1108          1053   \n",
       "\n",
       "  SE_A10060_002 SE_A10060_003 SE_B13004_001 SE_B13004_002 SE_B13004_003  \\\n",
       "0           288           623          2991           829           930   \n",
       "1           692          1220          4985          1367          1317   \n",
       "2           357           263          1360           186           233   \n",
       "3           307           520          1656           157           277   \n",
       "4           476           577          2472           231           409   \n",
       "\n",
       "   SE_B13004_004  SE_B13004_005  \n",
       "0           1759           1232  \n",
       "1           2684           2301  \n",
       "2            419            941  \n",
       "3            434           1222  \n",
       "4            640           1832  \n",
       "\n",
       "[5 rows x 115 columns]"
      ]
     },
     "execution_count": 87,
     "metadata": {},
     "output_type": "execute_result"
    }
   ],
   "source": [
    "cook_county_demographics['Geo_FIPS'] = cook_county_demographics['Geo_FIPS'].apply(str)\n",
    "\n",
    "merged = cook_county_tracts.merge(cook_county_demographics, \\\n",
    "                                 left_on=['GEOID'], \\\n",
    "                                 right_on=['Geo_FIPS'])\n",
    "merged.head()"
   ]
  },
  {
   "cell_type": "markdown",
   "id": "24d4d212",
   "metadata": {},
   "source": [
    "The resulting merged dataset covers most of the Cook county with a few missing tracks corresponding to forest preserves, parks, airports, etc."
   ]
  },
  {
   "cell_type": "code",
   "execution_count": 88,
   "id": "178c83d2",
   "metadata": {},
   "outputs": [
    {
     "data": {
      "text/plain": [
       "<AxesSubplot:>"
      ]
     },
     "execution_count": 88,
     "metadata": {},
     "output_type": "execute_result"
    },
    {
     "data": {
      "image/png": "[encoded data removed]",
      "text/plain": [
       "<Figure size 432x288 with 1 Axes>"
      ]
     },
     "metadata": {
      "needs_background": "light"
     },
     "output_type": "display_data"
    }
   ],
   "source": [
    "merged.plot()"
   ]
  },
  {
   "cell_type": "code",
   "execution_count": 89,
   "id": "900f82e6",
   "metadata": {},
   "outputs": [
    {
     "name": "stderr",
     "output_type": "stream",
     "text": [
      "/var/folders/dj/w91d3y9x7cv3sx2jvpg999180000gn/T/ipykernel_52563/3625760056.py:1: UserWarning: Column names longer than 10 characters will be truncated when saved to ESRI Shapefile.\n",
      "  merged.to_file('data/linked_tracts_demographics')\n"
     ]
    }
   ],
   "source": [
    "merged.to_file('data/linked_tracts_demographics')"
   ]
  },
  {
   "cell_type": "markdown",
   "id": "620e467d",
   "metadata": {},
   "source": [
    "### Understanding This Dataset (and Basic Geo Pandas Manipulations)\n",
    "Now, let's slice and dice this linked dataset to get some familiarity with what is going on in it. For example, suppose we want to plot the census tracts by median household income."
   ]
  },
  {
   "cell_type": "code",
   "execution_count": 92,
   "id": "111d69ed",
   "metadata": {},
   "outputs": [
    {
     "data": {
      "text/plain": [
       "<AxesSubplot:>"
      ]
     },
     "execution_count": 92,
     "metadata": {},
     "output_type": "execute_result"
    },
    {
     "data": {
      "image/png": "[encoded data removed]",
      "text/plain": [
       "<Figure size 432x288 with 2 Axes>"
      ]
     },
     "metadata": {
      "needs_background": "light"
     },
     "output_type": "display_data"
    }
   ],
   "source": [
    "merged.plot(column='SE_A14006_001', legend=True)"
   ]
  },
  {
   "cell_type": "markdown",
   "id": "36007ba6",
   "metadata": {},
   "source": [
    "Or, we could plot the census tracts by the percentage of the population that self-reports as African American."
   ]
  },
  {
   "cell_type": "code",
   "execution_count": 93,
   "id": "4d70fcde",
   "metadata": {},
   "outputs": [
    {
     "data": {
      "text/plain": [
       "<AxesSubplot:>"
      ]
     },
     "execution_count": 93,
     "metadata": {},
     "output_type": "execute_result"
    },
    {
     "data": {
      "image/png": "[encoded data removed]",
      "text/plain": [
       "<Figure size 432x288 with 2 Axes>"
      ]
     },
     "metadata": {
      "needs_background": "light"
     },
     "output_type": "display_data"
    }
   ],
   "source": [
    "merged['PERC_AA']  = merged['SE_A03001_003']/merged['SE_A03001_001'] \n",
    "\n",
    "merged.plot(column='PERC_AA', legend=True)"
   ]
  },
  {
   "cell_type": "markdown",
   "id": "68abed29",
   "metadata": {},
   "source": [
    "Our goal is to use these basic manipulations to understand how inequities in data quality might actually correlate with demographic variables.\n",
    "\n",
    "\n",
    "## Study 1. Business Listings\n",
    "City business listings are a valuable data source for understanding a number of social determinants of health. For example, we can use these listings to determine the proximity to childcare or availability of fresh produce in a patients neighborhood. We start with a city of Chicago business dataset."
   ]
  },
  {
   "cell_type": "code",
   "execution_count": 172,
   "id": "05bea96f",
   "metadata": {},
   "outputs": [
    {
     "name": "stderr",
     "output_type": "stream",
     "text": [
      "/Users/sanjaykrishnan/Documents/sociome-data-commons/venv/lib/python3.9/site-packages/IPython/core/interactiveshell.py:3457: DtypeWarning: Columns (9) have mixed types.Specify dtype option on import or set low_memory=False.\n",
      "  exec(code_obj, self.user_global_ns, self.user_ns)\n"
     ]
    }
   ],
   "source": [
    "business = pd.read_csv('data/survey_datasets/business_listings.csv')"
   ]
  },
  {
   "cell_type": "code",
   "execution_count": 109,
   "id": "1b5c8c1f",
   "metadata": {},
   "outputs": [
    {
     "data": {
      "text/html": [
       "<div>\n",
       "<style scoped>\n",
       "    .dataframe tbody tr th:only-of-type {\n",
       "        vertical-align: middle;\n",
       "    }\n",
       "\n",
       "    .dataframe tbody tr th {\n",
       "        vertical-align: top;\n",
       "    }\n",
       "\n",
       "    .dataframe thead th {\n",
       "        text-align: right;\n",
       "    }\n",
       "</style>\n",
       "<table border=\"1\" class=\"dataframe\">\n",
       "  <thead>\n",
       "    <tr style=\"text-align: right;\">\n",
       "      <th></th>\n",
       "      <th>ID</th>\n",
       "      <th>LICENSE ID</th>\n",
       "      <th>ACCOUNT NUMBER</th>\n",
       "      <th>SITE NUMBER</th>\n",
       "      <th>LEGAL NAME</th>\n",
       "      <th>DOING BUSINESS AS NAME</th>\n",
       "      <th>ADDRESS</th>\n",
       "      <th>CITY</th>\n",
       "      <th>STATE</th>\n",
       "      <th>ZIP CODE</th>\n",
       "      <th>...</th>\n",
       "      <th>LICENSE TERM START DATE</th>\n",
       "      <th>LICENSE TERM EXPIRATION DATE</th>\n",
       "      <th>LICENSE APPROVED FOR ISSUANCE</th>\n",
       "      <th>DATE ISSUED</th>\n",
       "      <th>LICENSE STATUS</th>\n",
       "      <th>LICENSE STATUS CHANGE DATE</th>\n",
       "      <th>SSA</th>\n",
       "      <th>LATITUDE</th>\n",
       "      <th>LONGITUDE</th>\n",
       "      <th>LOCATION</th>\n",
       "    </tr>\n",
       "  </thead>\n",
       "  <tbody>\n",
       "    <tr>\n",
       "      <th>0</th>\n",
       "      <td>2664681-20190513</td>\n",
       "      <td>2664681</td>\n",
       "      <td>398472</td>\n",
       "      <td>1</td>\n",
       "      <td>ISLAND PARTY HUT, LLC</td>\n",
       "      <td>ISLAND PARTY HUT</td>\n",
       "      <td>355 E RIVERWALK SOUTH  1</td>\n",
       "      <td>CHICAGO</td>\n",
       "      <td>IL</td>\n",
       "      <td>60601.0</td>\n",
       "      <td>...</td>\n",
       "      <td>05/13/2019</td>\n",
       "      <td>05/12/2020</td>\n",
       "      <td>05/13/2019</td>\n",
       "      <td>05/13/2019</td>\n",
       "      <td>AAI</td>\n",
       "      <td>NaN</td>\n",
       "      <td>NaN</td>\n",
       "      <td>41.887806</td>\n",
       "      <td>-87.617882</td>\n",
       "      <td>(41.88780560547408, -87.61788171685379)</td>\n",
       "    </tr>\n",
       "    <tr>\n",
       "      <th>1</th>\n",
       "      <td>2664546-20190513</td>\n",
       "      <td>2664546</td>\n",
       "      <td>405793</td>\n",
       "      <td>1</td>\n",
       "      <td>TINY LOUNGE ON THE RIVERWALK, L.L.C.</td>\n",
       "      <td>TINY TAPP</td>\n",
       "      <td>55-71 W RIVERWALK  1ST</td>\n",
       "      <td>CHICAGO</td>\n",
       "      <td>IL</td>\n",
       "      <td>60601.0</td>\n",
       "      <td>...</td>\n",
       "      <td>05/13/2019</td>\n",
       "      <td>05/12/2020</td>\n",
       "      <td>05/13/2019</td>\n",
       "      <td>05/13/2019</td>\n",
       "      <td>AAI</td>\n",
       "      <td>NaN</td>\n",
       "      <td>NaN</td>\n",
       "      <td>41.886952</td>\n",
       "      <td>-87.629875</td>\n",
       "      <td>(41.88695199839048, -87.62987459293426)</td>\n",
       "    </tr>\n",
       "    <tr>\n",
       "      <th>2</th>\n",
       "      <td>2699019-20191122</td>\n",
       "      <td>2699019</td>\n",
       "      <td>417235</td>\n",
       "      <td>4</td>\n",
       "      <td>ROBERT BAUSCH</td>\n",
       "      <td>Bob's Belgian Hot Chocolate</td>\n",
       "      <td>18 S ADDISON</td>\n",
       "      <td>BENSONVILLE</td>\n",
       "      <td>IL</td>\n",
       "      <td>60106.0</td>\n",
       "      <td>...</td>\n",
       "      <td>11/22/2019</td>\n",
       "      <td>05/13/2020</td>\n",
       "      <td>11/14/2019</td>\n",
       "      <td>11/22/2019</td>\n",
       "      <td>AAI</td>\n",
       "      <td>NaN</td>\n",
       "      <td>NaN</td>\n",
       "      <td>NaN</td>\n",
       "      <td>NaN</td>\n",
       "      <td>NaN</td>\n",
       "    </tr>\n",
       "    <tr>\n",
       "      <th>3</th>\n",
       "      <td>2699024-20191114</td>\n",
       "      <td>2699024</td>\n",
       "      <td>324455</td>\n",
       "      <td>15</td>\n",
       "      <td>Frieder Frotscher</td>\n",
       "      <td>German Grill</td>\n",
       "      <td>50 W WASHINGTON ST</td>\n",
       "      <td>CHICAGO</td>\n",
       "      <td>IL</td>\n",
       "      <td>60602.0</td>\n",
       "      <td>...</td>\n",
       "      <td>11/14/2019</td>\n",
       "      <td>05/13/2020</td>\n",
       "      <td>11/14/2019</td>\n",
       "      <td>11/14/2019</td>\n",
       "      <td>AAI</td>\n",
       "      <td>NaN</td>\n",
       "      <td>NaN</td>\n",
       "      <td>41.883322</td>\n",
       "      <td>-87.629775</td>\n",
       "      <td>(41.88332219914999, -87.62977509664286)</td>\n",
       "    </tr>\n",
       "    <tr>\n",
       "      <th>4</th>\n",
       "      <td>2699286-20191114</td>\n",
       "      <td>2699286</td>\n",
       "      <td>324457</td>\n",
       "      <td>16</td>\n",
       "      <td>Uli Koretz</td>\n",
       "      <td>Sweet Swabian</td>\n",
       "      <td>50 W WASHINGTON ST</td>\n",
       "      <td>CHICAGO</td>\n",
       "      <td>IL</td>\n",
       "      <td>60602.0</td>\n",
       "      <td>...</td>\n",
       "      <td>11/14/2019</td>\n",
       "      <td>05/13/2020</td>\n",
       "      <td>11/14/2019</td>\n",
       "      <td>11/14/2019</td>\n",
       "      <td>AAI</td>\n",
       "      <td>NaN</td>\n",
       "      <td>NaN</td>\n",
       "      <td>41.883322</td>\n",
       "      <td>-87.629775</td>\n",
       "      <td>(41.88332219914999, -87.62977509664286)</td>\n",
       "    </tr>\n",
       "  </tbody>\n",
       "</table>\n",
       "<p>5 rows × 34 columns</p>\n",
       "</div>"
      ],
      "text/plain": [
       "                 ID  LICENSE ID  ACCOUNT NUMBER  SITE NUMBER  \\\n",
       "0  2664681-20190513     2664681          398472            1   \n",
       "1  2664546-20190513     2664546          405793            1   \n",
       "2  2699019-20191122     2699019          417235            4   \n",
       "3  2699024-20191114     2699024          324455           15   \n",
       "4  2699286-20191114     2699286          324457           16   \n",
       "\n",
       "                             LEGAL NAME       DOING BUSINESS AS NAME  \\\n",
       "0                 ISLAND PARTY HUT, LLC             ISLAND PARTY HUT   \n",
       "1  TINY LOUNGE ON THE RIVERWALK, L.L.C.                    TINY TAPP   \n",
       "2                         ROBERT BAUSCH  Bob's Belgian Hot Chocolate   \n",
       "3                     Frieder Frotscher                 German Grill   \n",
       "4                            Uli Koretz                Sweet Swabian   \n",
       "\n",
       "                    ADDRESS         CITY STATE ZIP CODE  ...  \\\n",
       "0  355 E RIVERWALK SOUTH  1      CHICAGO    IL  60601.0  ...   \n",
       "1    55-71 W RIVERWALK  1ST      CHICAGO    IL  60601.0  ...   \n",
       "2              18 S ADDISON  BENSONVILLE    IL  60106.0  ...   \n",
       "3        50 W WASHINGTON ST      CHICAGO    IL  60602.0  ...   \n",
       "4        50 W WASHINGTON ST      CHICAGO    IL  60602.0  ...   \n",
       "\n",
       "   LICENSE TERM START DATE  LICENSE TERM EXPIRATION DATE  \\\n",
       "0               05/13/2019                    05/12/2020   \n",
       "1               05/13/2019                    05/12/2020   \n",
       "2               11/22/2019                    05/13/2020   \n",
       "3               11/14/2019                    05/13/2020   \n",
       "4               11/14/2019                    05/13/2020   \n",
       "\n",
       "  LICENSE APPROVED FOR ISSUANCE  DATE ISSUED  LICENSE STATUS  \\\n",
       "0                    05/13/2019   05/13/2019             AAI   \n",
       "1                    05/13/2019   05/13/2019             AAI   \n",
       "2                    11/14/2019   11/22/2019             AAI   \n",
       "3                    11/14/2019   11/14/2019             AAI   \n",
       "4                    11/14/2019   11/14/2019             AAI   \n",
       "\n",
       "  LICENSE STATUS CHANGE DATE SSA   LATITUDE  LONGITUDE  \\\n",
       "0                        NaN NaN  41.887806 -87.617882   \n",
       "1                        NaN NaN  41.886952 -87.629875   \n",
       "2                        NaN NaN        NaN        NaN   \n",
       "3                        NaN NaN  41.883322 -87.629775   \n",
       "4                        NaN NaN  41.883322 -87.629775   \n",
       "\n",
       "                                  LOCATION  \n",
       "0  (41.88780560547408, -87.61788171685379)  \n",
       "1  (41.88695199839048, -87.62987459293426)  \n",
       "2                                      NaN  \n",
       "3  (41.88332219914999, -87.62977509664286)  \n",
       "4  (41.88332219914999, -87.62977509664286)  \n",
       "\n",
       "[5 rows x 34 columns]"
      ]
     },
     "execution_count": 109,
     "metadata": {},
     "output_type": "execute_result"
    }
   ],
   "source": [
    "business.head()"
   ]
  },
  {
   "cell_type": "markdown",
   "id": "0139acbf",
   "metadata": {},
   "source": [
    "One of the key attributes in this dataset is the \"BUSINESS ACTIVITY\" tag, which categorizes the type of business in the listing. For example,"
   ]
  },
  {
   "cell_type": "code",
   "execution_count": 110,
   "id": "dbc1aef2",
   "metadata": {},
   "outputs": [
    {
     "data": {
      "text/plain": [
       "array(['1 Yr Multiple - Special Event Food',\n",
       "       '180 Day Multiple - Special Event Food',\n",
       "       '180 Day Multiple - Special Event Food, Mobile Food Vehicle | 180 Day Multiple - Special Event Food',\n",
       "       ...,\n",
       "       'Retail Sales of General Merchandise and Non-Perishable Food | Payment Center | Retail Sales of Cell Phones and Accessories',\n",
       "       'Retail Sales of Used Electronics | Retail Sales of Cell Phones and Accessories',\n",
       "       'Retail Sales of General Merchandise | Provide Animal Boarding Services | Provide Animal Day Care Services | Provide Animal Training Services | Provide Animal Grooming Services'],\n",
       "      dtype=object)"
      ]
     },
     "execution_count": 110,
     "metadata": {},
     "output_type": "execute_result"
    }
   ],
   "source": [
    "business['BUSINESS ACTIVITY'].unique()"
   ]
  },
  {
   "cell_type": "markdown",
   "id": "93c76e3b",
   "metadata": {},
   "source": [
    "These tags are not particularly well-coded and there are a number of missing tags, composite tags, and multiple tags that refer to the same general type of listing."
   ]
  },
  {
   "cell_type": "code",
   "execution_count": 113,
   "id": "402523f8",
   "metadata": {},
   "outputs": [
    {
     "data": {
      "text/plain": [
       "2704"
      ]
     },
     "execution_count": 113,
     "metadata": {},
     "output_type": "execute_result"
    }
   ],
   "source": [
    "business['BUSINESS ACTIVITY'].unique().size"
   ]
  },
  {
   "cell_type": "markdown",
   "id": "fe6ee18b",
   "metadata": {},
   "source": [
    "The fraction of business listings with missing activity tags"
   ]
  },
  {
   "cell_type": "code",
   "execution_count": 118,
   "id": "a789e0a0",
   "metadata": {},
   "outputs": [
    {
     "data": {
      "text/plain": [
       "0.12690683607867007"
      ]
     },
     "execution_count": 118,
     "metadata": {},
     "output_type": "execute_result"
    }
   ],
   "source": [
    "business['BUSINESS ACTIVITY'].isna().sum()/business['BUSINESS ACTIVITY'].count()"
   ]
  },
  {
   "cell_type": "markdown",
   "id": "5247899a",
   "metadata": {},
   "source": [
    "The fraction of business listings with composite tags"
   ]
  },
  {
   "cell_type": "code",
   "execution_count": 120,
   "id": "58fef267",
   "metadata": {},
   "outputs": [
    {
     "data": {
      "text/plain": [
       "0.14577547837334043"
      ]
     },
     "execution_count": 120,
     "metadata": {},
     "output_type": "execute_result"
    }
   ],
   "source": [
    "business['BUSINESS ACTIVITY'].str.contains('\\|').sum()/df['BUSINESS ACTIVITY'].count()"
   ]
  },
  {
   "cell_type": "markdown",
   "id": "c1d1c5d6",
   "metadata": {},
   "source": [
    "### Business with Missing Values\n",
    "Let's try to understand how missing values in the business listings geographically distribute through the city."
   ]
  },
  {
   "cell_type": "code",
   "execution_count": 186,
   "id": "0e7204a7",
   "metadata": {},
   "outputs": [
    {
     "data": {
      "text/html": [
       "<div>\n",
       "<style scoped>\n",
       "    .dataframe tbody tr th:only-of-type {\n",
       "        vertical-align: middle;\n",
       "    }\n",
       "\n",
       "    .dataframe tbody tr th {\n",
       "        vertical-align: top;\n",
       "    }\n",
       "\n",
       "    .dataframe thead th {\n",
       "        text-align: right;\n",
       "    }\n",
       "</style>\n",
       "<table border=\"1\" class=\"dataframe\">\n",
       "  <thead>\n",
       "    <tr style=\"text-align: right;\">\n",
       "      <th></th>\n",
       "      <th>ID</th>\n",
       "      <th>LICENSE ID</th>\n",
       "      <th>ACCOUNT NUMBER</th>\n",
       "      <th>SITE NUMBER</th>\n",
       "      <th>LEGAL NAME</th>\n",
       "      <th>DOING BUSINESS AS NAME</th>\n",
       "      <th>ADDRESS</th>\n",
       "      <th>CITY</th>\n",
       "      <th>STATE</th>\n",
       "      <th>ZIP CODE</th>\n",
       "      <th>...</th>\n",
       "      <th>LICENSE APPROVED FOR ISSUANCE</th>\n",
       "      <th>DATE ISSUED</th>\n",
       "      <th>LICENSE STATUS</th>\n",
       "      <th>LICENSE STATUS CHANGE DATE</th>\n",
       "      <th>SSA</th>\n",
       "      <th>LATITUDE</th>\n",
       "      <th>LONGITUDE</th>\n",
       "      <th>LOCATION</th>\n",
       "      <th>CENSUS_TRACT</th>\n",
       "      <th>BUSINESS ACTIVITY NA</th>\n",
       "    </tr>\n",
       "  </thead>\n",
       "  <tbody>\n",
       "    <tr>\n",
       "      <th>22</th>\n",
       "      <td>19475-20180516</td>\n",
       "      <td>2584673</td>\n",
       "      <td>7943</td>\n",
       "      <td>1</td>\n",
       "      <td>LINDBLAD CONSTRUCTION COMPANY OF JOLIET, INC.</td>\n",
       "      <td>LINDBLAD CONST CO OF JOLIET</td>\n",
       "      <td>717 E CASS ST</td>\n",
       "      <td>JOLIET</td>\n",
       "      <td>IL</td>\n",
       "      <td>60432.0</td>\n",
       "      <td>...</td>\n",
       "      <td>05/03/2018</td>\n",
       "      <td>05/04/2018</td>\n",
       "      <td>AAI</td>\n",
       "      <td>NaN</td>\n",
       "      <td>NaN</td>\n",
       "      <td>NaN</td>\n",
       "      <td>NaN</td>\n",
       "      <td>NaN</td>\n",
       "      <td>None</td>\n",
       "      <td>True</td>\n",
       "    </tr>\n",
       "    <tr>\n",
       "      <th>25</th>\n",
       "      <td>19114-20180516</td>\n",
       "      <td>2585016</td>\n",
       "      <td>28679</td>\n",
       "      <td>1</td>\n",
       "      <td>THE W. J. MCGUIRE COMPANY</td>\n",
       "      <td>The W. J. McGuire Company</td>\n",
       "      <td>1825  HOLSTE RD</td>\n",
       "      <td>NORTHBROOK</td>\n",
       "      <td>IL</td>\n",
       "      <td>60062.0</td>\n",
       "      <td>...</td>\n",
       "      <td>04/12/2018</td>\n",
       "      <td>04/13/2018</td>\n",
       "      <td>AAI</td>\n",
       "      <td>NaN</td>\n",
       "      <td>NaN</td>\n",
       "      <td>NaN</td>\n",
       "      <td>NaN</td>\n",
       "      <td>NaN</td>\n",
       "      <td>None</td>\n",
       "      <td>True</td>\n",
       "    </tr>\n",
       "    <tr>\n",
       "      <th>26</th>\n",
       "      <td>1772192-20180516</td>\n",
       "      <td>2586506</td>\n",
       "      <td>312595</td>\n",
       "      <td>1</td>\n",
       "      <td>MICHAELSON &amp; MESSINGER INSURANCE SPECIALISTS LLC</td>\n",
       "      <td>MICHAELSON &amp; MESSINGER INSURANCE SPECIALISTS LLC</td>\n",
       "      <td>15  SPINNING WHEEL RD  202</td>\n",
       "      <td>HINSDALE</td>\n",
       "      <td>IL</td>\n",
       "      <td>60521.0</td>\n",
       "      <td>...</td>\n",
       "      <td>03/27/2018</td>\n",
       "      <td>03/28/2018</td>\n",
       "      <td>AAI</td>\n",
       "      <td>NaN</td>\n",
       "      <td>NaN</td>\n",
       "      <td>NaN</td>\n",
       "      <td>NaN</td>\n",
       "      <td>NaN</td>\n",
       "      <td>None</td>\n",
       "      <td>True</td>\n",
       "    </tr>\n",
       "    <tr>\n",
       "      <th>28</th>\n",
       "      <td>2153571-20180516</td>\n",
       "      <td>2587414</td>\n",
       "      <td>372310</td>\n",
       "      <td>1</td>\n",
       "      <td>ORBIT MEDICAL OF CHICAGO, LLC</td>\n",
       "      <td>ORBIT MEDICAL OF CHICAGO, LLC</td>\n",
       "      <td>1419 W CARROLL AVE 1ST</td>\n",
       "      <td>CHICAGO</td>\n",
       "      <td>IL</td>\n",
       "      <td>60607.0</td>\n",
       "      <td>...</td>\n",
       "      <td>05/23/2018</td>\n",
       "      <td>05/24/2018</td>\n",
       "      <td>AAI</td>\n",
       "      <td>NaN</td>\n",
       "      <td>NaN</td>\n",
       "      <td>41.887329</td>\n",
       "      <td>-87.663306</td>\n",
       "      <td>(41.887329275371094, -87.66330569005213)</td>\n",
       "      <td>17031833000</td>\n",
       "      <td>True</td>\n",
       "    </tr>\n",
       "    <tr>\n",
       "      <th>29</th>\n",
       "      <td>54463-20180516</td>\n",
       "      <td>2585114</td>\n",
       "      <td>39100</td>\n",
       "      <td>1</td>\n",
       "      <td>T COLLEY, DC MACADAM, J PANALL</td>\n",
       "      <td>CROSSHAIR</td>\n",
       "      <td>1319 W LAKE ST 1ST</td>\n",
       "      <td>CHICAGO</td>\n",
       "      <td>IL</td>\n",
       "      <td>60607.0</td>\n",
       "      <td>...</td>\n",
       "      <td>05/08/2018</td>\n",
       "      <td>05/09/2018</td>\n",
       "      <td>AAI</td>\n",
       "      <td>NaN</td>\n",
       "      <td>NaN</td>\n",
       "      <td>41.885351</td>\n",
       "      <td>-87.659654</td>\n",
       "      <td>(41.885350841508796, -87.65965397606334)</td>\n",
       "      <td>17031833000</td>\n",
       "      <td>True</td>\n",
       "    </tr>\n",
       "  </tbody>\n",
       "</table>\n",
       "<p>5 rows × 36 columns</p>\n",
       "</div>"
      ],
      "text/plain": [
       "                  ID  LICENSE ID  ACCOUNT NUMBER  SITE NUMBER  \\\n",
       "22    19475-20180516     2584673            7943            1   \n",
       "25    19114-20180516     2585016           28679            1   \n",
       "26  1772192-20180516     2586506          312595            1   \n",
       "28  2153571-20180516     2587414          372310            1   \n",
       "29    54463-20180516     2585114           39100            1   \n",
       "\n",
       "                                          LEGAL NAME  \\\n",
       "22     LINDBLAD CONSTRUCTION COMPANY OF JOLIET, INC.   \n",
       "25                         THE W. J. MCGUIRE COMPANY   \n",
       "26  MICHAELSON & MESSINGER INSURANCE SPECIALISTS LLC   \n",
       "28                     ORBIT MEDICAL OF CHICAGO, LLC   \n",
       "29                    T COLLEY, DC MACADAM, J PANALL   \n",
       "\n",
       "                              DOING BUSINESS AS NAME  \\\n",
       "22                       LINDBLAD CONST CO OF JOLIET   \n",
       "25                         The W. J. McGuire Company   \n",
       "26  MICHAELSON & MESSINGER INSURANCE SPECIALISTS LLC   \n",
       "28                     ORBIT MEDICAL OF CHICAGO, LLC   \n",
       "29                                         CROSSHAIR   \n",
       "\n",
       "                       ADDRESS        CITY STATE ZIP CODE  ...  \\\n",
       "22               717 E CASS ST      JOLIET    IL  60432.0  ...   \n",
       "25             1825  HOLSTE RD  NORTHBROOK    IL  60062.0  ...   \n",
       "26  15  SPINNING WHEEL RD  202    HINSDALE    IL  60521.0  ...   \n",
       "28      1419 W CARROLL AVE 1ST     CHICAGO    IL  60607.0  ...   \n",
       "29          1319 W LAKE ST 1ST     CHICAGO    IL  60607.0  ...   \n",
       "\n",
       "    LICENSE APPROVED FOR ISSUANCE  DATE ISSUED LICENSE STATUS  \\\n",
       "22                     05/03/2018   05/04/2018            AAI   \n",
       "25                     04/12/2018   04/13/2018            AAI   \n",
       "26                     03/27/2018   03/28/2018            AAI   \n",
       "28                     05/23/2018   05/24/2018            AAI   \n",
       "29                     05/08/2018   05/09/2018            AAI   \n",
       "\n",
       "    LICENSE STATUS CHANGE DATE  SSA   LATITUDE  LONGITUDE  \\\n",
       "22                         NaN  NaN        NaN        NaN   \n",
       "25                         NaN  NaN        NaN        NaN   \n",
       "26                         NaN  NaN        NaN        NaN   \n",
       "28                         NaN  NaN  41.887329 -87.663306   \n",
       "29                         NaN  NaN  41.885351 -87.659654   \n",
       "\n",
       "                                    LOCATION  CENSUS_TRACT  \\\n",
       "22                                       NaN          None   \n",
       "25                                       NaN          None   \n",
       "26                                       NaN          None   \n",
       "28  (41.887329275371094, -87.66330569005213)   17031833000   \n",
       "29  (41.885350841508796, -87.65965397606334)   17031833000   \n",
       "\n",
       "   BUSINESS ACTIVITY NA  \n",
       "22                 True  \n",
       "25                 True  \n",
       "26                 True  \n",
       "28                 True  \n",
       "29                 True  \n",
       "\n",
       "[5 rows x 36 columns]"
      ]
     },
     "execution_count": 186,
     "metadata": {},
     "output_type": "execute_result"
    }
   ],
   "source": [
    "business[business['BUSINESS ACTIVITY'].isna()].head()"
   ]
  },
  {
   "cell_type": "markdown",
   "id": "9fb4f7cd",
   "metadata": {},
   "source": [
    "Next, we need to assign each business to a census tract."
   ]
  },
  {
   "cell_type": "code",
   "execution_count": 138,
   "id": "3ef7ef4a",
   "metadata": {},
   "outputs": [],
   "source": [
    "from shapely.geometry import Polygon, LineString, Point\n",
    "import numpy as np"
   ]
  },
  {
   "cell_type": "code",
   "execution_count": 173,
   "id": "0acd174b",
   "metadata": {},
   "outputs": [
    {
     "name": "stdout",
     "output_type": "stream",
     "text": [
      "Finished 0\n",
      "Finished 1000\n",
      "Finished 2000\n",
      "Finished 3000\n",
      "Finished 4000\n",
      "Finished 5000\n",
      "Finished 6000\n",
      "Finished 7000\n",
      "Finished 8000\n",
      "Finished 9000\n",
      "Finished 10000\n",
      "Finished 11000\n",
      "Finished 12000\n",
      "Finished 13000\n",
      "Finished 14000\n",
      "Finished 15000\n",
      "Finished 16000\n",
      "Finished 17000\n",
      "Finished 18000\n",
      "Finished 19000\n",
      "Finished 20000\n",
      "Finished 21000\n",
      "Finished 22000\n",
      "Finished 23000\n",
      "Finished 24000\n",
      "Finished 25000\n",
      "Finished 26000\n",
      "Finished 27000\n",
      "Finished 28000\n",
      "Finished 29000\n",
      "Finished 30000\n",
      "Finished 31000\n",
      "Finished 32000\n",
      "Finished 33000\n",
      "Finished 34000\n",
      "Finished 35000\n",
      "Finished 36000\n",
      "Finished 37000\n",
      "Finished 38000\n",
      "Finished 39000\n",
      "Finished 40000\n",
      "Finished 41000\n",
      "Finished 42000\n",
      "Finished 43000\n",
      "Finished 44000\n",
      "Finished 45000\n",
      "Finished 46000\n",
      "Finished 47000\n",
      "Finished 48000\n",
      "Finished 49000\n",
      "Finished 50000\n",
      "Finished 51000\n",
      "Finished 52000\n",
      "Finished 53000\n",
      "Finished 54000\n",
      "Finished 55000\n",
      "Finished 56000\n",
      "Finished 57000\n",
      "Finished 58000\n",
      "Finished 59000\n"
     ]
    }
   ],
   "source": [
    "N = len(business)#businesses\n",
    "P = len(merged)#census tracts\n",
    "\n",
    "tract_assignment = {}\n",
    "for i in range(N):# iterate through all businesses\n",
    "    \n",
    "    b = business.iloc[i]\n",
    "    lat = b['LATITUDE']\n",
    "    long= b['LONGITUDE']\n",
    "    \n",
    "    if i%1000 == 0:\n",
    "        print('Finished',i)\n",
    "    \n",
    "    if np.isnan(lat) or np.isnan(long):\n",
    "        continue\n",
    "    \n",
    "    for j in range(P):\n",
    "            \n",
    "        census_tract = merged.iloc[j]\n",
    "\n",
    "        if census_tract['geometry'].contains(Point(long,lat)):\n",
    "            tract_assignment[i] = j\n",
    "            break"
   ]
  },
  {
   "cell_type": "markdown",
   "id": "5b7df330",
   "metadata": {},
   "source": [
    "Now, we link the assigned track to the business dataset."
   ]
  },
  {
   "cell_type": "code",
   "execution_count": 174,
   "id": "16ee7f5c",
   "metadata": {},
   "outputs": [],
   "source": [
    "business['CENSUS_TRACT'] = None"
   ]
  },
  {
   "cell_type": "code",
   "execution_count": 175,
   "id": "436b6298",
   "metadata": {},
   "outputs": [],
   "source": [
    "for i in range(N):\n",
    "    if i in tract_assignment:\n",
    "        census_tract = tract_assignment[i]\n",
    "        business.loc[i,'CENSUS_TRACT'] = \\\n",
    "                    merged.iloc[census_tract]['GEOID']"
   ]
  },
  {
   "cell_type": "code",
   "execution_count": 170,
   "id": "89119840",
   "metadata": {},
   "outputs": [
    {
     "data": {
      "text/plain": [
       "CENSUS_TRACT\n",
       "17031010100     4\n",
       "17031010201     2\n",
       "17031010202     5\n",
       "17031010300     5\n",
       "17031010400     4\n",
       "               ..\n",
       "17031843500    50\n",
       "17031843600     4\n",
       "17031843700    18\n",
       "17031843800     2\n",
       "17031980100     8\n",
       "Name: CENSUS_TRACT, Length: 687, dtype: int64"
      ]
     },
     "execution_count": 170,
     "metadata": {},
     "output_type": "execute_result"
    }
   ],
   "source": [
    "business.groupby('CENSUS_TRACT')['CENSUS_TRACT'].count()"
   ]
  },
  {
   "cell_type": "code",
   "execution_count": 176,
   "id": "2f1741c3",
   "metadata": {},
   "outputs": [],
   "source": [
    "business.to_csv('business_with_tract.csv')"
   ]
  },
  {
   "cell_type": "markdown",
   "id": "f75fe3da",
   "metadata": {},
   "source": [
    "Now, we can determine the fraction of businesses with missing acitivity entries."
   ]
  },
  {
   "cell_type": "code",
   "execution_count": 295,
   "id": "ab9298e6",
   "metadata": {},
   "outputs": [],
   "source": [
    "business['BUSINESS ACTIVITY NA'] = (business['BUSINESS ACTIVITY'].isna()) #| (business['BUSINESS ACTIVITY'].str.contains('\\|'))\n",
    "aggregate = business.groupby('CENSUS_TRACT')['BUSINESS ACTIVITY NA'].agg(['sum','count'])"
   ]
  },
  {
   "cell_type": "code",
   "execution_count": 296,
   "id": "bb7c0b63",
   "metadata": {},
   "outputs": [],
   "source": [
    "aggregate['perc'] = 0.126 - aggregate['sum']/(aggregate['count'])  #the county mean\n",
    "aggregate = aggregate.drop(columns=['sum','count'])\n",
    "plot_df = merged.merge(aggregate, \\\n",
    "                       left_on=['GEOID'], \\\n",
    "                       right_on=['CENSUS_TRACT'])\n",
    "aggregate.reset_index()\n",
    "aggregate['perc'] += 0.0"
   ]
  },
  {
   "cell_type": "markdown",
   "id": "257895e2",
   "metadata": {},
   "source": [
    "We can see that there are geographic unevenly distributed missing values in the city."
   ]
  },
  {
   "cell_type": "code",
   "execution_count": 297,
   "id": "2cb1dca9",
   "metadata": {},
   "outputs": [
    {
     "data": {
      "text/plain": [
       "<AxesSubplot:>"
      ]
     },
     "execution_count": 297,
     "metadata": {},
     "output_type": "execute_result"
    },
    {
     "data": {
      "image/png": "[encoded data removed]",
      "text/plain": [
       "<Figure size 432x288 with 2 Axes>"
      ]
     },
     "metadata": {
      "needs_background": "light"
     },
     "output_type": "display_data"
    }
   ],
   "source": [
    "from matplotlib import cm\n",
    "\n",
    "plot_df.plot(column='perc', cmap = 'PuOr', \\\n",
    "             legend=True, vmin=-0.3,vmax=0.3)"
   ]
  },
  {
   "cell_type": "code",
   "execution_count": 298,
   "id": "854fc79a",
   "metadata": {},
   "outputs": [
    {
     "data": {
      "text/html": [
       "<div>\n",
       "<style scoped>\n",
       "    .dataframe tbody tr th:only-of-type {\n",
       "        vertical-align: middle;\n",
       "    }\n",
       "\n",
       "    .dataframe tbody tr th {\n",
       "        vertical-align: top;\n",
       "    }\n",
       "\n",
       "    .dataframe thead th {\n",
       "        text-align: right;\n",
       "    }\n",
       "</style>\n",
       "<table border=\"1\" class=\"dataframe\">\n",
       "  <thead>\n",
       "    <tr style=\"text-align: right;\">\n",
       "      <th></th>\n",
       "      <th>perc</th>\n",
       "      <th>SE_A14006_001</th>\n",
       "    </tr>\n",
       "  </thead>\n",
       "  <tbody>\n",
       "    <tr>\n",
       "      <th>perc</th>\n",
       "      <td>1.000000</td>\n",
       "      <td>-0.097369</td>\n",
       "    </tr>\n",
       "    <tr>\n",
       "      <th>SE_A14006_001</th>\n",
       "      <td>-0.097369</td>\n",
       "      <td>1.000000</td>\n",
       "    </tr>\n",
       "  </tbody>\n",
       "</table>\n",
       "</div>"
      ],
      "text/plain": [
       "                   perc  SE_A14006_001\n",
       "perc           1.000000      -0.097369\n",
       "SE_A14006_001 -0.097369       1.000000"
      ]
     },
     "execution_count": 298,
     "metadata": {},
     "output_type": "execute_result"
    }
   ],
   "source": [
    "plot_df[['perc','SE_A14006_001']].corr()\n",
    "#missing values have slight negative correlation with median income."
   ]
  },
  {
   "cell_type": "markdown",
   "id": "a48a3f37",
   "metadata": {},
   "source": [
    "We can do the same analysis for imprecise activity tags."
   ]
  },
  {
   "cell_type": "code",
   "execution_count": 299,
   "id": "15e0ad95",
   "metadata": {},
   "outputs": [
    {
     "data": {
      "text/plain": [
       "<AxesSubplot:>"
      ]
     },
     "execution_count": 299,
     "metadata": {},
     "output_type": "execute_result"
    },
    {
     "data": {
      "image/png": "[encoded data removed]",
      "text/plain": [
       "<Figure size 432x288 with 2 Axes>"
      ]
     },
     "metadata": {
      "needs_background": "light"
     },
     "output_type": "display_data"
    }
   ],
   "source": [
    "business['BUSINESS ACTIVITY NA'] = (~(business['BUSINESS ACTIVITY'].isna())) & (business['BUSINESS ACTIVITY'].str.contains('\\|'))\n",
    "aggregate = business.groupby('CENSUS_TRACT')['BUSINESS ACTIVITY NA'].agg(['sum','count'])\n",
    "aggregate['perc'] = 0.167 - aggregate['sum']/(aggregate['count'])  #the county mean\n",
    "aggregate = aggregate.drop(columns=['sum','count'])\n",
    "plot_df = merged.merge(aggregate, \\\n",
    "                       left_on=['GEOID'], \\\n",
    "                       right_on=['CENSUS_TRACT'])\n",
    "aggregate.reset_index()\n",
    "aggregate['perc'] += 0.0\n",
    "\n",
    "plot_df.plot(column='perc', cmap = 'PuOr', \\\n",
    "             legend=True, vmin=-0.4,vmax=0.4)"
   ]
  },
  {
   "cell_type": "code",
   "execution_count": 300,
   "id": "f7be1f97",
   "metadata": {},
   "outputs": [
    {
     "data": {
      "text/html": [
       "<div>\n",
       "<style scoped>\n",
       "    .dataframe tbody tr th:only-of-type {\n",
       "        vertical-align: middle;\n",
       "    }\n",
       "\n",
       "    .dataframe tbody tr th {\n",
       "        vertical-align: top;\n",
       "    }\n",
       "\n",
       "    .dataframe thead th {\n",
       "        text-align: right;\n",
       "    }\n",
       "</style>\n",
       "<table border=\"1\" class=\"dataframe\">\n",
       "  <thead>\n",
       "    <tr style=\"text-align: right;\">\n",
       "      <th></th>\n",
       "      <th>perc</th>\n",
       "      <th>PERC_AA</th>\n",
       "    </tr>\n",
       "  </thead>\n",
       "  <tbody>\n",
       "    <tr>\n",
       "      <th>perc</th>\n",
       "      <td>1.000000</td>\n",
       "      <td>-0.174337</td>\n",
       "    </tr>\n",
       "    <tr>\n",
       "      <th>PERC_AA</th>\n",
       "      <td>-0.174337</td>\n",
       "      <td>1.000000</td>\n",
       "    </tr>\n",
       "  </tbody>\n",
       "</table>\n",
       "</div>"
      ],
      "text/plain": [
       "             perc   PERC_AA\n",
       "perc     1.000000 -0.174337\n",
       "PERC_AA -0.174337  1.000000"
      ]
     },
     "execution_count": 300,
     "metadata": {},
     "output_type": "execute_result"
    }
   ],
   "source": [
    "plot_df[['perc','PERC_AA']].corr() \n",
    "#imprecise data has a stronger negative correlation with AA neighborhoods."
   ]
  },
  {
   "cell_type": "markdown",
   "id": "2cc5c048",
   "metadata": {},
   "source": []
  },
  {
   "cell_type": "code",
   "execution_count": 307,
   "id": "eee6d932",
   "metadata": {},
   "outputs": [],
   "source": [
    "import rtree\n",
    "from shapely.geometry import shape\n",
    "\n",
    "idx = rtree.index.Index()\n",
    "\n",
    "for j in range(P):# iterate through all businesses\n",
    "    census_tract = merged.iloc[j]\n",
    "    geometry = shape(census_tract['geometry'])\n",
    "    idx.insert(fid, geometry.bounds)\n",
    "\n",
    "\n",
    "for i in range(N):# iterate through all businesses\n",
    "    \n",
    "    b = business.iloc[i]\n",
    "    lat = b['LATITUDE']\n",
    "    long= b['LONGITUDE']\n",
    "    \n",
    "    if i%1000 == 0:\n",
    "        print('Finished',i)\n",
    "    \n",
    "    if np.isnan(lat) or np.isnan(long):\n",
    "        continue\n",
    "    \n",
    "    fids = [int(i) for i in idx.intersection(Point(long,lat).bounds)]"
   ]
  }
 ],
 "metadata": {
  "kernelspec": {
   "display_name": "Python 3 (ipykernel)",
   "language": "python",
   "name": "python3"
  },
  "language_info": {
   "codemirror_mode": {
    "name": "ipython",
    "version": 3
   },
   "file_extension": ".py",
   "mimetype": "text/x-python",
   "name": "python",
   "nbconvert_exporter": "python",
   "pygments_lexer": "ipython3",
   "version": "3.9.4"
  }
 },
 "nbformat": 4,
 "nbformat_minor": 5
}
